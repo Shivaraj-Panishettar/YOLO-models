{
  "nbformat": 4,
  "nbformat_minor": 0,
  "metadata": {
    "colab": {
      "provenance": [],
      "gpuType": "T4"
    },
    "kernelspec": {
      "name": "python3",
      "display_name": "Python 3"
    },
    "language_info": {
      "name": "python"
    },
    "accelerator": "GPU"
  },
  "cells": [
    {
      "cell_type": "code",
      "execution_count": 1,
      "metadata": {
        "colab": {
          "base_uri": "https://localhost:8080/"
        },
        "id": "K_hhHgHOe142",
        "outputId": "b5e34623-8daa-45a2-caaf-6615f2c0e8b3"
      },
      "outputs": [
        {
          "output_type": "stream",
          "name": "stdout",
          "text": [
            "Mounted at /content/drive\n"
          ]
        }
      ],
      "source": [
        "# Cell 1: Setup & Install\n",
        "from google.colab import drive\n",
        "drive.mount('/content/drive')\n",
        "\n"
      ]
    },
    {
      "cell_type": "code",
      "source": [
        "# Install required libraries\n",
        "!pip install ultralytics python-docx"
      ],
      "metadata": {
        "colab": {
          "base_uri": "https://localhost:8080/"
        },
        "id": "x7ZRPre5fDHE",
        "outputId": "0c53d7de-5aa4-4cd7-8db1-cf0b58592e41"
      },
      "execution_count": 2,
      "outputs": [
        {
          "output_type": "stream",
          "name": "stdout",
          "text": [
            "Collecting ultralytics\n",
            "  Downloading ultralytics-8.3.182-py3-none-any.whl.metadata (37 kB)\n",
            "Collecting python-docx\n",
            "  Downloading python_docx-1.2.0-py3-none-any.whl.metadata (2.0 kB)\n",
            "Requirement already satisfied: numpy>=1.23.0 in /usr/local/lib/python3.12/dist-packages (from ultralytics) (2.0.2)\n",
            "Requirement already satisfied: matplotlib>=3.3.0 in /usr/local/lib/python3.12/dist-packages (from ultralytics) (3.10.0)\n",
            "Requirement already satisfied: opencv-python>=4.6.0 in /usr/local/lib/python3.12/dist-packages (from ultralytics) (4.12.0.88)\n",
            "Requirement already satisfied: pillow>=7.1.2 in /usr/local/lib/python3.12/dist-packages (from ultralytics) (11.3.0)\n",
            "Requirement already satisfied: pyyaml>=5.3.1 in /usr/local/lib/python3.12/dist-packages (from ultralytics) (6.0.2)\n",
            "Requirement already satisfied: requests>=2.23.0 in /usr/local/lib/python3.12/dist-packages (from ultralytics) (2.32.4)\n",
            "Requirement already satisfied: scipy>=1.4.1 in /usr/local/lib/python3.12/dist-packages (from ultralytics) (1.16.1)\n",
            "Requirement already satisfied: torch>=1.8.0 in /usr/local/lib/python3.12/dist-packages (from ultralytics) (2.8.0+cu126)\n",
            "Requirement already satisfied: torchvision>=0.9.0 in /usr/local/lib/python3.12/dist-packages (from ultralytics) (0.23.0+cu126)\n",
            "Requirement already satisfied: tqdm>=4.64.0 in /usr/local/lib/python3.12/dist-packages (from ultralytics) (4.67.1)\n",
            "Requirement already satisfied: psutil in /usr/local/lib/python3.12/dist-packages (from ultralytics) (5.9.5)\n",
            "Requirement already satisfied: py-cpuinfo in /usr/local/lib/python3.12/dist-packages (from ultralytics) (9.0.0)\n",
            "Requirement already satisfied: pandas>=1.1.4 in /usr/local/lib/python3.12/dist-packages (from ultralytics) (2.2.2)\n",
            "Collecting ultralytics-thop>=2.0.0 (from ultralytics)\n",
            "  Downloading ultralytics_thop-2.0.16-py3-none-any.whl.metadata (14 kB)\n",
            "Requirement already satisfied: lxml>=3.1.0 in /usr/local/lib/python3.12/dist-packages (from python-docx) (5.4.0)\n",
            "Requirement already satisfied: typing_extensions>=4.9.0 in /usr/local/lib/python3.12/dist-packages (from python-docx) (4.14.1)\n",
            "Requirement already satisfied: contourpy>=1.0.1 in /usr/local/lib/python3.12/dist-packages (from matplotlib>=3.3.0->ultralytics) (1.3.3)\n",
            "Requirement already satisfied: cycler>=0.10 in /usr/local/lib/python3.12/dist-packages (from matplotlib>=3.3.0->ultralytics) (0.12.1)\n",
            "Requirement already satisfied: fonttools>=4.22.0 in /usr/local/lib/python3.12/dist-packages (from matplotlib>=3.3.0->ultralytics) (4.59.1)\n",
            "Requirement already satisfied: kiwisolver>=1.3.1 in /usr/local/lib/python3.12/dist-packages (from matplotlib>=3.3.0->ultralytics) (1.4.9)\n",
            "Requirement already satisfied: packaging>=20.0 in /usr/local/lib/python3.12/dist-packages (from matplotlib>=3.3.0->ultralytics) (25.0)\n",
            "Requirement already satisfied: pyparsing>=2.3.1 in /usr/local/lib/python3.12/dist-packages (from matplotlib>=3.3.0->ultralytics) (3.2.3)\n",
            "Requirement already satisfied: python-dateutil>=2.7 in /usr/local/lib/python3.12/dist-packages (from matplotlib>=3.3.0->ultralytics) (2.9.0.post0)\n",
            "Requirement already satisfied: pytz>=2020.1 in /usr/local/lib/python3.12/dist-packages (from pandas>=1.1.4->ultralytics) (2025.2)\n",
            "Requirement already satisfied: tzdata>=2022.7 in /usr/local/lib/python3.12/dist-packages (from pandas>=1.1.4->ultralytics) (2025.2)\n",
            "Requirement already satisfied: charset_normalizer<4,>=2 in /usr/local/lib/python3.12/dist-packages (from requests>=2.23.0->ultralytics) (3.4.3)\n",
            "Requirement already satisfied: idna<4,>=2.5 in /usr/local/lib/python3.12/dist-packages (from requests>=2.23.0->ultralytics) (3.10)\n",
            "Requirement already satisfied: urllib3<3,>=1.21.1 in /usr/local/lib/python3.12/dist-packages (from requests>=2.23.0->ultralytics) (2.5.0)\n",
            "Requirement already satisfied: certifi>=2017.4.17 in /usr/local/lib/python3.12/dist-packages (from requests>=2.23.0->ultralytics) (2025.8.3)\n",
            "Requirement already satisfied: filelock in /usr/local/lib/python3.12/dist-packages (from torch>=1.8.0->ultralytics) (3.19.1)\n",
            "Requirement already satisfied: setuptools in /usr/local/lib/python3.12/dist-packages (from torch>=1.8.0->ultralytics) (75.2.0)\n",
            "Requirement already satisfied: sympy>=1.13.3 in /usr/local/lib/python3.12/dist-packages (from torch>=1.8.0->ultralytics) (1.13.3)\n",
            "Requirement already satisfied: networkx in /usr/local/lib/python3.12/dist-packages (from torch>=1.8.0->ultralytics) (3.5)\n",
            "Requirement already satisfied: jinja2 in /usr/local/lib/python3.12/dist-packages (from torch>=1.8.0->ultralytics) (3.1.6)\n",
            "Requirement already satisfied: fsspec in /usr/local/lib/python3.12/dist-packages (from torch>=1.8.0->ultralytics) (2025.3.0)\n",
            "Requirement already satisfied: nvidia-cuda-nvrtc-cu12==12.6.77 in /usr/local/lib/python3.12/dist-packages (from torch>=1.8.0->ultralytics) (12.6.77)\n",
            "Requirement already satisfied: nvidia-cuda-runtime-cu12==12.6.77 in /usr/local/lib/python3.12/dist-packages (from torch>=1.8.0->ultralytics) (12.6.77)\n",
            "Requirement already satisfied: nvidia-cuda-cupti-cu12==12.6.80 in /usr/local/lib/python3.12/dist-packages (from torch>=1.8.0->ultralytics) (12.6.80)\n",
            "Requirement already satisfied: nvidia-cudnn-cu12==9.10.2.21 in /usr/local/lib/python3.12/dist-packages (from torch>=1.8.0->ultralytics) (9.10.2.21)\n",
            "Requirement already satisfied: nvidia-cublas-cu12==12.6.4.1 in /usr/local/lib/python3.12/dist-packages (from torch>=1.8.0->ultralytics) (12.6.4.1)\n",
            "Requirement already satisfied: nvidia-cufft-cu12==11.3.0.4 in /usr/local/lib/python3.12/dist-packages (from torch>=1.8.0->ultralytics) (11.3.0.4)\n",
            "Requirement already satisfied: nvidia-curand-cu12==10.3.7.77 in /usr/local/lib/python3.12/dist-packages (from torch>=1.8.0->ultralytics) (10.3.7.77)\n",
            "Requirement already satisfied: nvidia-cusolver-cu12==11.7.1.2 in /usr/local/lib/python3.12/dist-packages (from torch>=1.8.0->ultralytics) (11.7.1.2)\n",
            "Requirement already satisfied: nvidia-cusparse-cu12==12.5.4.2 in /usr/local/lib/python3.12/dist-packages (from torch>=1.8.0->ultralytics) (12.5.4.2)\n",
            "Requirement already satisfied: nvidia-cusparselt-cu12==0.7.1 in /usr/local/lib/python3.12/dist-packages (from torch>=1.8.0->ultralytics) (0.7.1)\n",
            "Requirement already satisfied: nvidia-nccl-cu12==2.27.3 in /usr/local/lib/python3.12/dist-packages (from torch>=1.8.0->ultralytics) (2.27.3)\n",
            "Requirement already satisfied: nvidia-nvtx-cu12==12.6.77 in /usr/local/lib/python3.12/dist-packages (from torch>=1.8.0->ultralytics) (12.6.77)\n",
            "Requirement already satisfied: nvidia-nvjitlink-cu12==12.6.85 in /usr/local/lib/python3.12/dist-packages (from torch>=1.8.0->ultralytics) (12.6.85)\n",
            "Requirement already satisfied: nvidia-cufile-cu12==1.11.1.6 in /usr/local/lib/python3.12/dist-packages (from torch>=1.8.0->ultralytics) (1.11.1.6)\n",
            "Requirement already satisfied: triton==3.4.0 in /usr/local/lib/python3.12/dist-packages (from torch>=1.8.0->ultralytics) (3.4.0)\n",
            "Requirement already satisfied: six>=1.5 in /usr/local/lib/python3.12/dist-packages (from python-dateutil>=2.7->matplotlib>=3.3.0->ultralytics) (1.17.0)\n",
            "Requirement already satisfied: mpmath<1.4,>=1.1.0 in /usr/local/lib/python3.12/dist-packages (from sympy>=1.13.3->torch>=1.8.0->ultralytics) (1.3.0)\n",
            "Requirement already satisfied: MarkupSafe>=2.0 in /usr/local/lib/python3.12/dist-packages (from jinja2->torch>=1.8.0->ultralytics) (3.0.2)\n",
            "Downloading ultralytics-8.3.182-py3-none-any.whl (1.0 MB)\n",
            "\u001b[2K   \u001b[90m━━━━━━━━━━━━━━━━━━━━━━━━━━━━━━━━━━━━━━━━\u001b[0m \u001b[32m1.0/1.0 MB\u001b[0m \u001b[31m31.9 MB/s\u001b[0m eta \u001b[36m0:00:00\u001b[0m\n",
            "\u001b[?25hDownloading python_docx-1.2.0-py3-none-any.whl (252 kB)\n",
            "\u001b[2K   \u001b[90m━━━━━━━━━━━━━━━━━━━━━━━━━━━━━━━━━━━━━━━━\u001b[0m \u001b[32m253.0/253.0 kB\u001b[0m \u001b[31m25.9 MB/s\u001b[0m eta \u001b[36m0:00:00\u001b[0m\n",
            "\u001b[?25hDownloading ultralytics_thop-2.0.16-py3-none-any.whl (28 kB)\n",
            "Installing collected packages: python-docx, ultralytics-thop, ultralytics\n",
            "Successfully installed python-docx-1.2.0 ultralytics-8.3.182 ultralytics-thop-2.0.16\n"
          ]
        }
      ]
    },
    {
      "cell_type": "code",
      "source": [
        "# Import necessary modules\n",
        "from ultralytics import YOLO\n",
        "from docx import Document\n",
        "import os\n",
        "import zipfile\n",
        "\n",
        "# =====================\n",
        "# Unzip datasets\n",
        "# =====================\n",
        "dataset_paths = {\n",
        "    'day': '/content/drive/MyDrive/dataset/data/carla_day.v1i.yolov8.zip',\n",
        "    'night': '/content/drive/MyDrive/dataset/data/carla_night.v1i.yolov8.zip',\n",
        "    'day_rain': '/content/drive/MyDrive/dataset/data/carla_day_rain.v1i.yolov8.zip',\n",
        "    'night_rain': '/content/drive/MyDrive/dataset/data/carla_night_rain.v1i.yolov8.zip'\n",
        "}\n",
        "\n",
        "for dataset_name, zip_path in dataset_paths.items():\n",
        "    os.makedirs(f'/content/datasets/{dataset_name}', exist_ok=True)\n",
        "    with zipfile.ZipFile(zip_path, 'r') as zip_ref:\n",
        "        zip_ref.extractall(f'/content/datasets/{dataset_name}')\n",
        "\n",
        "# =====================\n",
        "# Models to compare\n",
        "# =====================\n",
        "models = {\n",
        "    # 'YOLOv8': 'yolov8n.yaml',   # Train from scratch\n",
        "    # 'YOLOv9': 'yolov9c.yaml',   # Adjust if available\n",
        "    'YOLOv10': 'yolov10n.yaml'\n",
        "    # 'YOLOv11': 'yolov11n.yaml'\n",
        "}\n",
        "\n",
        "results_dict = {}\n",
        "output_base = '/content/outputs'\n",
        "os.makedirs(output_base, exist_ok=True)\n",
        "\n",
        "# =====================\n",
        "# Train + Evaluate Loop\n",
        "# =====================\n",
        "for dataset_name in dataset_paths:\n",
        "    data_yaml = f'/content/datasets/{dataset_name}/data.yaml'\n",
        "    results_dict[dataset_name] = {}\n",
        "\n",
        "    for model_name, model_cfg in models.items():\n",
        "        print(f\"\\nTraining and evaluating {model_name} on {dataset_name}...\\n\")\n",
        "\n",
        "        combo_folder = f'{output_base}/{dataset_name}_{model_name}'\n",
        "        os.makedirs(combo_folder, exist_ok=True)\n",
        "\n",
        "        # Initialize new model (no pretrained weights)\n",
        "        model = YOLO(model_cfg)\n",
        "\n",
        "        # Train\n",
        "        model.train(\n",
        "            data=data_yaml,\n",
        "            epochs=30,\n",
        "            imgsz=640,\n",
        "            batch=16,\n",
        "            device=0,\n",
        "            project=output_base,\n",
        "            name=f'{dataset_name}_{model_name}_train'\n",
        "        )\n",
        "\n",
        "        # Validate\n",
        "        results = model.val(\n",
        "            project=output_base,\n",
        "            name=f'{dataset_name}_{model_name}_val',\n",
        "            save=True,\n",
        "            save_txt=True,\n",
        "            save_conf=True,\n",
        "            save_json=True\n",
        "        )\n",
        "\n",
        "        # Metrics\n",
        "        map50 = results.box.map50\n",
        "        map = results.box.map\n",
        "        precision = results.box.mp\n",
        "        recall = results.box.mr\n",
        "        inference_time_ms = results.speed['inference']\n",
        "        fps = 1000 / inference_time_ms if inference_time_ms > 0 else 0\n",
        "\n",
        "        results_dict[dataset_name][model_name] = {\n",
        "            'mAP50': map50,\n",
        "            'mAP': map,\n",
        "            'Precision': precision,\n",
        "            'Recall': recall,\n",
        "            'FPS': fps\n",
        "        }\n",
        "\n",
        "        # Save metrics\n",
        "        metrics_txt = f'{combo_folder}/metrics.txt'\n",
        "        with open(metrics_txt, 'w') as f:\n",
        "            f.write(f\"mAP50: {map50}\\n\")\n",
        "            f.write(f\"mAP: {map}\\n\")\n",
        "            f.write(f\"Precision: {precision}\\n\")\n",
        "            f.write(f\"Recall: {recall}\\n\")\n",
        "            f.write(f\"FPS: {fps}\\n\")\n",
        "\n",
        "        print(f\"{model_name} on {dataset_name} Results:\")\n",
        "        print(f\"mAP50: {map50}\")\n",
        "        print(f\"mAP: {map}\")\n",
        "        print(f\"Precision: {precision}\")\n",
        "        print(f\"Recall: {recall}\")\n",
        "        print(f\"FPS: {fps}\")\n",
        "        print(f\"Outputs saved in: {combo_folder}\")\n",
        "\n",
        "# =====================\n",
        "# Save Results to Word\n",
        "# =====================\n",
        "doc = Document()\n",
        "doc.add_heading('YOLO Models Comparison Across Datasets (Trained from Scratch)', 0)\n",
        "\n",
        "for dataset_name, model_results in results_dict.items():\n",
        "    doc.add_heading(f'Results for {dataset_name} Dataset', level=1)\n",
        "\n",
        "    table = doc.add_table(rows=1, cols=6)\n",
        "    table.style = 'Table Grid'\n",
        "\n",
        "    hdr_cells = table.rows[0].cells\n",
        "    hdr_cells[0].text = 'Model'\n",
        "    hdr_cells[1].text = 'mAP50'\n",
        "    hdr_cells[2].text = 'mAP (0.5:0.95)'\n",
        "    hdr_cells[3].text = 'Precision'\n",
        "    hdr_cells[4].text = 'Recall'\n",
        "    hdr_cells[5].text = 'FPS (approx)'\n",
        "\n",
        "    for model_name, metrics in model_results.items():\n",
        "        row_cells = table.add_row().cells\n",
        "        row_cells[0].text = model_name\n",
        "        row_cells[1].text = f\"{metrics['mAP50']:.4f}\"\n",
        "        row_cells[2].text = f\"{metrics['mAP']:.4f}\"\n",
        "        row_cells[3].text = f\"{metrics['Precision']:.4f}\"\n",
        "        row_cells[4].text = f\"{metrics['Recall']:.4f}\"\n",
        "        row_cells[5].text = f\"{metrics['FPS']:.2f}\"\n",
        "\n",
        "doc.add_paragraph('\\nNotes:')\n",
        "doc.add_paragraph('- mAP50: mean Average Precision at IoU=0.5')\n",
        "doc.add_paragraph('- mAP: mean Average Precision at IoU=0.5 to 0.95')\n",
        "doc.add_paragraph('- Precision and Recall are averaged over classes')\n",
        "doc.add_paragraph('- FPS is approximate, based on validation inference time')\n",
        "doc.add_paragraph('- Models trained from scratch; performance may improve with more epochs or a larger dataset')\n",
        "doc.add_paragraph('- Outputs (predicted images, labels, metrics.txt) are in /content/outputs/{dataset_model} folders')\n",
        "\n",
        "doc_path = '/content/yolo_comparison_all_datasets.docx'\n",
        "doc.save(doc_path)\n",
        "\n",
        "print(f\"\\nResults saved to {doc_path}. Download it from Colab files.\")\n",
        "print(f\"All outputs organized in /content/outputs/ - You can browse/download from Colab's file explorer.\")\n",
        "\n",
        "# =====================\n",
        "# Zip + Download\n",
        "# =====================\n",
        "!zip -r /content/outputs.zip /content/outputs\n",
        "from google.colab import files\n",
        "files.download('/content/outputs.zip')\n",
        "files.download(doc_path)\n"
      ],
      "metadata": {
        "colab": {
          "base_uri": "https://localhost:8080/",
          "height": 1000
        },
        "id": "4JAwxSXgfE77",
        "outputId": "40cadf7d-638d-491d-abc0-89c5564fff90"
      },
      "execution_count": 4,
      "outputs": [
        {
          "output_type": "stream",
          "name": "stdout",
          "text": [
            "\n",
            "Training and evaluating YOLOv10 on day...\n",
            "\n",
            "Ultralytics 8.3.182 🚀 Python-3.12.11 torch-2.8.0+cu126 CUDA:0 (Tesla T4, 15095MiB)\n",
            "\u001b[34m\u001b[1mengine/trainer: \u001b[0magnostic_nms=False, amp=True, augment=False, auto_augment=randaugment, batch=16, bgr=0.0, box=7.5, cache=False, cfg=None, classes=None, close_mosaic=10, cls=0.5, conf=None, copy_paste=0.0, copy_paste_mode=flip, cos_lr=False, cutmix=0.0, data=/content/datasets/day/data.yaml, degrees=0.0, deterministic=True, device=0, dfl=1.5, dnn=False, dropout=0.0, dynamic=False, embed=None, epochs=30, erasing=0.4, exist_ok=False, fliplr=0.5, flipud=0.0, format=torchscript, fraction=1.0, freeze=None, half=False, hsv_h=0.015, hsv_s=0.7, hsv_v=0.4, imgsz=640, int8=False, iou=0.7, keras=False, kobj=1.0, line_width=None, lr0=0.01, lrf=0.01, mask_ratio=4, max_det=300, mixup=0.0, mode=train, model=yolov10n.yaml, momentum=0.937, mosaic=1.0, multi_scale=False, name=day_YOLOv10_train, nbs=64, nms=False, opset=None, optimize=False, optimizer=auto, overlap_mask=True, patience=100, perspective=0.0, plots=True, pose=12.0, pretrained=True, profile=False, project=/content/outputs, rect=False, resume=False, retina_masks=False, save=True, save_conf=False, save_crop=False, save_dir=/content/outputs/day_YOLOv10_train, save_frames=False, save_json=False, save_period=-1, save_txt=False, scale=0.5, seed=0, shear=0.0, show=False, show_boxes=True, show_conf=True, show_labels=True, simplify=True, single_cls=False, source=None, split=val, stream_buffer=False, task=detect, time=None, tracker=botsort.yaml, translate=0.1, val=True, verbose=True, vid_stride=1, visualize=False, warmup_bias_lr=0.1, warmup_epochs=3.0, warmup_momentum=0.8, weight_decay=0.0005, workers=8, workspace=None\n"
          ]
        },
        {
          "output_type": "stream",
          "name": "stderr",
          "text": [
            "Downloading https://ultralytics.com/assets/Arial.ttf to '/root/.config/Ultralytics/Arial.ttf': 100%|██████████| 755k/755k [00:00<00:00, 25.5MB/s]"
          ]
        },
        {
          "output_type": "stream",
          "name": "stdout",
          "text": [
            "Overriding model.yaml nc=80 with nc=4\n",
            "\n",
            "                   from  n    params  module                                       arguments                     \n",
            "  0                  -1  1       464  ultralytics.nn.modules.conv.Conv             [3, 16, 3, 2]                 \n",
            "  1                  -1  1      4672  ultralytics.nn.modules.conv.Conv             [16, 32, 3, 2]                \n",
            "  2                  -1  1      7360  ultralytics.nn.modules.block.C2f             [32, 32, 1, True]             \n",
            "  3                  -1  1     18560  ultralytics.nn.modules.conv.Conv             [32, 64, 3, 2]                \n",
            "  4                  -1  2     49664  ultralytics.nn.modules.block.C2f             [64, 64, 2, True]             \n",
            "  5                  -1  1      9856  ultralytics.nn.modules.block.SCDown          [64, 128, 3, 2]               \n",
            "  6                  -1  2    197632  ultralytics.nn.modules.block.C2f             [128, 128, 2, True]           \n",
            "  7                  -1  1     36096  ultralytics.nn.modules.block.SCDown          [128, 256, 3, 2]              \n",
            "  8                  -1  1    460288  ultralytics.nn.modules.block.C2f             [256, 256, 1, True]           \n",
            "  9                  -1  1    164608  ultralytics.nn.modules.block.SPPF            [256, 256, 5]                 \n",
            " 10                  -1  1    249728  ultralytics.nn.modules.block.PSA             [256, 256]                    \n",
            " 11                  -1  1         0  torch.nn.modules.upsampling.Upsample         [None, 2, 'nearest']          \n",
            " 12             [-1, 6]  1         0  ultralytics.nn.modules.conv.Concat           [1]                           \n",
            " 13                  -1  1    148224  ultralytics.nn.modules.block.C2f             [384, 128, 1]                 \n",
            " 14                  -1  1         0  torch.nn.modules.upsampling.Upsample         [None, 2, 'nearest']          \n",
            " 15             [-1, 4]  1         0  ultralytics.nn.modules.conv.Concat           [1]                           \n",
            " 16                  -1  1     37248  ultralytics.nn.modules.block.C2f             [192, 64, 1]                  \n",
            " 17                  -1  1     36992  ultralytics.nn.modules.conv.Conv             [64, 64, 3, 2]                \n",
            " 18            [-1, 13]  1         0  ultralytics.nn.modules.conv.Concat           [1]                           \n",
            " 19                  -1  1    123648  ultralytics.nn.modules.block.C2f             [192, 128, 1]                 \n",
            " 20                  -1  1     18048  ultralytics.nn.modules.block.SCDown          [128, 128, 3, 2]              \n",
            " 21            [-1, 10]  1         0  ultralytics.nn.modules.conv.Concat           [1]                           \n",
            " 22                  -1  1    282624  ultralytics.nn.modules.block.C2fCIB          [384, 256, 1, True, True]     \n",
            " 23        [16, 19, 22]  1    862888  ultralytics.nn.modules.head.v10Detect        [4, [64, 128, 256]]           \n"
          ]
        },
        {
          "output_type": "stream",
          "name": "stderr",
          "text": [
            "\n"
          ]
        },
        {
          "output_type": "stream",
          "name": "stdout",
          "text": [
            "YOLOv10n summary: 223 layers, 2,708,600 parameters, 2,708,584 gradients, 8.4 GFLOPs\n",
            "\n",
            "Freezing layer 'model.23.dfl.conv.weight'\n",
            "\u001b[34m\u001b[1mAMP: \u001b[0mrunning Automatic Mixed Precision (AMP) checks...\n"
          ]
        },
        {
          "output_type": "stream",
          "name": "stderr",
          "text": [
            "Downloading https://github.com/ultralytics/assets/releases/download/v8.3.0/yolo11n.pt to 'yolo11n.pt': 100%|██████████| 5.35M/5.35M [00:00<00:00, 63.6MB/s]\n"
          ]
        },
        {
          "output_type": "stream",
          "name": "stdout",
          "text": [
            "\u001b[34m\u001b[1mAMP: \u001b[0mchecks passed ✅\n",
            "\u001b[34m\u001b[1mtrain: \u001b[0mFast image access ✅ (ping: 0.0±0.0 ms, read: 2157.9±775.1 MB/s, size: 85.1 KB)\n"
          ]
        },
        {
          "output_type": "stream",
          "name": "stderr",
          "text": [
            "\u001b[34m\u001b[1mtrain: \u001b[0mScanning /content/datasets/day/train/labels... 2100 images, 42 backgrounds, 0 corrupt: 100%|██████████| 2100/2100 [00:00<00:00, 2484.54it/s]"
          ]
        },
        {
          "output_type": "stream",
          "name": "stdout",
          "text": [
            "\u001b[34m\u001b[1mtrain: \u001b[0mNew cache created: /content/datasets/day/train/labels.cache\n"
          ]
        },
        {
          "output_type": "stream",
          "name": "stderr",
          "text": [
            "\n"
          ]
        },
        {
          "output_type": "stream",
          "name": "stdout",
          "text": [
            "\u001b[34m\u001b[1malbumentations: \u001b[0mBlur(p=0.01, blur_limit=(3, 7)), MedianBlur(p=0.01, blur_limit=(3, 7)), ToGray(p=0.01, method='weighted_average', num_output_channels=3), CLAHE(p=0.01, clip_limit=(1.0, 4.0), tile_grid_size=(8, 8))\n",
            "\u001b[34m\u001b[1mval: \u001b[0mFast image access ✅ (ping: 0.0±0.0 ms, read: 715.5±529.1 MB/s, size: 69.9 KB)\n"
          ]
        },
        {
          "output_type": "stream",
          "name": "stderr",
          "text": [
            "\u001b[34m\u001b[1mval: \u001b[0mScanning /content/datasets/day/valid/labels... 200 images, 3 backgrounds, 0 corrupt: 100%|██████████| 200/200 [00:00<00:00, 2011.44it/s]"
          ]
        },
        {
          "output_type": "stream",
          "name": "stdout",
          "text": [
            "\u001b[34m\u001b[1mval: \u001b[0mNew cache created: /content/datasets/day/valid/labels.cache\n"
          ]
        },
        {
          "output_type": "stream",
          "name": "stderr",
          "text": [
            "\n"
          ]
        },
        {
          "output_type": "stream",
          "name": "stdout",
          "text": [
            "Plotting labels to /content/outputs/day_YOLOv10_train/labels.jpg... \n",
            "\u001b[34m\u001b[1moptimizer:\u001b[0m 'optimizer=auto' found, ignoring 'lr0=0.01' and 'momentum=0.937' and determining best 'optimizer', 'lr0' and 'momentum' automatically... \n",
            "\u001b[34m\u001b[1moptimizer:\u001b[0m AdamW(lr=0.00125, momentum=0.9) with parameter groups 95 weight(decay=0.0), 108 weight(decay=0.0005), 107 bias(decay=0.0)\n",
            "Image sizes 640 train, 640 val\n",
            "Using 2 dataloader workers\n",
            "Logging results to \u001b[1m/content/outputs/day_YOLOv10_train\u001b[0m\n",
            "Starting training for 30 epochs...\n",
            "\n",
            "      Epoch    GPU_mem   box_loss   cls_loss   dfl_loss  Instances       Size\n"
          ]
        },
        {
          "output_type": "stream",
          "name": "stderr",
          "text": [
            "       1/30      2.88G      6.408       14.3      8.289         21        640: 100%|██████████| 132/132 [01:02<00:00,  2.12it/s]\n",
            "                 Class     Images  Instances      Box(P          R      mAP50  mAP50-95): 100%|██████████| 7/7 [00:09<00:00,  1.34s/it]"
          ]
        },
        {
          "output_type": "stream",
          "name": "stdout",
          "text": [
            "                   all        200        619      0.783     0.0297    0.00805    0.00497\n"
          ]
        },
        {
          "output_type": "stream",
          "name": "stderr",
          "text": [
            "\n"
          ]
        },
        {
          "output_type": "stream",
          "name": "stdout",
          "text": [
            "\n",
            "      Epoch    GPU_mem   box_loss   cls_loss   dfl_loss  Instances       Size\n"
          ]
        },
        {
          "output_type": "stream",
          "name": "stderr",
          "text": [
            "       2/30      3.35G      4.931      8.355      5.771         22        640: 100%|██████████| 132/132 [00:41<00:00,  3.16it/s]\n",
            "                 Class     Images  Instances      Box(P          R      mAP50  mAP50-95): 100%|██████████| 7/7 [00:01<00:00,  4.77it/s]"
          ]
        },
        {
          "output_type": "stream",
          "name": "stdout",
          "text": [
            "                   all        200        619       0.55     0.0605     0.0213    0.00726\n"
          ]
        },
        {
          "output_type": "stream",
          "name": "stderr",
          "text": [
            "\n"
          ]
        },
        {
          "output_type": "stream",
          "name": "stdout",
          "text": [
            "\n",
            "      Epoch    GPU_mem   box_loss   cls_loss   dfl_loss  Instances       Size\n"
          ]
        },
        {
          "output_type": "stream",
          "name": "stderr",
          "text": [
            "       3/30      3.37G      4.081      5.394      4.255         29        640: 100%|██████████| 132/132 [00:41<00:00,  3.18it/s]\n",
            "                 Class     Images  Instances      Box(P          R      mAP50  mAP50-95): 100%|██████████| 7/7 [00:01<00:00,  4.64it/s]"
          ]
        },
        {
          "output_type": "stream",
          "name": "stdout",
          "text": [
            "                   all        200        619      0.644      0.134      0.122     0.0757\n"
          ]
        },
        {
          "output_type": "stream",
          "name": "stderr",
          "text": [
            "\n"
          ]
        },
        {
          "output_type": "stream",
          "name": "stdout",
          "text": [
            "\n",
            "      Epoch    GPU_mem   box_loss   cls_loss   dfl_loss  Instances       Size\n"
          ]
        },
        {
          "output_type": "stream",
          "name": "stderr",
          "text": [
            "       4/30      3.38G      3.495       4.15      3.604          9        640: 100%|██████████| 132/132 [00:41<00:00,  3.18it/s]\n",
            "                 Class     Images  Instances      Box(P          R      mAP50  mAP50-95): 100%|██████████| 7/7 [00:01<00:00,  4.73it/s]"
          ]
        },
        {
          "output_type": "stream",
          "name": "stdout",
          "text": [
            "                   all        200        619      0.735      0.231      0.208      0.126\n"
          ]
        },
        {
          "output_type": "stream",
          "name": "stderr",
          "text": [
            "\n"
          ]
        },
        {
          "output_type": "stream",
          "name": "stdout",
          "text": [
            "\n",
            "      Epoch    GPU_mem   box_loss   cls_loss   dfl_loss  Instances       Size\n"
          ]
        },
        {
          "output_type": "stream",
          "name": "stderr",
          "text": [
            "       5/30       3.4G      3.171      3.516      3.239         16        640: 100%|██████████| 132/132 [00:41<00:00,  3.20it/s]\n",
            "                 Class     Images  Instances      Box(P          R      mAP50  mAP50-95): 100%|██████████| 7/7 [00:01<00:00,  4.45it/s]"
          ]
        },
        {
          "output_type": "stream",
          "name": "stdout",
          "text": [
            "                   all        200        619      0.492       0.26      0.263      0.171\n"
          ]
        },
        {
          "output_type": "stream",
          "name": "stderr",
          "text": [
            "\n"
          ]
        },
        {
          "output_type": "stream",
          "name": "stdout",
          "text": [
            "\n",
            "      Epoch    GPU_mem   box_loss   cls_loss   dfl_loss  Instances       Size\n"
          ]
        },
        {
          "output_type": "stream",
          "name": "stderr",
          "text": [
            "       6/30      3.42G      2.919      3.067      3.041         28        640: 100%|██████████| 132/132 [00:41<00:00,  3.20it/s]\n",
            "                 Class     Images  Instances      Box(P          R      mAP50  mAP50-95): 100%|██████████| 7/7 [00:01<00:00,  4.73it/s]"
          ]
        },
        {
          "output_type": "stream",
          "name": "stdout",
          "text": [
            "                   all        200        619      0.736      0.264      0.253      0.153\n"
          ]
        },
        {
          "output_type": "stream",
          "name": "stderr",
          "text": [
            "\n"
          ]
        },
        {
          "output_type": "stream",
          "name": "stdout",
          "text": [
            "\n",
            "      Epoch    GPU_mem   box_loss   cls_loss   dfl_loss  Instances       Size\n"
          ]
        },
        {
          "output_type": "stream",
          "name": "stderr",
          "text": [
            "       7/30      3.43G      2.767      2.831      2.924         26        640: 100%|██████████| 132/132 [00:41<00:00,  3.19it/s]\n",
            "                 Class     Images  Instances      Box(P          R      mAP50  mAP50-95): 100%|██████████| 7/7 [00:01<00:00,  4.76it/s]"
          ]
        },
        {
          "output_type": "stream",
          "name": "stdout",
          "text": [
            "                   all        200        619      0.779      0.305      0.317      0.217\n"
          ]
        },
        {
          "output_type": "stream",
          "name": "stderr",
          "text": [
            "\n"
          ]
        },
        {
          "output_type": "stream",
          "name": "stdout",
          "text": [
            "\n",
            "      Epoch    GPU_mem   box_loss   cls_loss   dfl_loss  Instances       Size\n"
          ]
        },
        {
          "output_type": "stream",
          "name": "stderr",
          "text": [
            "       8/30      3.45G      2.635      2.634      2.797          7        640: 100%|██████████| 132/132 [00:41<00:00,  3.19it/s]\n",
            "                 Class     Images  Instances      Box(P          R      mAP50  mAP50-95): 100%|██████████| 7/7 [00:01<00:00,  4.72it/s]"
          ]
        },
        {
          "output_type": "stream",
          "name": "stdout",
          "text": [
            "                   all        200        619      0.837      0.309      0.358      0.253\n"
          ]
        },
        {
          "output_type": "stream",
          "name": "stderr",
          "text": [
            "\n"
          ]
        },
        {
          "output_type": "stream",
          "name": "stdout",
          "text": [
            "\n",
            "      Epoch    GPU_mem   box_loss   cls_loss   dfl_loss  Instances       Size\n"
          ]
        },
        {
          "output_type": "stream",
          "name": "stderr",
          "text": [
            "       9/30      3.46G      2.453      2.371      2.676         15        640: 100%|██████████| 132/132 [00:41<00:00,  3.17it/s]\n",
            "                 Class     Images  Instances      Box(P          R      mAP50  mAP50-95): 100%|██████████| 7/7 [00:01<00:00,  4.09it/s]\n"
          ]
        },
        {
          "output_type": "stream",
          "name": "stdout",
          "text": [
            "                   all        200        619      0.822       0.33      0.407       0.28\n",
            "\n",
            "      Epoch    GPU_mem   box_loss   cls_loss   dfl_loss  Instances       Size\n"
          ]
        },
        {
          "output_type": "stream",
          "name": "stderr",
          "text": [
            "      10/30      3.48G        2.4      2.246       2.61         26        640: 100%|██████████| 132/132 [00:41<00:00,  3.22it/s]\n",
            "                 Class     Images  Instances      Box(P          R      mAP50  mAP50-95): 100%|██████████| 7/7 [00:02<00:00,  3.49it/s]\n"
          ]
        },
        {
          "output_type": "stream",
          "name": "stdout",
          "text": [
            "                   all        200        619      0.627      0.414      0.416      0.294\n",
            "\n",
            "      Epoch    GPU_mem   box_loss   cls_loss   dfl_loss  Instances       Size\n"
          ]
        },
        {
          "output_type": "stream",
          "name": "stderr",
          "text": [
            "      11/30       3.5G      2.297      2.148      2.555         16        640: 100%|██████████| 132/132 [00:41<00:00,  3.21it/s]\n",
            "                 Class     Images  Instances      Box(P          R      mAP50  mAP50-95): 100%|██████████| 7/7 [00:02<00:00,  3.17it/s]\n"
          ]
        },
        {
          "output_type": "stream",
          "name": "stdout",
          "text": [
            "                   all        200        619      0.595       0.44      0.421      0.291\n",
            "\n",
            "      Epoch    GPU_mem   box_loss   cls_loss   dfl_loss  Instances       Size\n"
          ]
        },
        {
          "output_type": "stream",
          "name": "stderr",
          "text": [
            "      12/30      3.51G      2.268      2.076      2.512         24        640: 100%|██████████| 132/132 [00:40<00:00,  3.26it/s]\n",
            "                 Class     Images  Instances      Box(P          R      mAP50  mAP50-95): 100%|██████████| 7/7 [00:02<00:00,  3.11it/s]"
          ]
        },
        {
          "output_type": "stream",
          "name": "stdout",
          "text": [
            "                   all        200        619      0.784      0.387      0.481      0.341\n"
          ]
        },
        {
          "output_type": "stream",
          "name": "stderr",
          "text": [
            "\n"
          ]
        },
        {
          "output_type": "stream",
          "name": "stdout",
          "text": [
            "\n",
            "      Epoch    GPU_mem   box_loss   cls_loss   dfl_loss  Instances       Size\n"
          ]
        },
        {
          "output_type": "stream",
          "name": "stderr",
          "text": [
            "      13/30      3.52G      2.201      2.002      2.482         22        640: 100%|██████████| 132/132 [00:40<00:00,  3.24it/s]\n",
            "                 Class     Images  Instances      Box(P          R      mAP50  mAP50-95): 100%|██████████| 7/7 [00:01<00:00,  3.93it/s]"
          ]
        },
        {
          "output_type": "stream",
          "name": "stdout",
          "text": [
            "                   all        200        619      0.778      0.389      0.492      0.345\n"
          ]
        },
        {
          "output_type": "stream",
          "name": "stderr",
          "text": [
            "\n"
          ]
        },
        {
          "output_type": "stream",
          "name": "stdout",
          "text": [
            "\n",
            "      Epoch    GPU_mem   box_loss   cls_loss   dfl_loss  Instances       Size\n"
          ]
        },
        {
          "output_type": "stream",
          "name": "stderr",
          "text": [
            "      14/30      3.54G      2.128      1.917      2.424         18        640: 100%|██████████| 132/132 [00:41<00:00,  3.20it/s]\n",
            "                 Class     Images  Instances      Box(P          R      mAP50  mAP50-95): 100%|██████████| 7/7 [00:01<00:00,  4.80it/s]"
          ]
        },
        {
          "output_type": "stream",
          "name": "stdout",
          "text": [
            "                   all        200        619      0.385      0.517      0.503      0.366\n"
          ]
        },
        {
          "output_type": "stream",
          "name": "stderr",
          "text": [
            "\n"
          ]
        },
        {
          "output_type": "stream",
          "name": "stdout",
          "text": [
            "\n",
            "      Epoch    GPU_mem   box_loss   cls_loss   dfl_loss  Instances       Size\n"
          ]
        },
        {
          "output_type": "stream",
          "name": "stderr",
          "text": [
            "      15/30      3.56G      2.084      1.861      2.384         18        640: 100%|██████████| 132/132 [00:41<00:00,  3.20it/s]\n",
            "                 Class     Images  Instances      Box(P          R      mAP50  mAP50-95): 100%|██████████| 7/7 [00:01<00:00,  4.59it/s]"
          ]
        },
        {
          "output_type": "stream",
          "name": "stdout",
          "text": [
            "                   all        200        619      0.445      0.575      0.511      0.368\n"
          ]
        },
        {
          "output_type": "stream",
          "name": "stderr",
          "text": [
            "\n"
          ]
        },
        {
          "output_type": "stream",
          "name": "stdout",
          "text": [
            "\n",
            "      Epoch    GPU_mem   box_loss   cls_loss   dfl_loss  Instances       Size\n"
          ]
        },
        {
          "output_type": "stream",
          "name": "stderr",
          "text": [
            "      16/30      3.57G      2.056      1.805      2.365         14        640: 100%|██████████| 132/132 [00:41<00:00,  3.18it/s]\n",
            "                 Class     Images  Instances      Box(P          R      mAP50  mAP50-95): 100%|██████████| 7/7 [00:01<00:00,  4.73it/s]"
          ]
        },
        {
          "output_type": "stream",
          "name": "stdout",
          "text": [
            "                   all        200        619      0.467      0.536      0.566      0.402\n"
          ]
        },
        {
          "output_type": "stream",
          "name": "stderr",
          "text": [
            "\n"
          ]
        },
        {
          "output_type": "stream",
          "name": "stdout",
          "text": [
            "\n",
            "      Epoch    GPU_mem   box_loss   cls_loss   dfl_loss  Instances       Size\n"
          ]
        },
        {
          "output_type": "stream",
          "name": "stderr",
          "text": [
            "      17/30      3.59G      1.994      1.717      2.329         14        640: 100%|██████████| 132/132 [00:41<00:00,  3.18it/s]\n",
            "                 Class     Images  Instances      Box(P          R      mAP50  mAP50-95): 100%|██████████| 7/7 [00:01<00:00,  4.37it/s]"
          ]
        },
        {
          "output_type": "stream",
          "name": "stdout",
          "text": [
            "                   all        200        619      0.519      0.515      0.532      0.395\n"
          ]
        },
        {
          "output_type": "stream",
          "name": "stderr",
          "text": [
            "\n"
          ]
        },
        {
          "output_type": "stream",
          "name": "stdout",
          "text": [
            "\n",
            "      Epoch    GPU_mem   box_loss   cls_loss   dfl_loss  Instances       Size\n"
          ]
        },
        {
          "output_type": "stream",
          "name": "stderr",
          "text": [
            "      18/30       3.6G      1.956      1.719      2.306         18        640: 100%|██████████| 132/132 [00:41<00:00,  3.17it/s]\n",
            "                 Class     Images  Instances      Box(P          R      mAP50  mAP50-95): 100%|██████████| 7/7 [00:01<00:00,  4.80it/s]"
          ]
        },
        {
          "output_type": "stream",
          "name": "stdout",
          "text": [
            "                   all        200        619       0.51      0.576      0.584      0.407\n"
          ]
        },
        {
          "output_type": "stream",
          "name": "stderr",
          "text": [
            "\n"
          ]
        },
        {
          "output_type": "stream",
          "name": "stdout",
          "text": [
            "\n",
            "      Epoch    GPU_mem   box_loss   cls_loss   dfl_loss  Instances       Size\n"
          ]
        },
        {
          "output_type": "stream",
          "name": "stderr",
          "text": [
            "      19/30      3.62G      1.876      1.622      2.278         13        640: 100%|██████████| 132/132 [00:41<00:00,  3.20it/s]\n",
            "                 Class     Images  Instances      Box(P          R      mAP50  mAP50-95): 100%|██████████| 7/7 [00:01<00:00,  4.66it/s]"
          ]
        },
        {
          "output_type": "stream",
          "name": "stdout",
          "text": [
            "                   all        200        619      0.622      0.598      0.591      0.417\n"
          ]
        },
        {
          "output_type": "stream",
          "name": "stderr",
          "text": [
            "\n"
          ]
        },
        {
          "output_type": "stream",
          "name": "stdout",
          "text": [
            "\n",
            "      Epoch    GPU_mem   box_loss   cls_loss   dfl_loss  Instances       Size\n"
          ]
        },
        {
          "output_type": "stream",
          "name": "stderr",
          "text": [
            "      20/30      3.63G      1.872       1.59      2.241         19        640: 100%|██████████| 132/132 [00:41<00:00,  3.19it/s]\n",
            "                 Class     Images  Instances      Box(P          R      mAP50  mAP50-95): 100%|██████████| 7/7 [00:01<00:00,  4.60it/s]"
          ]
        },
        {
          "output_type": "stream",
          "name": "stdout",
          "text": [
            "                   all        200        619      0.503       0.59      0.585      0.409\n"
          ]
        },
        {
          "output_type": "stream",
          "name": "stderr",
          "text": [
            "\n"
          ]
        },
        {
          "output_type": "stream",
          "name": "stdout",
          "text": [
            "Closing dataloader mosaic\n",
            "\u001b[34m\u001b[1malbumentations: \u001b[0mBlur(p=0.01, blur_limit=(3, 7)), MedianBlur(p=0.01, blur_limit=(3, 7)), ToGray(p=0.01, method='weighted_average', num_output_channels=3), CLAHE(p=0.01, clip_limit=(1.0, 4.0), tile_grid_size=(8, 8))\n",
            "\n",
            "      Epoch    GPU_mem   box_loss   cls_loss   dfl_loss  Instances       Size\n"
          ]
        },
        {
          "output_type": "stream",
          "name": "stderr",
          "text": [
            "      21/30      3.65G      1.672      1.384       2.09         16        640: 100%|██████████| 132/132 [00:41<00:00,  3.19it/s]\n",
            "                 Class     Images  Instances      Box(P          R      mAP50  mAP50-95): 100%|██████████| 7/7 [00:01<00:00,  4.90it/s]"
          ]
        },
        {
          "output_type": "stream",
          "name": "stdout",
          "text": [
            "                   all        200        619      0.496      0.624      0.567      0.416\n"
          ]
        },
        {
          "output_type": "stream",
          "name": "stderr",
          "text": [
            "\n"
          ]
        },
        {
          "output_type": "stream",
          "name": "stdout",
          "text": [
            "\n",
            "      Epoch    GPU_mem   box_loss   cls_loss   dfl_loss  Instances       Size\n"
          ]
        },
        {
          "output_type": "stream",
          "name": "stderr",
          "text": [
            "      22/30      3.67G      1.611       1.34      2.054         16        640: 100%|██████████| 132/132 [00:39<00:00,  3.32it/s]\n",
            "                 Class     Images  Instances      Box(P          R      mAP50  mAP50-95): 100%|██████████| 7/7 [00:01<00:00,  4.82it/s]"
          ]
        },
        {
          "output_type": "stream",
          "name": "stdout",
          "text": [
            "                   all        200        619      0.557       0.57       0.58      0.431\n"
          ]
        },
        {
          "output_type": "stream",
          "name": "stderr",
          "text": [
            "\n"
          ]
        },
        {
          "output_type": "stream",
          "name": "stdout",
          "text": [
            "\n",
            "      Epoch    GPU_mem   box_loss   cls_loss   dfl_loss  Instances       Size\n"
          ]
        },
        {
          "output_type": "stream",
          "name": "stderr",
          "text": [
            "      23/30      3.68G      1.565      1.287      2.027         13        640: 100%|██████████| 132/132 [00:39<00:00,  3.32it/s]\n",
            "                 Class     Images  Instances      Box(P          R      mAP50  mAP50-95): 100%|██████████| 7/7 [00:01<00:00,  4.58it/s]"
          ]
        },
        {
          "output_type": "stream",
          "name": "stdout",
          "text": [
            "                   all        200        619      0.477      0.625      0.574      0.434\n"
          ]
        },
        {
          "output_type": "stream",
          "name": "stderr",
          "text": [
            "\n"
          ]
        },
        {
          "output_type": "stream",
          "name": "stdout",
          "text": [
            "\n",
            "      Epoch    GPU_mem   box_loss   cls_loss   dfl_loss  Instances       Size\n"
          ]
        },
        {
          "output_type": "stream",
          "name": "stderr",
          "text": [
            "      24/30      3.69G      1.525      1.231          2         10        640: 100%|██████████| 132/132 [00:39<00:00,  3.36it/s]\n",
            "                 Class     Images  Instances      Box(P          R      mAP50  mAP50-95): 100%|██████████| 7/7 [00:01<00:00,  4.85it/s]"
          ]
        },
        {
          "output_type": "stream",
          "name": "stdout",
          "text": [
            "                   all        200        619      0.482      0.613      0.619      0.455\n"
          ]
        },
        {
          "output_type": "stream",
          "name": "stderr",
          "text": [
            "\n"
          ]
        },
        {
          "output_type": "stream",
          "name": "stdout",
          "text": [
            "\n",
            "      Epoch    GPU_mem   box_loss   cls_loss   dfl_loss  Instances       Size\n"
          ]
        },
        {
          "output_type": "stream",
          "name": "stderr",
          "text": [
            "      25/30      3.71G      1.476      1.198      1.983         15        640: 100%|██████████| 132/132 [00:39<00:00,  3.35it/s]\n",
            "                 Class     Images  Instances      Box(P          R      mAP50  mAP50-95): 100%|██████████| 7/7 [00:01<00:00,  4.55it/s]"
          ]
        },
        {
          "output_type": "stream",
          "name": "stdout",
          "text": [
            "                   all        200        619      0.568      0.638       0.64      0.471\n"
          ]
        },
        {
          "output_type": "stream",
          "name": "stderr",
          "text": [
            "\n"
          ]
        },
        {
          "output_type": "stream",
          "name": "stdout",
          "text": [
            "\n",
            "      Epoch    GPU_mem   box_loss   cls_loss   dfl_loss  Instances       Size\n"
          ]
        },
        {
          "output_type": "stream",
          "name": "stderr",
          "text": [
            "      26/30      3.73G      1.451      1.193      1.979          9        640: 100%|██████████| 132/132 [00:39<00:00,  3.34it/s]\n",
            "                 Class     Images  Instances      Box(P          R      mAP50  mAP50-95): 100%|██████████| 7/7 [00:01<00:00,  4.83it/s]"
          ]
        },
        {
          "output_type": "stream",
          "name": "stdout",
          "text": [
            "                   all        200        619      0.574      0.647      0.612      0.446\n"
          ]
        },
        {
          "output_type": "stream",
          "name": "stderr",
          "text": [
            "\n"
          ]
        },
        {
          "output_type": "stream",
          "name": "stdout",
          "text": [
            "\n",
            "      Epoch    GPU_mem   box_loss   cls_loss   dfl_loss  Instances       Size\n"
          ]
        },
        {
          "output_type": "stream",
          "name": "stderr",
          "text": [
            "      27/30      3.74G       1.43      1.168      1.963         10        640: 100%|██████████| 132/132 [00:39<00:00,  3.36it/s]\n",
            "                 Class     Images  Instances      Box(P          R      mAP50  mAP50-95): 100%|██████████| 7/7 [00:01<00:00,  4.56it/s]"
          ]
        },
        {
          "output_type": "stream",
          "name": "stdout",
          "text": [
            "                   all        200        619      0.588       0.68       0.66      0.493\n"
          ]
        },
        {
          "output_type": "stream",
          "name": "stderr",
          "text": [
            "\n"
          ]
        },
        {
          "output_type": "stream",
          "name": "stdout",
          "text": [
            "\n",
            "      Epoch    GPU_mem   box_loss   cls_loss   dfl_loss  Instances       Size\n"
          ]
        },
        {
          "output_type": "stream",
          "name": "stderr",
          "text": [
            "      28/30      3.76G      1.409       1.15      1.961         14        640: 100%|██████████| 132/132 [00:39<00:00,  3.36it/s]\n",
            "                 Class     Images  Instances      Box(P          R      mAP50  mAP50-95): 100%|██████████| 7/7 [00:01<00:00,  4.70it/s]"
          ]
        },
        {
          "output_type": "stream",
          "name": "stdout",
          "text": [
            "                   all        200        619      0.496      0.676      0.632      0.482\n"
          ]
        },
        {
          "output_type": "stream",
          "name": "stderr",
          "text": [
            "\n"
          ]
        },
        {
          "output_type": "stream",
          "name": "stdout",
          "text": [
            "\n",
            "      Epoch    GPU_mem   box_loss   cls_loss   dfl_loss  Instances       Size\n"
          ]
        },
        {
          "output_type": "stream",
          "name": "stderr",
          "text": [
            "      29/30      3.78G      1.376      1.131      1.941         19        640: 100%|██████████| 132/132 [00:39<00:00,  3.36it/s]\n",
            "                 Class     Images  Instances      Box(P          R      mAP50  mAP50-95): 100%|██████████| 7/7 [00:01<00:00,  4.56it/s]"
          ]
        },
        {
          "output_type": "stream",
          "name": "stdout",
          "text": [
            "                   all        200        619      0.588      0.678      0.642      0.486\n"
          ]
        },
        {
          "output_type": "stream",
          "name": "stderr",
          "text": [
            "\n"
          ]
        },
        {
          "output_type": "stream",
          "name": "stdout",
          "text": [
            "\n",
            "      Epoch    GPU_mem   box_loss   cls_loss   dfl_loss  Instances       Size\n"
          ]
        },
        {
          "output_type": "stream",
          "name": "stderr",
          "text": [
            "      30/30      3.79G      1.372      1.109      1.935         14        640: 100%|██████████| 132/132 [00:38<00:00,  3.39it/s]\n",
            "                 Class     Images  Instances      Box(P          R      mAP50  mAP50-95): 100%|██████████| 7/7 [00:01<00:00,  3.86it/s]"
          ]
        },
        {
          "output_type": "stream",
          "name": "stdout",
          "text": [
            "                   all        200        619      0.553      0.699      0.652      0.494\n"
          ]
        },
        {
          "output_type": "stream",
          "name": "stderr",
          "text": [
            "\n"
          ]
        },
        {
          "output_type": "stream",
          "name": "stdout",
          "text": [
            "\n",
            "30 epochs completed in 0.365 hours.\n",
            "Optimizer stripped from /content/outputs/day_YOLOv10_train/weights/last.pt, 5.8MB\n",
            "Optimizer stripped from /content/outputs/day_YOLOv10_train/weights/best.pt, 5.8MB\n",
            "\n",
            "Validating /content/outputs/day_YOLOv10_train/weights/best.pt...\n",
            "Ultralytics 8.3.182 🚀 Python-3.12.11 torch-2.8.0+cu126 CUDA:0 (Tesla T4, 15095MiB)\n",
            "YOLOv10n summary (fused): 102 layers, 2,265,948 parameters, 0 gradients, 6.5 GFLOPs\n"
          ]
        },
        {
          "output_type": "stream",
          "name": "stderr",
          "text": [
            "                 Class     Images  Instances      Box(P          R      mAP50  mAP50-95): 100%|██████████| 7/7 [00:03<00:00,  2.13it/s]\n"
          ]
        },
        {
          "output_type": "stream",
          "name": "stdout",
          "text": [
            "                   all        200        619      0.565       0.68      0.654      0.496\n",
            "                  bike         15         15      0.352      0.533      0.433      0.303\n",
            "                   car        193        480      0.736      0.939       0.94      0.811\n",
            "            pedestrian         18         18      0.587      0.444      0.444      0.204\n",
            "                 truck         81        106      0.588      0.802      0.801      0.664\n",
            "Speed: 0.3ms preprocess, 3.2ms inference, 0.0ms loss, 0.5ms postprocess per image\n",
            "Results saved to \u001b[1m/content/outputs/day_YOLOv10_train\u001b[0m\n",
            "Ultralytics 8.3.182 🚀 Python-3.12.11 torch-2.8.0+cu126 CUDA:0 (Tesla T4, 15095MiB)\n",
            "YOLOv10n summary (fused): 102 layers, 2,265,948 parameters, 0 gradients, 6.5 GFLOPs\n",
            "\u001b[34m\u001b[1mval: \u001b[0mFast image access ✅ (ping: 0.0±0.0 ms, read: 1905.8±504.9 MB/s, size: 60.1 KB)\n"
          ]
        },
        {
          "output_type": "stream",
          "name": "stderr",
          "text": [
            "\u001b[34m\u001b[1mval: \u001b[0mScanning /content/datasets/day/valid/labels.cache... 200 images, 3 backgrounds, 0 corrupt: 100%|██████████| 200/200 [00:00<?, ?it/s]\n",
            "                 Class     Images  Instances      Box(P          R      mAP50  mAP50-95): 100%|██████████| 13/13 [00:06<00:00,  2.09it/s]\n"
          ]
        },
        {
          "output_type": "stream",
          "name": "stdout",
          "text": [
            "                   all        200        619      0.566       0.68      0.654      0.497\n",
            "                  bike         15         15      0.352      0.533      0.433      0.307\n",
            "                   car        193        480      0.737      0.939       0.94       0.81\n",
            "            pedestrian         18         18      0.586      0.444      0.444      0.208\n",
            "                 truck         81        106      0.588      0.802        0.8      0.664\n",
            "Speed: 0.8ms preprocess, 5.5ms inference, 0.0ms loss, 0.2ms postprocess per image\n",
            "Saving /content/outputs/day_YOLOv10_val/predictions.json...\n",
            "Results saved to \u001b[1m/content/outputs/day_YOLOv10_val\u001b[0m\n",
            "YOLOv10 on day Results:\n",
            "mAP50: 0.6543680978312143\n",
            "mAP: 0.4973762934243755\n",
            "Precision: 0.5656676330822434\n",
            "Recall: 0.6795661528683288\n",
            "FPS: 182.7372358206177\n",
            "Outputs saved in: /content/outputs/day_YOLOv10\n",
            "\n",
            "Training and evaluating YOLOv10 on night...\n",
            "\n",
            "Ultralytics 8.3.182 🚀 Python-3.12.11 torch-2.8.0+cu126 CUDA:0 (Tesla T4, 15095MiB)\n",
            "\u001b[34m\u001b[1mengine/trainer: \u001b[0magnostic_nms=False, amp=True, augment=False, auto_augment=randaugment, batch=16, bgr=0.0, box=7.5, cache=False, cfg=None, classes=None, close_mosaic=10, cls=0.5, conf=None, copy_paste=0.0, copy_paste_mode=flip, cos_lr=False, cutmix=0.0, data=/content/datasets/night/data.yaml, degrees=0.0, deterministic=True, device=0, dfl=1.5, dnn=False, dropout=0.0, dynamic=False, embed=None, epochs=30, erasing=0.4, exist_ok=False, fliplr=0.5, flipud=0.0, format=torchscript, fraction=1.0, freeze=None, half=False, hsv_h=0.015, hsv_s=0.7, hsv_v=0.4, imgsz=640, int8=False, iou=0.7, keras=False, kobj=1.0, line_width=None, lr0=0.01, lrf=0.01, mask_ratio=4, max_det=300, mixup=0.0, mode=train, model=yolov10n.yaml, momentum=0.937, mosaic=1.0, multi_scale=False, name=night_YOLOv10_train, nbs=64, nms=False, opset=None, optimize=False, optimizer=auto, overlap_mask=True, patience=100, perspective=0.0, plots=True, pose=12.0, pretrained=True, profile=False, project=/content/outputs, rect=False, resume=False, retina_masks=False, save=True, save_conf=False, save_crop=False, save_dir=/content/outputs/night_YOLOv10_train, save_frames=False, save_json=False, save_period=-1, save_txt=False, scale=0.5, seed=0, shear=0.0, show=False, show_boxes=True, show_conf=True, show_labels=True, simplify=True, single_cls=False, source=None, split=val, stream_buffer=False, task=detect, time=None, tracker=botsort.yaml, translate=0.1, val=True, verbose=True, vid_stride=1, visualize=False, warmup_bias_lr=0.1, warmup_epochs=3.0, warmup_momentum=0.8, weight_decay=0.0005, workers=8, workspace=None\n",
            "Overriding model.yaml nc=80 with nc=6\n",
            "\n",
            "                   from  n    params  module                                       arguments                     \n",
            "  0                  -1  1       464  ultralytics.nn.modules.conv.Conv             [3, 16, 3, 2]                 \n",
            "  1                  -1  1      4672  ultralytics.nn.modules.conv.Conv             [16, 32, 3, 2]                \n",
            "  2                  -1  1      7360  ultralytics.nn.modules.block.C2f             [32, 32, 1, True]             \n",
            "  3                  -1  1     18560  ultralytics.nn.modules.conv.Conv             [32, 64, 3, 2]                \n",
            "  4                  -1  2     49664  ultralytics.nn.modules.block.C2f             [64, 64, 2, True]             \n",
            "  5                  -1  1      9856  ultralytics.nn.modules.block.SCDown          [64, 128, 3, 2]               \n",
            "  6                  -1  2    197632  ultralytics.nn.modules.block.C2f             [128, 128, 2, True]           \n",
            "  7                  -1  1     36096  ultralytics.nn.modules.block.SCDown          [128, 256, 3, 2]              \n",
            "  8                  -1  1    460288  ultralytics.nn.modules.block.C2f             [256, 256, 1, True]           \n",
            "  9                  -1  1    164608  ultralytics.nn.modules.block.SPPF            [256, 256, 5]                 \n",
            " 10                  -1  1    249728  ultralytics.nn.modules.block.PSA             [256, 256]                    \n",
            " 11                  -1  1         0  torch.nn.modules.upsampling.Upsample         [None, 2, 'nearest']          \n",
            " 12             [-1, 6]  1         0  ultralytics.nn.modules.conv.Concat           [1]                           \n",
            " 13                  -1  1    148224  ultralytics.nn.modules.block.C2f             [384, 128, 1]                 \n",
            " 14                  -1  1         0  torch.nn.modules.upsampling.Upsample         [None, 2, 'nearest']          \n",
            " 15             [-1, 4]  1         0  ultralytics.nn.modules.conv.Concat           [1]                           \n",
            " 16                  -1  1     37248  ultralytics.nn.modules.block.C2f             [192, 64, 1]                  \n",
            " 17                  -1  1     36992  ultralytics.nn.modules.conv.Conv             [64, 64, 3, 2]                \n",
            " 18            [-1, 13]  1         0  ultralytics.nn.modules.conv.Concat           [1]                           \n",
            " 19                  -1  1    123648  ultralytics.nn.modules.block.C2f             [192, 128, 1]                 \n",
            " 20                  -1  1     18048  ultralytics.nn.modules.block.SCDown          [128, 128, 3, 2]              \n",
            " 21            [-1, 10]  1         0  ultralytics.nn.modules.conv.Concat           [1]                           \n",
            " 22                  -1  1    282624  ultralytics.nn.modules.block.C2fCIB          [384, 256, 1, True, True]     \n",
            " 23        [16, 19, 22]  1    863668  ultralytics.nn.modules.head.v10Detect        [6, [64, 128, 256]]           \n",
            "YOLOv10n summary: 223 layers, 2,709,380 parameters, 2,709,364 gradients, 8.4 GFLOPs\n",
            "\n",
            "Freezing layer 'model.23.dfl.conv.weight'\n",
            "\u001b[34m\u001b[1mAMP: \u001b[0mrunning Automatic Mixed Precision (AMP) checks...\n",
            "\u001b[34m\u001b[1mAMP: \u001b[0mchecks passed ✅\n",
            "\u001b[34m\u001b[1mtrain: \u001b[0mFast image access ✅ (ping: 0.0±0.0 ms, read: 1057.6±200.7 MB/s, size: 45.4 KB)\n"
          ]
        },
        {
          "output_type": "stream",
          "name": "stderr",
          "text": [
            "\u001b[34m\u001b[1mtrain: \u001b[0mScanning /content/datasets/night/train/labels... 1824 images, 213 backgrounds, 0 corrupt: 100%|██████████| 1824/1824 [00:00<00:00, 2392.65it/s]\n"
          ]
        },
        {
          "output_type": "stream",
          "name": "stdout",
          "text": [
            "\u001b[34m\u001b[1mtrain: \u001b[0mNew cache created: /content/datasets/night/train/labels.cache\n",
            "\u001b[34m\u001b[1malbumentations: \u001b[0mBlur(p=0.01, blur_limit=(3, 7)), MedianBlur(p=0.01, blur_limit=(3, 7)), ToGray(p=0.01, method='weighted_average', num_output_channels=3), CLAHE(p=0.01, clip_limit=(1.0, 4.0), tile_grid_size=(8, 8))\n",
            "\u001b[34m\u001b[1mval: \u001b[0mFast image access ✅ (ping: 0.0±0.0 ms, read: 338.4±24.1 MB/s, size: 39.1 KB)\n"
          ]
        },
        {
          "output_type": "stream",
          "name": "stderr",
          "text": [
            "\u001b[34m\u001b[1mval: \u001b[0mScanning /content/datasets/night/valid/labels... 229 images, 28 backgrounds, 0 corrupt: 100%|██████████| 229/229 [00:00<00:00, 897.42it/s]"
          ]
        },
        {
          "output_type": "stream",
          "name": "stdout",
          "text": [
            "\u001b[34m\u001b[1mval: \u001b[0mNew cache created: /content/datasets/night/valid/labels.cache\n"
          ]
        },
        {
          "output_type": "stream",
          "name": "stderr",
          "text": [
            "\n"
          ]
        },
        {
          "output_type": "stream",
          "name": "stdout",
          "text": [
            "Plotting labels to /content/outputs/night_YOLOv10_train/labels.jpg... \n",
            "\u001b[34m\u001b[1moptimizer:\u001b[0m 'optimizer=auto' found, ignoring 'lr0=0.01' and 'momentum=0.937' and determining best 'optimizer', 'lr0' and 'momentum' automatically... \n",
            "\u001b[34m\u001b[1moptimizer:\u001b[0m AdamW(lr=0.001, momentum=0.9) with parameter groups 95 weight(decay=0.0), 108 weight(decay=0.0005), 107 bias(decay=0.0)\n",
            "Image sizes 640 train, 640 val\n",
            "Using 2 dataloader workers\n",
            "Logging results to \u001b[1m/content/outputs/night_YOLOv10_train\u001b[0m\n",
            "Starting training for 30 epochs...\n",
            "\n",
            "      Epoch    GPU_mem   box_loss   cls_loss   dfl_loss  Instances       Size\n"
          ]
        },
        {
          "output_type": "stream",
          "name": "stderr",
          "text": [
            "       1/30      2.99G      6.351      18.48      8.329         38        640: 100%|██████████| 114/114 [00:36<00:00,  3.09it/s]\n",
            "                 Class     Images  Instances      Box(P          R      mAP50  mAP50-95): 100%|██████████| 8/8 [00:05<00:00,  1.46it/s]"
          ]
        },
        {
          "output_type": "stream",
          "name": "stdout",
          "text": [
            "                   all        229        305          0          0          0          0\n"
          ]
        },
        {
          "output_type": "stream",
          "name": "stderr",
          "text": [
            "\n"
          ]
        },
        {
          "output_type": "stream",
          "name": "stdout",
          "text": [
            "\n",
            "      Epoch    GPU_mem   box_loss   cls_loss   dfl_loss  Instances       Size\n"
          ]
        },
        {
          "output_type": "stream",
          "name": "stderr",
          "text": [
            "       2/30      3.15G      4.795       12.3      6.267         30        640: 100%|██████████| 114/114 [00:34<00:00,  3.26it/s]\n",
            "                 Class     Images  Instances      Box(P          R      mAP50  mAP50-95): 100%|██████████| 8/8 [00:02<00:00,  3.77it/s]\n"
          ]
        },
        {
          "output_type": "stream",
          "name": "stdout",
          "text": [
            "                   all        229        305      0.955     0.0882     0.0839     0.0583\n",
            "\n",
            "      Epoch    GPU_mem   box_loss   cls_loss   dfl_loss  Instances       Size\n"
          ]
        },
        {
          "output_type": "stream",
          "name": "stderr",
          "text": [
            "       3/30      3.15G      3.793      7.476      4.778         29        640: 100%|██████████| 114/114 [00:35<00:00,  3.22it/s]\n",
            "                 Class     Images  Instances      Box(P          R      mAP50  mAP50-95): 100%|██████████| 8/8 [00:01<00:00,  4.80it/s]"
          ]
        },
        {
          "output_type": "stream",
          "name": "stdout",
          "text": [
            "                   all        229        305      0.437     0.0804     0.0839      0.058\n"
          ]
        },
        {
          "output_type": "stream",
          "name": "stderr",
          "text": [
            "\n"
          ]
        },
        {
          "output_type": "stream",
          "name": "stdout",
          "text": [
            "\n",
            "      Epoch    GPU_mem   box_loss   cls_loss   dfl_loss  Instances       Size\n"
          ]
        },
        {
          "output_type": "stream",
          "name": "stderr",
          "text": [
            "       4/30      3.15G      3.271      5.267      4.014         35        640: 100%|██████████| 114/114 [00:37<00:00,  3.04it/s]\n",
            "                 Class     Images  Instances      Box(P          R      mAP50  mAP50-95): 100%|██████████| 8/8 [00:01<00:00,  4.64it/s]"
          ]
        },
        {
          "output_type": "stream",
          "name": "stdout",
          "text": [
            "                   all        229        305      0.167     0.0992      0.112     0.0977\n"
          ]
        },
        {
          "output_type": "stream",
          "name": "stderr",
          "text": [
            "\n"
          ]
        },
        {
          "output_type": "stream",
          "name": "stdout",
          "text": [
            "\n",
            "      Epoch    GPU_mem   box_loss   cls_loss   dfl_loss  Instances       Size\n"
          ]
        },
        {
          "output_type": "stream",
          "name": "stderr",
          "text": [
            "       5/30      3.15G       2.84      4.315       3.59         29        640: 100%|██████████| 114/114 [00:37<00:00,  3.08it/s]\n",
            "                 Class     Images  Instances      Box(P          R      mAP50  mAP50-95): 100%|██████████| 8/8 [00:02<00:00,  3.55it/s]\n"
          ]
        },
        {
          "output_type": "stream",
          "name": "stdout",
          "text": [
            "                   all        229        305      0.441     0.0935      0.107     0.0873\n",
            "\n",
            "      Epoch    GPU_mem   box_loss   cls_loss   dfl_loss  Instances       Size\n"
          ]
        },
        {
          "output_type": "stream",
          "name": "stderr",
          "text": [
            "       6/30      3.15G      2.575      3.685      3.311         34        640: 100%|██████████| 114/114 [00:34<00:00,  3.26it/s]\n",
            "                 Class     Images  Instances      Box(P          R      mAP50  mAP50-95): 100%|██████████| 8/8 [00:01<00:00,  4.87it/s]"
          ]
        },
        {
          "output_type": "stream",
          "name": "stdout",
          "text": [
            "                   all        229        305      0.613     0.0935      0.119     0.0968\n"
          ]
        },
        {
          "output_type": "stream",
          "name": "stderr",
          "text": [
            "\n"
          ]
        },
        {
          "output_type": "stream",
          "name": "stdout",
          "text": [
            "\n",
            "      Epoch    GPU_mem   box_loss   cls_loss   dfl_loss  Instances       Size\n"
          ]
        },
        {
          "output_type": "stream",
          "name": "stderr",
          "text": [
            "       7/30      3.15G      2.342      3.274      3.126         28        640: 100%|██████████| 114/114 [00:36<00:00,  3.10it/s]\n",
            "                 Class     Images  Instances      Box(P          R      mAP50  mAP50-95): 100%|██████████| 8/8 [00:01<00:00,  4.70it/s]"
          ]
        },
        {
          "output_type": "stream",
          "name": "stdout",
          "text": [
            "                   all        229        305      0.639     0.0968      0.161      0.127\n"
          ]
        },
        {
          "output_type": "stream",
          "name": "stderr",
          "text": [
            "\n"
          ]
        },
        {
          "output_type": "stream",
          "name": "stdout",
          "text": [
            "\n",
            "      Epoch    GPU_mem   box_loss   cls_loss   dfl_loss  Instances       Size\n"
          ]
        },
        {
          "output_type": "stream",
          "name": "stderr",
          "text": [
            "       8/30      3.15G      2.242       3.01      2.958         34        640: 100%|██████████| 114/114 [00:35<00:00,  3.17it/s]\n",
            "                 Class     Images  Instances      Box(P          R      mAP50  mAP50-95): 100%|██████████| 8/8 [00:02<00:00,  3.04it/s]\n"
          ]
        },
        {
          "output_type": "stream",
          "name": "stdout",
          "text": [
            "                   all        229        305      0.314      0.149      0.158      0.126\n",
            "\n",
            "      Epoch    GPU_mem   box_loss   cls_loss   dfl_loss  Instances       Size\n"
          ]
        },
        {
          "output_type": "stream",
          "name": "stderr",
          "text": [
            "       9/30      3.15G      2.091      2.771      2.844         48        640: 100%|██████████| 114/114 [00:35<00:00,  3.19it/s]\n",
            "                 Class     Images  Instances      Box(P          R      mAP50  mAP50-95): 100%|██████████| 8/8 [00:01<00:00,  4.82it/s]"
          ]
        },
        {
          "output_type": "stream",
          "name": "stdout",
          "text": [
            "                   all        229        305      0.716      0.184      0.242      0.185\n"
          ]
        },
        {
          "output_type": "stream",
          "name": "stderr",
          "text": [
            "\n"
          ]
        },
        {
          "output_type": "stream",
          "name": "stdout",
          "text": [
            "\n",
            "      Epoch    GPU_mem   box_loss   cls_loss   dfl_loss  Instances       Size\n"
          ]
        },
        {
          "output_type": "stream",
          "name": "stderr",
          "text": [
            "      10/30      3.15G      2.014       2.61      2.797         31        640: 100%|██████████| 114/114 [00:37<00:00,  3.02it/s]\n",
            "                 Class     Images  Instances      Box(P          R      mAP50  mAP50-95): 100%|██████████| 8/8 [00:01<00:00,  4.80it/s]"
          ]
        },
        {
          "output_type": "stream",
          "name": "stdout",
          "text": [
            "                   all        229        305      0.722      0.158      0.273      0.199\n"
          ]
        },
        {
          "output_type": "stream",
          "name": "stderr",
          "text": [
            "\n"
          ]
        },
        {
          "output_type": "stream",
          "name": "stdout",
          "text": [
            "\n",
            "      Epoch    GPU_mem   box_loss   cls_loss   dfl_loss  Instances       Size\n"
          ]
        },
        {
          "output_type": "stream",
          "name": "stderr",
          "text": [
            "      11/30      3.15G      1.906      2.473      2.663         35        640: 100%|██████████| 114/114 [00:37<00:00,  3.06it/s]\n",
            "                 Class     Images  Instances      Box(P          R      mAP50  mAP50-95): 100%|██████████| 8/8 [00:01<00:00,  4.75it/s]"
          ]
        },
        {
          "output_type": "stream",
          "name": "stdout",
          "text": [
            "                   all        229        305      0.725      0.202      0.306      0.224\n"
          ]
        },
        {
          "output_type": "stream",
          "name": "stderr",
          "text": [
            "\n"
          ]
        },
        {
          "output_type": "stream",
          "name": "stdout",
          "text": [
            "\n",
            "      Epoch    GPU_mem   box_loss   cls_loss   dfl_loss  Instances       Size\n"
          ]
        },
        {
          "output_type": "stream",
          "name": "stderr",
          "text": [
            "      12/30      3.16G       1.85      2.309      2.631         29        640: 100%|██████████| 114/114 [00:34<00:00,  3.27it/s]\n",
            "                 Class     Images  Instances      Box(P          R      mAP50  mAP50-95): 100%|██████████| 8/8 [00:02<00:00,  3.58it/s]\n"
          ]
        },
        {
          "output_type": "stream",
          "name": "stdout",
          "text": [
            "                   all        229        305      0.698      0.186      0.323      0.226\n",
            "\n",
            "      Epoch    GPU_mem   box_loss   cls_loss   dfl_loss  Instances       Size\n"
          ]
        },
        {
          "output_type": "stream",
          "name": "stderr",
          "text": [
            "      13/30      3.18G      1.814      2.199      2.608         24        640: 100%|██████████| 114/114 [00:35<00:00,  3.20it/s]\n",
            "                 Class     Images  Instances      Box(P          R      mAP50  mAP50-95): 100%|██████████| 8/8 [00:01<00:00,  5.16it/s]"
          ]
        },
        {
          "output_type": "stream",
          "name": "stdout",
          "text": [
            "                   all        229        305       0.34      0.326      0.353      0.258\n"
          ]
        },
        {
          "output_type": "stream",
          "name": "stderr",
          "text": [
            "\n"
          ]
        },
        {
          "output_type": "stream",
          "name": "stdout",
          "text": [
            "\n",
            "      Epoch    GPU_mem   box_loss   cls_loss   dfl_loss  Instances       Size\n"
          ]
        },
        {
          "output_type": "stream",
          "name": "stderr",
          "text": [
            "      14/30       3.2G      1.723      2.117       2.52         24        640: 100%|██████████| 114/114 [00:35<00:00,  3.22it/s]\n",
            "                 Class     Images  Instances      Box(P          R      mAP50  mAP50-95): 100%|██████████| 8/8 [00:02<00:00,  3.94it/s]"
          ]
        },
        {
          "output_type": "stream",
          "name": "stdout",
          "text": [
            "                   all        229        305      0.393      0.358      0.357      0.267\n"
          ]
        },
        {
          "output_type": "stream",
          "name": "stderr",
          "text": [
            "\n"
          ]
        },
        {
          "output_type": "stream",
          "name": "stdout",
          "text": [
            "\n",
            "      Epoch    GPU_mem   box_loss   cls_loss   dfl_loss  Instances       Size\n"
          ]
        },
        {
          "output_type": "stream",
          "name": "stderr",
          "text": [
            "      15/30      3.21G      1.711      2.032      2.499         23        640: 100%|██████████| 114/114 [00:34<00:00,  3.29it/s]\n",
            "                 Class     Images  Instances      Box(P          R      mAP50  mAP50-95): 100%|██████████| 8/8 [00:01<00:00,  4.97it/s]"
          ]
        },
        {
          "output_type": "stream",
          "name": "stdout",
          "text": [
            "                   all        229        305      0.673      0.282      0.376      0.281\n"
          ]
        },
        {
          "output_type": "stream",
          "name": "stderr",
          "text": [
            "\n"
          ]
        },
        {
          "output_type": "stream",
          "name": "stdout",
          "text": [
            "\n",
            "      Epoch    GPU_mem   box_loss   cls_loss   dfl_loss  Instances       Size\n"
          ]
        },
        {
          "output_type": "stream",
          "name": "stderr",
          "text": [
            "      16/30      3.22G      1.638       1.93       2.43         19        640: 100%|██████████| 114/114 [00:35<00:00,  3.19it/s]\n",
            "                 Class     Images  Instances      Box(P          R      mAP50  mAP50-95): 100%|██████████| 8/8 [00:01<00:00,  4.86it/s]"
          ]
        },
        {
          "output_type": "stream",
          "name": "stdout",
          "text": [
            "                   all        229        305      0.339       0.43      0.375      0.278\n"
          ]
        },
        {
          "output_type": "stream",
          "name": "stderr",
          "text": [
            "\n"
          ]
        },
        {
          "output_type": "stream",
          "name": "stdout",
          "text": [
            "\n",
            "      Epoch    GPU_mem   box_loss   cls_loss   dfl_loss  Instances       Size\n"
          ]
        },
        {
          "output_type": "stream",
          "name": "stderr",
          "text": [
            "      17/30      3.24G      1.591       1.86      2.421         25        640: 100%|██████████| 114/114 [00:34<00:00,  3.30it/s]\n",
            "                 Class     Images  Instances      Box(P          R      mAP50  mAP50-95): 100%|██████████| 8/8 [00:02<00:00,  3.41it/s]\n"
          ]
        },
        {
          "output_type": "stream",
          "name": "stdout",
          "text": [
            "                   all        229        305      0.341      0.447      0.422      0.311\n",
            "\n",
            "      Epoch    GPU_mem   box_loss   cls_loss   dfl_loss  Instances       Size\n"
          ]
        },
        {
          "output_type": "stream",
          "name": "stderr",
          "text": [
            "      18/30      3.26G      1.597      1.864      2.411         28        640: 100%|██████████| 114/114 [00:34<00:00,  3.31it/s]\n",
            "                 Class     Images  Instances      Box(P          R      mAP50  mAP50-95): 100%|██████████| 8/8 [00:01<00:00,  4.94it/s]"
          ]
        },
        {
          "output_type": "stream",
          "name": "stdout",
          "text": [
            "                   all        229        305      0.472      0.428      0.413      0.305\n"
          ]
        },
        {
          "output_type": "stream",
          "name": "stderr",
          "text": [
            "\n"
          ]
        },
        {
          "output_type": "stream",
          "name": "stdout",
          "text": [
            "\n",
            "      Epoch    GPU_mem   box_loss   cls_loss   dfl_loss  Instances       Size\n"
          ]
        },
        {
          "output_type": "stream",
          "name": "stderr",
          "text": [
            "      19/30      3.27G      1.528      1.741       2.35         26        640: 100%|██████████| 114/114 [00:36<00:00,  3.14it/s]\n",
            "                 Class     Images  Instances      Box(P          R      mAP50  mAP50-95): 100%|██████████| 8/8 [00:01<00:00,  5.00it/s]"
          ]
        },
        {
          "output_type": "stream",
          "name": "stdout",
          "text": [
            "                   all        229        305      0.505      0.444      0.453      0.355\n"
          ]
        },
        {
          "output_type": "stream",
          "name": "stderr",
          "text": [
            "\n"
          ]
        },
        {
          "output_type": "stream",
          "name": "stdout",
          "text": [
            "\n",
            "      Epoch    GPU_mem   box_loss   cls_loss   dfl_loss  Instances       Size\n"
          ]
        },
        {
          "output_type": "stream",
          "name": "stderr",
          "text": [
            "      20/30      3.29G      1.475      1.667      2.322         32        640: 100%|██████████| 114/114 [00:34<00:00,  3.27it/s]\n",
            "                 Class     Images  Instances      Box(P          R      mAP50  mAP50-95): 100%|██████████| 8/8 [00:02<00:00,  3.94it/s]\n"
          ]
        },
        {
          "output_type": "stream",
          "name": "stdout",
          "text": [
            "                   all        229        305      0.479      0.479      0.437      0.329\n",
            "Closing dataloader mosaic\n",
            "\u001b[34m\u001b[1malbumentations: \u001b[0mBlur(p=0.01, blur_limit=(3, 7)), MedianBlur(p=0.01, blur_limit=(3, 7)), ToGray(p=0.01, method='weighted_average', num_output_channels=3), CLAHE(p=0.01, clip_limit=(1.0, 4.0), tile_grid_size=(8, 8))\n",
            "\n",
            "      Epoch    GPU_mem   box_loss   cls_loss   dfl_loss  Instances       Size\n"
          ]
        },
        {
          "output_type": "stream",
          "name": "stderr",
          "text": [
            "      21/30       3.3G      1.194      1.447      2.099         21        640: 100%|██████████| 114/114 [00:37<00:00,  3.07it/s]\n",
            "                 Class     Images  Instances      Box(P          R      mAP50  mAP50-95): 100%|██████████| 8/8 [00:01<00:00,  4.86it/s]"
          ]
        },
        {
          "output_type": "stream",
          "name": "stdout",
          "text": [
            "                   all        229        305      0.379      0.446       0.43      0.329\n"
          ]
        },
        {
          "output_type": "stream",
          "name": "stderr",
          "text": [
            "\n"
          ]
        },
        {
          "output_type": "stream",
          "name": "stdout",
          "text": [
            "\n",
            "      Epoch    GPU_mem   box_loss   cls_loss   dfl_loss  Instances       Size\n"
          ]
        },
        {
          "output_type": "stream",
          "name": "stderr",
          "text": [
            "      22/30      3.32G      1.183      1.384      2.092         15        640: 100%|██████████| 114/114 [00:36<00:00,  3.13it/s]\n",
            "                 Class     Images  Instances      Box(P          R      mAP50  mAP50-95): 100%|██████████| 8/8 [00:01<00:00,  4.64it/s]"
          ]
        },
        {
          "output_type": "stream",
          "name": "stdout",
          "text": [
            "                   all        229        305      0.422      0.593      0.493      0.368\n"
          ]
        },
        {
          "output_type": "stream",
          "name": "stderr",
          "text": [
            "\n"
          ]
        },
        {
          "output_type": "stream",
          "name": "stdout",
          "text": [
            "\n",
            "      Epoch    GPU_mem   box_loss   cls_loss   dfl_loss  Instances       Size\n"
          ]
        },
        {
          "output_type": "stream",
          "name": "stderr",
          "text": [
            "      23/30      3.33G      1.093      1.296      2.042         16        640: 100%|██████████| 114/114 [00:35<00:00,  3.22it/s]\n",
            "                 Class     Images  Instances      Box(P          R      mAP50  mAP50-95): 100%|██████████| 8/8 [00:02<00:00,  3.78it/s]"
          ]
        },
        {
          "output_type": "stream",
          "name": "stdout",
          "text": [
            "                   all        229        305      0.351      0.491      0.468      0.365\n"
          ]
        },
        {
          "output_type": "stream",
          "name": "stderr",
          "text": [
            "\n"
          ]
        },
        {
          "output_type": "stream",
          "name": "stdout",
          "text": [
            "\n",
            "      Epoch    GPU_mem   box_loss   cls_loss   dfl_loss  Instances       Size\n"
          ]
        },
        {
          "output_type": "stream",
          "name": "stderr",
          "text": [
            "      24/30      3.35G       1.06      1.272      2.007         17        640: 100%|██████████| 114/114 [00:36<00:00,  3.13it/s]\n",
            "                 Class     Images  Instances      Box(P          R      mAP50  mAP50-95): 100%|██████████| 8/8 [00:01<00:00,  4.58it/s]"
          ]
        },
        {
          "output_type": "stream",
          "name": "stdout",
          "text": [
            "                   all        229        305        0.4       0.49      0.479      0.367\n"
          ]
        },
        {
          "output_type": "stream",
          "name": "stderr",
          "text": [
            "\n"
          ]
        },
        {
          "output_type": "stream",
          "name": "stdout",
          "text": [
            "\n",
            "      Epoch    GPU_mem   box_loss   cls_loss   dfl_loss  Instances       Size\n"
          ]
        },
        {
          "output_type": "stream",
          "name": "stderr",
          "text": [
            "      25/30      3.37G      1.019      1.212      1.981         21        640: 100%|██████████| 114/114 [00:37<00:00,  3.01it/s]\n",
            "                 Class     Images  Instances      Box(P          R      mAP50  mAP50-95): 100%|██████████| 8/8 [00:01<00:00,  4.67it/s]"
          ]
        },
        {
          "output_type": "stream",
          "name": "stdout",
          "text": [
            "                   all        229        305      0.702      0.434      0.495      0.389\n"
          ]
        },
        {
          "output_type": "stream",
          "name": "stderr",
          "text": [
            "\n"
          ]
        },
        {
          "output_type": "stream",
          "name": "stdout",
          "text": [
            "\n",
            "      Epoch    GPU_mem   box_loss   cls_loss   dfl_loss  Instances       Size\n"
          ]
        },
        {
          "output_type": "stream",
          "name": "stderr",
          "text": [
            "      26/30      3.38G       1.01      1.183      1.971         22        640: 100%|██████████| 114/114 [00:35<00:00,  3.20it/s]\n",
            "                 Class     Images  Instances      Box(P          R      mAP50  mAP50-95): 100%|██████████| 8/8 [00:02<00:00,  3.63it/s]\n"
          ]
        },
        {
          "output_type": "stream",
          "name": "stdout",
          "text": [
            "                   all        229        305      0.483      0.436      0.505        0.4\n",
            "\n",
            "      Epoch    GPU_mem   box_loss   cls_loss   dfl_loss  Instances       Size\n"
          ]
        },
        {
          "output_type": "stream",
          "name": "stderr",
          "text": [
            "      27/30       3.4G     0.9943      1.149      1.968         19        640: 100%|██████████| 114/114 [00:35<00:00,  3.24it/s]\n",
            "                 Class     Images  Instances      Box(P          R      mAP50  mAP50-95): 100%|██████████| 8/8 [00:01<00:00,  4.86it/s]"
          ]
        },
        {
          "output_type": "stream",
          "name": "stdout",
          "text": [
            "                   all        229        305      0.411        0.6      0.513      0.396\n"
          ]
        },
        {
          "output_type": "stream",
          "name": "stderr",
          "text": [
            "\n"
          ]
        },
        {
          "output_type": "stream",
          "name": "stdout",
          "text": [
            "\n",
            "      Epoch    GPU_mem   box_loss   cls_loss   dfl_loss  Instances       Size\n"
          ]
        },
        {
          "output_type": "stream",
          "name": "stderr",
          "text": [
            "      28/30      3.41G     0.9613      1.115      1.919         17        640: 100%|██████████| 114/114 [00:35<00:00,  3.23it/s]\n",
            "                 Class     Images  Instances      Box(P          R      mAP50  mAP50-95): 100%|██████████| 8/8 [00:02<00:00,  3.70it/s]"
          ]
        },
        {
          "output_type": "stream",
          "name": "stdout",
          "text": [
            "                   all        229        305       0.37      0.515      0.464      0.374\n"
          ]
        },
        {
          "output_type": "stream",
          "name": "stderr",
          "text": [
            "\n"
          ]
        },
        {
          "output_type": "stream",
          "name": "stdout",
          "text": [
            "\n",
            "      Epoch    GPU_mem   box_loss   cls_loss   dfl_loss  Instances       Size\n"
          ]
        },
        {
          "output_type": "stream",
          "name": "stderr",
          "text": [
            "      29/30      3.43G     0.9358      1.112      1.937         23        640: 100%|██████████| 114/114 [00:33<00:00,  3.42it/s]\n",
            "                 Class     Images  Instances      Box(P          R      mAP50  mAP50-95): 100%|██████████| 8/8 [00:01<00:00,  5.05it/s]"
          ]
        },
        {
          "output_type": "stream",
          "name": "stdout",
          "text": [
            "                   all        229        305      0.397       0.53      0.457       0.37\n"
          ]
        },
        {
          "output_type": "stream",
          "name": "stderr",
          "text": [
            "\n"
          ]
        },
        {
          "output_type": "stream",
          "name": "stdout",
          "text": [
            "\n",
            "      Epoch    GPU_mem   box_loss   cls_loss   dfl_loss  Instances       Size\n"
          ]
        },
        {
          "output_type": "stream",
          "name": "stderr",
          "text": [
            "      30/30      3.44G     0.9242      1.084      1.929         17        640: 100%|██████████| 114/114 [00:33<00:00,  3.44it/s]\n",
            "                 Class     Images  Instances      Box(P          R      mAP50  mAP50-95): 100%|██████████| 8/8 [00:02<00:00,  3.41it/s]"
          ]
        },
        {
          "output_type": "stream",
          "name": "stdout",
          "text": [
            "                   all        229        305       0.58      0.589      0.478      0.387\n"
          ]
        },
        {
          "output_type": "stream",
          "name": "stderr",
          "text": [
            "\n"
          ]
        },
        {
          "output_type": "stream",
          "name": "stdout",
          "text": [
            "\n",
            "30 epochs completed in 0.319 hours.\n",
            "Optimizer stripped from /content/outputs/night_YOLOv10_train/weights/last.pt, 5.8MB\n",
            "Optimizer stripped from /content/outputs/night_YOLOv10_train/weights/best.pt, 5.8MB\n",
            "\n",
            "Validating /content/outputs/night_YOLOv10_train/weights/best.pt...\n",
            "Ultralytics 8.3.182 🚀 Python-3.12.11 torch-2.8.0+cu126 CUDA:0 (Tesla T4, 15095MiB)\n",
            "YOLOv10n summary (fused): 102 layers, 2,266,338 parameters, 0 gradients, 6.5 GFLOPs\n"
          ]
        },
        {
          "output_type": "stream",
          "name": "stderr",
          "text": [
            "                 Class     Images  Instances      Box(P          R      mAP50  mAP50-95): 100%|██████████| 8/8 [00:03<00:00,  2.45it/s]\n"
          ]
        },
        {
          "output_type": "stream",
          "name": "stdout",
          "text": [
            "                   all        229        305      0.482      0.437      0.505      0.401\n",
            "                  bike          8          8      0.594      0.367      0.465      0.277\n",
            "                   car        198        255      0.847      0.869      0.938      0.863\n",
            "            pedestrian         11         11      0.314      0.364      0.555      0.383\n",
            "        traffic lights          1          1          0          0          0          0\n",
            "    traffic sign board          4          4      0.405       0.25      0.268      0.242\n",
            "                 truck         21         26      0.732      0.769      0.808       0.64\n",
            "Speed: 0.2ms preprocess, 2.9ms inference, 0.0ms loss, 0.5ms postprocess per image\n",
            "Results saved to \u001b[1m/content/outputs/night_YOLOv10_train\u001b[0m\n",
            "Ultralytics 8.3.182 🚀 Python-3.12.11 torch-2.8.0+cu126 CUDA:0 (Tesla T4, 15095MiB)\n",
            "YOLOv10n summary (fused): 102 layers, 2,266,338 parameters, 0 gradients, 6.5 GFLOPs\n",
            "\u001b[34m\u001b[1mval: \u001b[0mFast image access ✅ (ping: 0.0±0.0 ms, read: 1370.2±437.9 MB/s, size: 36.3 KB)\n"
          ]
        },
        {
          "output_type": "stream",
          "name": "stderr",
          "text": [
            "\u001b[34m\u001b[1mval: \u001b[0mScanning /content/datasets/night/valid/labels.cache... 229 images, 28 backgrounds, 0 corrupt: 100%|██████████| 229/229 [00:00<?, ?it/s]\n",
            "                 Class     Images  Instances      Box(P          R      mAP50  mAP50-95): 100%|██████████| 15/15 [00:06<00:00,  2.30it/s]\n"
          ]
        },
        {
          "output_type": "stream",
          "name": "stdout",
          "text": [
            "                   all        229        305      0.483      0.435      0.505      0.399\n",
            "                  bike          8          8       0.59      0.363      0.465      0.277\n",
            "                   car        198        255      0.847      0.867      0.938      0.863\n",
            "            pedestrian         11         11      0.318      0.364       0.55       0.38\n",
            "        traffic lights          1          1          0          0          0          0\n",
            "    traffic sign board          4          4      0.411       0.25      0.268      0.242\n",
            "                 truck         21         26      0.734      0.769      0.807      0.636\n",
            "Speed: 1.3ms preprocess, 5.6ms inference, 0.0ms loss, 0.3ms postprocess per image\n",
            "Saving /content/outputs/night_YOLOv10_val/predictions.json...\n",
            "Results saved to \u001b[1m/content/outputs/night_YOLOv10_val\u001b[0m\n",
            "YOLOv10 on night Results:\n",
            "mAP50: 0.5045264868119052\n",
            "mAP: 0.39943689318975123\n",
            "Precision: 0.4832148256392439\n",
            "Recall: 0.43539919984312786\n",
            "FPS: 179.2411974654387\n",
            "Outputs saved in: /content/outputs/night_YOLOv10\n",
            "\n",
            "Training and evaluating YOLOv10 on day_rain...\n",
            "\n",
            "Ultralytics 8.3.182 🚀 Python-3.12.11 torch-2.8.0+cu126 CUDA:0 (Tesla T4, 15095MiB)\n",
            "\u001b[34m\u001b[1mengine/trainer: \u001b[0magnostic_nms=False, amp=True, augment=False, auto_augment=randaugment, batch=16, bgr=0.0, box=7.5, cache=False, cfg=None, classes=None, close_mosaic=10, cls=0.5, conf=None, copy_paste=0.0, copy_paste_mode=flip, cos_lr=False, cutmix=0.0, data=/content/datasets/day_rain/data.yaml, degrees=0.0, deterministic=True, device=0, dfl=1.5, dnn=False, dropout=0.0, dynamic=False, embed=None, epochs=30, erasing=0.4, exist_ok=False, fliplr=0.5, flipud=0.0, format=torchscript, fraction=1.0, freeze=None, half=False, hsv_h=0.015, hsv_s=0.7, hsv_v=0.4, imgsz=640, int8=False, iou=0.7, keras=False, kobj=1.0, line_width=None, lr0=0.01, lrf=0.01, mask_ratio=4, max_det=300, mixup=0.0, mode=train, model=yolov10n.yaml, momentum=0.937, mosaic=1.0, multi_scale=False, name=day_rain_YOLOv10_train, nbs=64, nms=False, opset=None, optimize=False, optimizer=auto, overlap_mask=True, patience=100, perspective=0.0, plots=True, pose=12.0, pretrained=True, profile=False, project=/content/outputs, rect=False, resume=False, retina_masks=False, save=True, save_conf=False, save_crop=False, save_dir=/content/outputs/day_rain_YOLOv10_train, save_frames=False, save_json=False, save_period=-1, save_txt=False, scale=0.5, seed=0, shear=0.0, show=False, show_boxes=True, show_conf=True, show_labels=True, simplify=True, single_cls=False, source=None, split=val, stream_buffer=False, task=detect, time=None, tracker=botsort.yaml, translate=0.1, val=True, verbose=True, vid_stride=1, visualize=False, warmup_bias_lr=0.1, warmup_epochs=3.0, warmup_momentum=0.8, weight_decay=0.0005, workers=8, workspace=None\n",
            "Overriding model.yaml nc=80 with nc=5\n",
            "\n",
            "                   from  n    params  module                                       arguments                     \n",
            "  0                  -1  1       464  ultralytics.nn.modules.conv.Conv             [3, 16, 3, 2]                 \n",
            "  1                  -1  1      4672  ultralytics.nn.modules.conv.Conv             [16, 32, 3, 2]                \n",
            "  2                  -1  1      7360  ultralytics.nn.modules.block.C2f             [32, 32, 1, True]             \n",
            "  3                  -1  1     18560  ultralytics.nn.modules.conv.Conv             [32, 64, 3, 2]                \n",
            "  4                  -1  2     49664  ultralytics.nn.modules.block.C2f             [64, 64, 2, True]             \n",
            "  5                  -1  1      9856  ultralytics.nn.modules.block.SCDown          [64, 128, 3, 2]               \n",
            "  6                  -1  2    197632  ultralytics.nn.modules.block.C2f             [128, 128, 2, True]           \n",
            "  7                  -1  1     36096  ultralytics.nn.modules.block.SCDown          [128, 256, 3, 2]              \n",
            "  8                  -1  1    460288  ultralytics.nn.modules.block.C2f             [256, 256, 1, True]           \n",
            "  9                  -1  1    164608  ultralytics.nn.modules.block.SPPF            [256, 256, 5]                 \n",
            " 10                  -1  1    249728  ultralytics.nn.modules.block.PSA             [256, 256]                    \n",
            " 11                  -1  1         0  torch.nn.modules.upsampling.Upsample         [None, 2, 'nearest']          \n",
            " 12             [-1, 6]  1         0  ultralytics.nn.modules.conv.Concat           [1]                           \n",
            " 13                  -1  1    148224  ultralytics.nn.modules.block.C2f             [384, 128, 1]                 \n",
            " 14                  -1  1         0  torch.nn.modules.upsampling.Upsample         [None, 2, 'nearest']          \n",
            " 15             [-1, 4]  1         0  ultralytics.nn.modules.conv.Concat           [1]                           \n",
            " 16                  -1  1     37248  ultralytics.nn.modules.block.C2f             [192, 64, 1]                  \n",
            " 17                  -1  1     36992  ultralytics.nn.modules.conv.Conv             [64, 64, 3, 2]                \n",
            " 18            [-1, 13]  1         0  ultralytics.nn.modules.conv.Concat           [1]                           \n",
            " 19                  -1  1    123648  ultralytics.nn.modules.block.C2f             [192, 128, 1]                 \n",
            " 20                  -1  1     18048  ultralytics.nn.modules.block.SCDown          [128, 128, 3, 2]              \n",
            " 21            [-1, 10]  1         0  ultralytics.nn.modules.conv.Concat           [1]                           \n",
            " 22                  -1  1    282624  ultralytics.nn.modules.block.C2fCIB          [384, 256, 1, True, True]     \n",
            " 23        [16, 19, 22]  1    863278  ultralytics.nn.modules.head.v10Detect        [5, [64, 128, 256]]           \n",
            "YOLOv10n summary: 223 layers, 2,708,990 parameters, 2,708,974 gradients, 8.4 GFLOPs\n",
            "\n",
            "Freezing layer 'model.23.dfl.conv.weight'\n",
            "\u001b[34m\u001b[1mAMP: \u001b[0mrunning Automatic Mixed Precision (AMP) checks...\n",
            "\u001b[34m\u001b[1mAMP: \u001b[0mchecks passed ✅\n",
            "\u001b[34m\u001b[1mtrain: \u001b[0mFast image access ✅ (ping: 0.0±0.0 ms, read: 12.6±2.4 MB/s, size: 55.7 KB)\n"
          ]
        },
        {
          "output_type": "stream",
          "name": "stderr",
          "text": [
            "\u001b[34m\u001b[1mtrain: \u001b[0mScanning /content/datasets/day_rain/train/labels... 1830 images, 0 backgrounds, 0 corrupt: 100%|██████████| 1830/1830 [00:03<00:00, 598.03it/s]"
          ]
        },
        {
          "output_type": "stream",
          "name": "stdout",
          "text": [
            "\u001b[34m\u001b[1mtrain: \u001b[0mNew cache created: /content/datasets/day_rain/train/labels.cache\n",
            "\u001b[34m\u001b[1malbumentations: \u001b[0mBlur(p=0.01, blur_limit=(3, 7)), MedianBlur(p=0.01, blur_limit=(3, 7)), ToGray(p=0.01, method='weighted_average', num_output_channels=3), CLAHE(p=0.01, clip_limit=(1.0, 4.0), tile_grid_size=(8, 8))\n"
          ]
        },
        {
          "output_type": "stream",
          "name": "stderr",
          "text": [
            "\n"
          ]
        },
        {
          "output_type": "stream",
          "name": "stdout",
          "text": [
            "\u001b[34m\u001b[1mval: \u001b[0mFast image access ✅ (ping: 0.0±0.0 ms, read: 354.6±201.8 MB/s, size: 57.6 KB)\n"
          ]
        },
        {
          "output_type": "stream",
          "name": "stderr",
          "text": [
            "\u001b[34m\u001b[1mval: \u001b[0mScanning /content/datasets/day_rain/valid/labels... 200 images, 0 backgrounds, 0 corrupt: 100%|██████████| 200/200 [00:00<00:00, 1094.37it/s]\n"
          ]
        },
        {
          "output_type": "stream",
          "name": "stdout",
          "text": [
            "\u001b[34m\u001b[1mval: \u001b[0mNew cache created: /content/datasets/day_rain/valid/labels.cache\n",
            "Plotting labels to /content/outputs/day_rain_YOLOv10_train/labels.jpg... \n",
            "\u001b[34m\u001b[1moptimizer:\u001b[0m 'optimizer=auto' found, ignoring 'lr0=0.01' and 'momentum=0.937' and determining best 'optimizer', 'lr0' and 'momentum' automatically... \n",
            "\u001b[34m\u001b[1moptimizer:\u001b[0m AdamW(lr=0.001111, momentum=0.9) with parameter groups 95 weight(decay=0.0), 108 weight(decay=0.0005), 107 bias(decay=0.0)\n",
            "Image sizes 640 train, 640 val\n",
            "Using 2 dataloader workers\n",
            "Logging results to \u001b[1m/content/outputs/day_rain_YOLOv10_train\u001b[0m\n",
            "Starting training for 30 epochs...\n",
            "\n",
            "      Epoch    GPU_mem   box_loss   cls_loss   dfl_loss  Instances       Size\n"
          ]
        },
        {
          "output_type": "stream",
          "name": "stderr",
          "text": [
            "       1/30      3.23G      7.244      15.32      8.269         65        640: 100%|██████████| 115/115 [00:48<00:00,  2.39it/s]\n",
            "                 Class     Images  Instances      Box(P          R      mAP50  mAP50-95): 100%|██████████| 7/7 [00:01<00:00,  4.86it/s]"
          ]
        },
        {
          "output_type": "stream",
          "name": "stdout",
          "text": [
            "                   all        200       1966          0          0          0          0\n"
          ]
        },
        {
          "output_type": "stream",
          "name": "stderr",
          "text": [
            "\n"
          ]
        },
        {
          "output_type": "stream",
          "name": "stdout",
          "text": [
            "\n",
            "      Epoch    GPU_mem   box_loss   cls_loss   dfl_loss  Instances       Size\n"
          ]
        },
        {
          "output_type": "stream",
          "name": "stderr",
          "text": [
            "       2/30      3.39G      6.176       9.02       5.61        147        640: 100%|██████████| 115/115 [00:37<00:00,  3.04it/s]\n",
            "                 Class     Images  Instances      Box(P          R      mAP50  mAP50-95): 100%|██████████| 7/7 [00:01<00:00,  4.65it/s]"
          ]
        },
        {
          "output_type": "stream",
          "name": "stdout",
          "text": [
            "                   all        200       1966      0.666     0.0654     0.0476     0.0162\n"
          ]
        },
        {
          "output_type": "stream",
          "name": "stderr",
          "text": [
            "\n"
          ]
        },
        {
          "output_type": "stream",
          "name": "stdout",
          "text": [
            "\n",
            "      Epoch    GPU_mem   box_loss   cls_loss   dfl_loss  Instances       Size\n"
          ]
        },
        {
          "output_type": "stream",
          "name": "stderr",
          "text": [
            "       3/30      3.39G      5.047      5.835      3.867         77        640: 100%|██████████| 115/115 [00:37<00:00,  3.04it/s]\n",
            "                 Class     Images  Instances      Box(P          R      mAP50  mAP50-95): 100%|██████████| 7/7 [00:01<00:00,  4.20it/s]"
          ]
        },
        {
          "output_type": "stream",
          "name": "stdout",
          "text": [
            "                   all        200       1966      0.525      0.275      0.249      0.106\n"
          ]
        },
        {
          "output_type": "stream",
          "name": "stderr",
          "text": [
            "\n"
          ]
        },
        {
          "output_type": "stream",
          "name": "stdout",
          "text": [
            "\n",
            "      Epoch    GPU_mem   box_loss   cls_loss   dfl_loss  Instances       Size\n"
          ]
        },
        {
          "output_type": "stream",
          "name": "stderr",
          "text": [
            "       4/30      3.39G      4.338      4.513      3.243         96        640: 100%|██████████| 115/115 [00:36<00:00,  3.18it/s]\n",
            "                 Class     Images  Instances      Box(P          R      mAP50  mAP50-95): 100%|██████████| 7/7 [00:01<00:00,  3.56it/s]\n"
          ]
        },
        {
          "output_type": "stream",
          "name": "stdout",
          "text": [
            "                   all        200       1966      0.461      0.396      0.361      0.178\n",
            "\n",
            "      Epoch    GPU_mem   box_loss   cls_loss   dfl_loss  Instances       Size\n"
          ]
        },
        {
          "output_type": "stream",
          "name": "stderr",
          "text": [
            "       5/30      3.39G      3.898      3.816      2.923         87        640: 100%|██████████| 115/115 [00:36<00:00,  3.12it/s]\n",
            "                 Class     Images  Instances      Box(P          R      mAP50  mAP50-95): 100%|██████████| 7/7 [00:01<00:00,  4.56it/s]"
          ]
        },
        {
          "output_type": "stream",
          "name": "stdout",
          "text": [
            "                   all        200       1966      0.561      0.411      0.435      0.251\n"
          ]
        },
        {
          "output_type": "stream",
          "name": "stderr",
          "text": [
            "\n"
          ]
        },
        {
          "output_type": "stream",
          "name": "stdout",
          "text": [
            "\n",
            "      Epoch    GPU_mem   box_loss   cls_loss   dfl_loss  Instances       Size\n"
          ]
        },
        {
          "output_type": "stream",
          "name": "stderr",
          "text": [
            "       6/30      3.39G      3.703      3.509      2.768        130        640: 100%|██████████| 115/115 [00:37<00:00,  3.08it/s]\n",
            "                 Class     Images  Instances      Box(P          R      mAP50  mAP50-95): 100%|██████████| 7/7 [00:01<00:00,  4.52it/s]"
          ]
        },
        {
          "output_type": "stream",
          "name": "stdout",
          "text": [
            "                   all        200       1966      0.581      0.448      0.465      0.266\n"
          ]
        },
        {
          "output_type": "stream",
          "name": "stderr",
          "text": [
            "\n"
          ]
        },
        {
          "output_type": "stream",
          "name": "stdout",
          "text": [
            "\n",
            "      Epoch    GPU_mem   box_loss   cls_loss   dfl_loss  Instances       Size\n"
          ]
        },
        {
          "output_type": "stream",
          "name": "stderr",
          "text": [
            "       7/30      3.39G      3.531      3.177      2.608        103        640: 100%|██████████| 115/115 [00:36<00:00,  3.13it/s]\n",
            "                 Class     Images  Instances      Box(P          R      mAP50  mAP50-95): 100%|██████████| 7/7 [00:02<00:00,  3.20it/s]"
          ]
        },
        {
          "output_type": "stream",
          "name": "stdout",
          "text": [
            "                   all        200       1966      0.652      0.484      0.517       0.31\n"
          ]
        },
        {
          "output_type": "stream",
          "name": "stderr",
          "text": [
            "\n"
          ]
        },
        {
          "output_type": "stream",
          "name": "stdout",
          "text": [
            "\n",
            "      Epoch    GPU_mem   box_loss   cls_loss   dfl_loss  Instances       Size\n"
          ]
        },
        {
          "output_type": "stream",
          "name": "stderr",
          "text": [
            "       8/30      3.39G      3.379      2.986       2.54         84        640: 100%|██████████| 115/115 [00:36<00:00,  3.15it/s]\n",
            "                 Class     Images  Instances      Box(P          R      mAP50  mAP50-95): 100%|██████████| 7/7 [00:01<00:00,  3.58it/s]"
          ]
        },
        {
          "output_type": "stream",
          "name": "stdout",
          "text": [
            "                   all        200       1966      0.572      0.476      0.516      0.325\n"
          ]
        },
        {
          "output_type": "stream",
          "name": "stderr",
          "text": [
            "\n"
          ]
        },
        {
          "output_type": "stream",
          "name": "stdout",
          "text": [
            "\n",
            "      Epoch    GPU_mem   box_loss   cls_loss   dfl_loss  Instances       Size\n"
          ]
        },
        {
          "output_type": "stream",
          "name": "stderr",
          "text": [
            "       9/30      3.39G      3.175      2.766       2.43        103        640: 100%|██████████| 115/115 [00:36<00:00,  3.11it/s]\n",
            "                 Class     Images  Instances      Box(P          R      mAP50  mAP50-95): 100%|██████████| 7/7 [00:01<00:00,  4.50it/s]"
          ]
        },
        {
          "output_type": "stream",
          "name": "stdout",
          "text": [
            "                   all        200       1966      0.585      0.543      0.569      0.364\n"
          ]
        },
        {
          "output_type": "stream",
          "name": "stderr",
          "text": [
            "\n"
          ]
        },
        {
          "output_type": "stream",
          "name": "stdout",
          "text": [
            "\n",
            "      Epoch    GPU_mem   box_loss   cls_loss   dfl_loss  Instances       Size\n"
          ]
        },
        {
          "output_type": "stream",
          "name": "stderr",
          "text": [
            "      10/30      3.39G      3.082        2.6      2.379        106        640: 100%|██████████| 115/115 [00:37<00:00,  3.06it/s]\n",
            "                 Class     Images  Instances      Box(P          R      mAP50  mAP50-95): 100%|██████████| 7/7 [00:01<00:00,  4.49it/s]"
          ]
        },
        {
          "output_type": "stream",
          "name": "stdout",
          "text": [
            "                   all        200       1966       0.61      0.553      0.627      0.401\n"
          ]
        },
        {
          "output_type": "stream",
          "name": "stderr",
          "text": [
            "\n"
          ]
        },
        {
          "output_type": "stream",
          "name": "stdout",
          "text": [
            "\n",
            "      Epoch    GPU_mem   box_loss   cls_loss   dfl_loss  Instances       Size\n"
          ]
        },
        {
          "output_type": "stream",
          "name": "stderr",
          "text": [
            "      11/30      3.39G      3.011      2.462      2.332         64        640: 100%|██████████| 115/115 [00:37<00:00,  3.10it/s]\n",
            "                 Class     Images  Instances      Box(P          R      mAP50  mAP50-95): 100%|██████████| 7/7 [00:02<00:00,  3.41it/s]"
          ]
        },
        {
          "output_type": "stream",
          "name": "stdout",
          "text": [
            "                   all        200       1966      0.596      0.655      0.646      0.414\n"
          ]
        },
        {
          "output_type": "stream",
          "name": "stderr",
          "text": [
            "\n"
          ]
        },
        {
          "output_type": "stream",
          "name": "stdout",
          "text": [
            "\n",
            "      Epoch    GPU_mem   box_loss   cls_loss   dfl_loss  Instances       Size\n"
          ]
        },
        {
          "output_type": "stream",
          "name": "stderr",
          "text": [
            "      12/30      3.39G      2.876      2.348       2.28        104        640: 100%|██████████| 115/115 [00:36<00:00,  3.17it/s]\n",
            "                 Class     Images  Instances      Box(P          R      mAP50  mAP50-95): 100%|██████████| 7/7 [00:01<00:00,  4.57it/s]"
          ]
        },
        {
          "output_type": "stream",
          "name": "stdout",
          "text": [
            "                   all        200       1966      0.706      0.589      0.686      0.453\n"
          ]
        },
        {
          "output_type": "stream",
          "name": "stderr",
          "text": [
            "\n"
          ]
        },
        {
          "output_type": "stream",
          "name": "stdout",
          "text": [
            "\n",
            "      Epoch    GPU_mem   box_loss   cls_loss   dfl_loss  Instances       Size\n"
          ]
        },
        {
          "output_type": "stream",
          "name": "stderr",
          "text": [
            "      13/30      3.39G        2.8      2.243      2.244         61        640: 100%|██████████| 115/115 [00:37<00:00,  3.09it/s]\n",
            "                 Class     Images  Instances      Box(P          R      mAP50  mAP50-95): 100%|██████████| 7/7 [00:01<00:00,  4.39it/s]"
          ]
        },
        {
          "output_type": "stream",
          "name": "stdout",
          "text": [
            "                   all        200       1966      0.604      0.663      0.689      0.482\n"
          ]
        },
        {
          "output_type": "stream",
          "name": "stderr",
          "text": [
            "\n"
          ]
        },
        {
          "output_type": "stream",
          "name": "stdout",
          "text": [
            "\n",
            "      Epoch    GPU_mem   box_loss   cls_loss   dfl_loss  Instances       Size\n"
          ]
        },
        {
          "output_type": "stream",
          "name": "stderr",
          "text": [
            "      14/30      3.39G      2.741      2.167      2.207         86        640: 100%|██████████| 115/115 [00:37<00:00,  3.10it/s]\n",
            "                 Class     Images  Instances      Box(P          R      mAP50  mAP50-95): 100%|██████████| 7/7 [00:01<00:00,  4.37it/s]"
          ]
        },
        {
          "output_type": "stream",
          "name": "stdout",
          "text": [
            "                   all        200       1966      0.718      0.673       0.72      0.487\n"
          ]
        },
        {
          "output_type": "stream",
          "name": "stderr",
          "text": [
            "\n"
          ]
        },
        {
          "output_type": "stream",
          "name": "stdout",
          "text": [
            "\n",
            "      Epoch    GPU_mem   box_loss   cls_loss   dfl_loss  Instances       Size\n"
          ]
        },
        {
          "output_type": "stream",
          "name": "stderr",
          "text": [
            "      15/30      3.39G      2.715      2.129      2.204         83        640: 100%|██████████| 115/115 [00:36<00:00,  3.16it/s]\n",
            "                 Class     Images  Instances      Box(P          R      mAP50  mAP50-95): 100%|██████████| 7/7 [00:02<00:00,  2.92it/s]\n"
          ]
        },
        {
          "output_type": "stream",
          "name": "stdout",
          "text": [
            "                   all        200       1966      0.754      0.657      0.721      0.469\n",
            "\n",
            "      Epoch    GPU_mem   box_loss   cls_loss   dfl_loss  Instances       Size\n"
          ]
        },
        {
          "output_type": "stream",
          "name": "stderr",
          "text": [
            "      16/30      3.39G      2.642      2.064      2.155        102        640: 100%|██████████| 115/115 [00:35<00:00,  3.21it/s]\n",
            "                 Class     Images  Instances      Box(P          R      mAP50  mAP50-95): 100%|██████████| 7/7 [00:01<00:00,  4.34it/s]"
          ]
        },
        {
          "output_type": "stream",
          "name": "stdout",
          "text": [
            "                   all        200       1966      0.739      0.656       0.75       0.52\n"
          ]
        },
        {
          "output_type": "stream",
          "name": "stderr",
          "text": [
            "\n"
          ]
        },
        {
          "output_type": "stream",
          "name": "stdout",
          "text": [
            "\n",
            "      Epoch    GPU_mem   box_loss   cls_loss   dfl_loss  Instances       Size\n"
          ]
        },
        {
          "output_type": "stream",
          "name": "stderr",
          "text": [
            "      17/30       3.4G      2.568      2.012      2.148         60        640: 100%|██████████| 115/115 [00:37<00:00,  3.07it/s]\n",
            "                 Class     Images  Instances      Box(P          R      mAP50  mAP50-95): 100%|██████████| 7/7 [00:01<00:00,  4.69it/s]"
          ]
        },
        {
          "output_type": "stream",
          "name": "stdout",
          "text": [
            "                   all        200       1966      0.712      0.681      0.733      0.511\n"
          ]
        },
        {
          "output_type": "stream",
          "name": "stderr",
          "text": [
            "\n"
          ]
        },
        {
          "output_type": "stream",
          "name": "stdout",
          "text": [
            "\n",
            "      Epoch    GPU_mem   box_loss   cls_loss   dfl_loss  Instances       Size\n"
          ]
        },
        {
          "output_type": "stream",
          "name": "stderr",
          "text": [
            "      18/30      3.42G      2.548       1.97       2.13         42        640: 100%|██████████| 115/115 [00:41<00:00,  2.79it/s]\n",
            "                 Class     Images  Instances      Box(P          R      mAP50  mAP50-95): 100%|██████████| 7/7 [00:01<00:00,  4.03it/s]"
          ]
        },
        {
          "output_type": "stream",
          "name": "stdout",
          "text": [
            "                   all        200       1966      0.715      0.723      0.778      0.557\n"
          ]
        },
        {
          "output_type": "stream",
          "name": "stderr",
          "text": [
            "\n"
          ]
        },
        {
          "output_type": "stream",
          "name": "stdout",
          "text": [
            "\n",
            "      Epoch    GPU_mem   box_loss   cls_loss   dfl_loss  Instances       Size\n"
          ]
        },
        {
          "output_type": "stream",
          "name": "stderr",
          "text": [
            "      19/30      3.44G      2.474      1.899      2.107         92        640: 100%|██████████| 115/115 [00:43<00:00,  2.65it/s]\n",
            "                 Class     Images  Instances      Box(P          R      mAP50  mAP50-95): 100%|██████████| 7/7 [00:02<00:00,  3.40it/s]"
          ]
        },
        {
          "output_type": "stream",
          "name": "stdout",
          "text": [
            "                   all        200       1966      0.702      0.726      0.748      0.524\n"
          ]
        },
        {
          "output_type": "stream",
          "name": "stderr",
          "text": [
            "\n"
          ]
        },
        {
          "output_type": "stream",
          "name": "stdout",
          "text": [
            "\n",
            "      Epoch    GPU_mem   box_loss   cls_loss   dfl_loss  Instances       Size\n"
          ]
        },
        {
          "output_type": "stream",
          "name": "stderr",
          "text": [
            "      20/30      3.46G      2.441       1.85      2.073        100        640: 100%|██████████| 115/115 [00:42<00:00,  2.70it/s]\n",
            "                 Class     Images  Instances      Box(P          R      mAP50  mAP50-95): 100%|██████████| 7/7 [00:02<00:00,  2.86it/s]"
          ]
        },
        {
          "output_type": "stream",
          "name": "stdout",
          "text": [
            "                   all        200       1966      0.738      0.697      0.746      0.533\n"
          ]
        },
        {
          "output_type": "stream",
          "name": "stderr",
          "text": [
            "\n"
          ]
        },
        {
          "output_type": "stream",
          "name": "stdout",
          "text": [
            "Closing dataloader mosaic\n",
            "\u001b[34m\u001b[1malbumentations: \u001b[0mBlur(p=0.01, blur_limit=(3, 7)), MedianBlur(p=0.01, blur_limit=(3, 7)), ToGray(p=0.01, method='weighted_average', num_output_channels=3), CLAHE(p=0.01, clip_limit=(1.0, 4.0), tile_grid_size=(8, 8))\n",
            "\n",
            "      Epoch    GPU_mem   box_loss   cls_loss   dfl_loss  Instances       Size\n"
          ]
        },
        {
          "output_type": "stream",
          "name": "stderr",
          "text": [
            "      21/30      3.47G      2.249        1.7      1.992         49        640: 100%|██████████| 115/115 [00:41<00:00,  2.80it/s]\n",
            "                 Class     Images  Instances      Box(P          R      mAP50  mAP50-95): 100%|██████████| 7/7 [00:02<00:00,  2.90it/s]"
          ]
        },
        {
          "output_type": "stream",
          "name": "stdout",
          "text": [
            "                   all        200       1966      0.747      0.724      0.765      0.551\n"
          ]
        },
        {
          "output_type": "stream",
          "name": "stderr",
          "text": [
            "\n"
          ]
        },
        {
          "output_type": "stream",
          "name": "stdout",
          "text": [
            "\n",
            "      Epoch    GPU_mem   box_loss   cls_loss   dfl_loss  Instances       Size\n"
          ]
        },
        {
          "output_type": "stream",
          "name": "stderr",
          "text": [
            "      22/30      3.49G      2.179      1.611      1.951         68        640: 100%|██████████| 115/115 [00:36<00:00,  3.11it/s]\n",
            "                 Class     Images  Instances      Box(P          R      mAP50  mAP50-95): 100%|██████████| 7/7 [00:01<00:00,  4.67it/s]"
          ]
        },
        {
          "output_type": "stream",
          "name": "stdout",
          "text": [
            "                   all        200       1966       0.72      0.706      0.767      0.559\n"
          ]
        },
        {
          "output_type": "stream",
          "name": "stderr",
          "text": [
            "\n"
          ]
        },
        {
          "output_type": "stream",
          "name": "stdout",
          "text": [
            "\n",
            "      Epoch    GPU_mem   box_loss   cls_loss   dfl_loss  Instances       Size\n"
          ]
        },
        {
          "output_type": "stream",
          "name": "stderr",
          "text": [
            "      23/30       3.5G      2.098      1.556      1.939         52        640: 100%|██████████| 115/115 [00:34<00:00,  3.33it/s]\n",
            "                 Class     Images  Instances      Box(P          R      mAP50  mAP50-95): 100%|██████████| 7/7 [00:01<00:00,  3.53it/s]"
          ]
        },
        {
          "output_type": "stream",
          "name": "stdout",
          "text": [
            "                   all        200       1966      0.746      0.674      0.767      0.555\n"
          ]
        },
        {
          "output_type": "stream",
          "name": "stderr",
          "text": [
            "\n"
          ]
        },
        {
          "output_type": "stream",
          "name": "stdout",
          "text": [
            "\n",
            "      Epoch    GPU_mem   box_loss   cls_loss   dfl_loss  Instances       Size\n"
          ]
        },
        {
          "output_type": "stream",
          "name": "stderr",
          "text": [
            "      24/30      3.52G      2.093      1.547      1.932         68        640: 100%|██████████| 115/115 [00:33<00:00,  3.40it/s]\n",
            "                 Class     Images  Instances      Box(P          R      mAP50  mAP50-95): 100%|██████████| 7/7 [00:01<00:00,  4.64it/s]"
          ]
        },
        {
          "output_type": "stream",
          "name": "stdout",
          "text": [
            "                   all        200       1966      0.744      0.709      0.777      0.575\n"
          ]
        },
        {
          "output_type": "stream",
          "name": "stderr",
          "text": [
            "\n"
          ]
        },
        {
          "output_type": "stream",
          "name": "stdout",
          "text": [
            "\n",
            "      Epoch    GPU_mem   box_loss   cls_loss   dfl_loss  Instances       Size\n"
          ]
        },
        {
          "output_type": "stream",
          "name": "stderr",
          "text": [
            "      25/30      3.53G      2.041      1.502       1.91         46        640: 100%|██████████| 115/115 [00:35<00:00,  3.28it/s]\n",
            "                 Class     Images  Instances      Box(P          R      mAP50  mAP50-95): 100%|██████████| 7/7 [00:01<00:00,  4.34it/s]"
          ]
        },
        {
          "output_type": "stream",
          "name": "stdout",
          "text": [
            "                   all        200       1966      0.753      0.733      0.778      0.578\n"
          ]
        },
        {
          "output_type": "stream",
          "name": "stderr",
          "text": [
            "\n"
          ]
        },
        {
          "output_type": "stream",
          "name": "stdout",
          "text": [
            "\n",
            "      Epoch    GPU_mem   box_loss   cls_loss   dfl_loss  Instances       Size\n"
          ]
        },
        {
          "output_type": "stream",
          "name": "stderr",
          "text": [
            "      26/30      3.55G      2.008      1.484      1.898         52        640: 100%|██████████| 115/115 [00:34<00:00,  3.35it/s]\n",
            "                 Class     Images  Instances      Box(P          R      mAP50  mAP50-95): 100%|██████████| 7/7 [00:01<00:00,  4.70it/s]"
          ]
        },
        {
          "output_type": "stream",
          "name": "stdout",
          "text": [
            "                   all        200       1966      0.733      0.738       0.78      0.583\n"
          ]
        },
        {
          "output_type": "stream",
          "name": "stderr",
          "text": [
            "\n"
          ]
        },
        {
          "output_type": "stream",
          "name": "stdout",
          "text": [
            "\n",
            "      Epoch    GPU_mem   box_loss   cls_loss   dfl_loss  Instances       Size\n"
          ]
        },
        {
          "output_type": "stream",
          "name": "stderr",
          "text": [
            "      27/30      3.56G      1.976      1.452        1.9         66        640: 100%|██████████| 115/115 [00:35<00:00,  3.26it/s]\n",
            "                 Class     Images  Instances      Box(P          R      mAP50  mAP50-95): 100%|██████████| 7/7 [00:01<00:00,  4.47it/s]"
          ]
        },
        {
          "output_type": "stream",
          "name": "stdout",
          "text": [
            "                   all        200       1966      0.737      0.751      0.794      0.595\n"
          ]
        },
        {
          "output_type": "stream",
          "name": "stderr",
          "text": [
            "\n"
          ]
        },
        {
          "output_type": "stream",
          "name": "stdout",
          "text": [
            "\n",
            "      Epoch    GPU_mem   box_loss   cls_loss   dfl_loss  Instances       Size\n"
          ]
        },
        {
          "output_type": "stream",
          "name": "stderr",
          "text": [
            "      28/30      3.58G      1.955      1.457       1.89         59        640: 100%|██████████| 115/115 [00:33<00:00,  3.41it/s]\n",
            "                 Class     Images  Instances      Box(P          R      mAP50  mAP50-95): 100%|██████████| 7/7 [00:01<00:00,  4.44it/s]"
          ]
        },
        {
          "output_type": "stream",
          "name": "stdout",
          "text": [
            "                   all        200       1966      0.757      0.741        0.8        0.6\n"
          ]
        },
        {
          "output_type": "stream",
          "name": "stderr",
          "text": [
            "\n"
          ]
        },
        {
          "output_type": "stream",
          "name": "stdout",
          "text": [
            "\n",
            "      Epoch    GPU_mem   box_loss   cls_loss   dfl_loss  Instances       Size\n"
          ]
        },
        {
          "output_type": "stream",
          "name": "stderr",
          "text": [
            "      29/30      3.59G      1.949      1.425      1.883         55        640: 100%|██████████| 115/115 [00:35<00:00,  3.27it/s]\n",
            "                 Class     Images  Instances      Box(P          R      mAP50  mAP50-95): 100%|██████████| 7/7 [00:01<00:00,  4.76it/s]"
          ]
        },
        {
          "output_type": "stream",
          "name": "stdout",
          "text": [
            "                   all        200       1966      0.763      0.745      0.801      0.604\n"
          ]
        },
        {
          "output_type": "stream",
          "name": "stderr",
          "text": [
            "\n"
          ]
        },
        {
          "output_type": "stream",
          "name": "stdout",
          "text": [
            "\n",
            "      Epoch    GPU_mem   box_loss   cls_loss   dfl_loss  Instances       Size\n"
          ]
        },
        {
          "output_type": "stream",
          "name": "stderr",
          "text": [
            "      30/30      3.61G      1.903      1.404      1.874         72        640: 100%|██████████| 115/115 [00:33<00:00,  3.40it/s]\n",
            "                 Class     Images  Instances      Box(P          R      mAP50  mAP50-95): 100%|██████████| 7/7 [00:02<00:00,  3.19it/s]"
          ]
        },
        {
          "output_type": "stream",
          "name": "stdout",
          "text": [
            "                   all        200       1966      0.752      0.757        0.8      0.604\n"
          ]
        },
        {
          "output_type": "stream",
          "name": "stderr",
          "text": [
            "\n"
          ]
        },
        {
          "output_type": "stream",
          "name": "stdout",
          "text": [
            "\n",
            "30 epochs completed in 0.331 hours.\n",
            "Optimizer stripped from /content/outputs/day_rain_YOLOv10_train/weights/last.pt, 5.8MB\n",
            "Optimizer stripped from /content/outputs/day_rain_YOLOv10_train/weights/best.pt, 5.8MB\n",
            "\n",
            "Validating /content/outputs/day_rain_YOLOv10_train/weights/best.pt...\n",
            "Ultralytics 8.3.182 🚀 Python-3.12.11 torch-2.8.0+cu126 CUDA:0 (Tesla T4, 15095MiB)\n",
            "YOLOv10n summary (fused): 102 layers, 2,266,143 parameters, 0 gradients, 6.5 GFLOPs\n"
          ]
        },
        {
          "output_type": "stream",
          "name": "stderr",
          "text": [
            "                 Class     Images  Instances      Box(P          R      mAP50  mAP50-95): 100%|██████████| 7/7 [00:04<00:00,  1.53it/s]\n"
          ]
        },
        {
          "output_type": "stream",
          "name": "stdout",
          "text": [
            "                   all        200       1966      0.752      0.758        0.8      0.604\n",
            "                   car        198        420      0.783      0.894      0.918      0.793\n",
            "            pedestrian        132        174      0.727      0.566      0.624      0.338\n",
            "        traffic lights        149       1007      0.853       0.75      0.867       0.62\n",
            "    traffic sign board         90        154      0.737      0.818      0.806      0.621\n",
            "                 truck        157        211       0.66      0.763      0.787      0.651\n",
            "Speed: 0.4ms preprocess, 3.8ms inference, 0.0ms loss, 1.4ms postprocess per image\n",
            "Results saved to \u001b[1m/content/outputs/day_rain_YOLOv10_train\u001b[0m\n",
            "Ultralytics 8.3.182 🚀 Python-3.12.11 torch-2.8.0+cu126 CUDA:0 (Tesla T4, 15095MiB)\n",
            "YOLOv10n summary (fused): 102 layers, 2,266,143 parameters, 0 gradients, 6.5 GFLOPs\n",
            "\u001b[34m\u001b[1mval: \u001b[0mFast image access ✅ (ping: 0.0±0.0 ms, read: 999.8±457.8 MB/s, size: 59.6 KB)\n"
          ]
        },
        {
          "output_type": "stream",
          "name": "stderr",
          "text": [
            "\u001b[34m\u001b[1mval: \u001b[0mScanning /content/datasets/day_rain/valid/labels.cache... 200 images, 0 backgrounds, 0 corrupt: 100%|██████████| 200/200 [00:00<?, ?it/s]\n",
            "                 Class     Images  Instances      Box(P          R      mAP50  mAP50-95): 100%|██████████| 13/13 [00:12<00:00,  1.02it/s]\n"
          ]
        },
        {
          "output_type": "stream",
          "name": "stdout",
          "text": [
            "                   all        200       1966      0.756      0.751        0.8      0.606\n",
            "                   car        198        420      0.785      0.886      0.918      0.792\n",
            "            pedestrian        132        174      0.734      0.552      0.624      0.343\n",
            "        traffic lights        149       1007      0.854      0.748      0.866      0.621\n",
            "    traffic sign board         90        154      0.745      0.818      0.806       0.62\n",
            "                 truck        157        211       0.66      0.754      0.788      0.652\n",
            "Speed: 0.8ms preprocess, 5.2ms inference, 0.0ms loss, 0.2ms postprocess per image\n",
            "Saving /content/outputs/day_rain_YOLOv10_val/predictions.json...\n",
            "Results saved to \u001b[1m/content/outputs/day_rain_YOLOv10_val\u001b[0m\n",
            "YOLOv10 on day_rain Results:\n",
            "mAP50: 0.8002881916533049\n",
            "mAP: 0.605657215536659\n",
            "Precision: 0.7556112662448289\n",
            "Recall: 0.7514388411238595\n",
            "FPS: 193.99179269866534\n",
            "Outputs saved in: /content/outputs/day_rain_YOLOv10\n",
            "\n",
            "Training and evaluating YOLOv10 on night_rain...\n",
            "\n",
            "Ultralytics 8.3.182 🚀 Python-3.12.11 torch-2.8.0+cu126 CUDA:0 (Tesla T4, 15095MiB)\n",
            "\u001b[34m\u001b[1mengine/trainer: \u001b[0magnostic_nms=False, amp=True, augment=False, auto_augment=randaugment, batch=16, bgr=0.0, box=7.5, cache=False, cfg=None, classes=None, close_mosaic=10, cls=0.5, conf=None, copy_paste=0.0, copy_paste_mode=flip, cos_lr=False, cutmix=0.0, data=/content/datasets/night_rain/data.yaml, degrees=0.0, deterministic=True, device=0, dfl=1.5, dnn=False, dropout=0.0, dynamic=False, embed=None, epochs=30, erasing=0.4, exist_ok=False, fliplr=0.5, flipud=0.0, format=torchscript, fraction=1.0, freeze=None, half=False, hsv_h=0.015, hsv_s=0.7, hsv_v=0.4, imgsz=640, int8=False, iou=0.7, keras=False, kobj=1.0, line_width=None, lr0=0.01, lrf=0.01, mask_ratio=4, max_det=300, mixup=0.0, mode=train, model=yolov10n.yaml, momentum=0.937, mosaic=1.0, multi_scale=False, name=night_rain_YOLOv10_train, nbs=64, nms=False, opset=None, optimize=False, optimizer=auto, overlap_mask=True, patience=100, perspective=0.0, plots=True, pose=12.0, pretrained=True, profile=False, project=/content/outputs, rect=False, resume=False, retina_masks=False, save=True, save_conf=False, save_crop=False, save_dir=/content/outputs/night_rain_YOLOv10_train, save_frames=False, save_json=False, save_period=-1, save_txt=False, scale=0.5, seed=0, shear=0.0, show=False, show_boxes=True, show_conf=True, show_labels=True, simplify=True, single_cls=False, source=None, split=val, stream_buffer=False, task=detect, time=None, tracker=botsort.yaml, translate=0.1, val=True, verbose=True, vid_stride=1, visualize=False, warmup_bias_lr=0.1, warmup_epochs=3.0, warmup_momentum=0.8, weight_decay=0.0005, workers=8, workspace=None\n",
            "Overriding model.yaml nc=80 with nc=5\n",
            "\n",
            "                   from  n    params  module                                       arguments                     \n",
            "  0                  -1  1       464  ultralytics.nn.modules.conv.Conv             [3, 16, 3, 2]                 \n",
            "  1                  -1  1      4672  ultralytics.nn.modules.conv.Conv             [16, 32, 3, 2]                \n",
            "  2                  -1  1      7360  ultralytics.nn.modules.block.C2f             [32, 32, 1, True]             \n",
            "  3                  -1  1     18560  ultralytics.nn.modules.conv.Conv             [32, 64, 3, 2]                \n",
            "  4                  -1  2     49664  ultralytics.nn.modules.block.C2f             [64, 64, 2, True]             \n",
            "  5                  -1  1      9856  ultralytics.nn.modules.block.SCDown          [64, 128, 3, 2]               \n",
            "  6                  -1  2    197632  ultralytics.nn.modules.block.C2f             [128, 128, 2, True]           \n",
            "  7                  -1  1     36096  ultralytics.nn.modules.block.SCDown          [128, 256, 3, 2]              \n",
            "  8                  -1  1    460288  ultralytics.nn.modules.block.C2f             [256, 256, 1, True]           \n",
            "  9                  -1  1    164608  ultralytics.nn.modules.block.SPPF            [256, 256, 5]                 \n",
            " 10                  -1  1    249728  ultralytics.nn.modules.block.PSA             [256, 256]                    \n",
            " 11                  -1  1         0  torch.nn.modules.upsampling.Upsample         [None, 2, 'nearest']          \n",
            " 12             [-1, 6]  1         0  ultralytics.nn.modules.conv.Concat           [1]                           \n",
            " 13                  -1  1    148224  ultralytics.nn.modules.block.C2f             [384, 128, 1]                 \n",
            " 14                  -1  1         0  torch.nn.modules.upsampling.Upsample         [None, 2, 'nearest']          \n",
            " 15             [-1, 4]  1         0  ultralytics.nn.modules.conv.Concat           [1]                           \n",
            " 16                  -1  1     37248  ultralytics.nn.modules.block.C2f             [192, 64, 1]                  \n",
            " 17                  -1  1     36992  ultralytics.nn.modules.conv.Conv             [64, 64, 3, 2]                \n",
            " 18            [-1, 13]  1         0  ultralytics.nn.modules.conv.Concat           [1]                           \n",
            " 19                  -1  1    123648  ultralytics.nn.modules.block.C2f             [192, 128, 1]                 \n",
            " 20                  -1  1     18048  ultralytics.nn.modules.block.SCDown          [128, 128, 3, 2]              \n",
            " 21            [-1, 10]  1         0  ultralytics.nn.modules.conv.Concat           [1]                           \n",
            " 22                  -1  1    282624  ultralytics.nn.modules.block.C2fCIB          [384, 256, 1, True, True]     \n",
            " 23        [16, 19, 22]  1    863278  ultralytics.nn.modules.head.v10Detect        [5, [64, 128, 256]]           \n",
            "YOLOv10n summary: 223 layers, 2,708,990 parameters, 2,708,974 gradients, 8.4 GFLOPs\n",
            "\n",
            "Freezing layer 'model.23.dfl.conv.weight'\n",
            "\u001b[34m\u001b[1mAMP: \u001b[0mrunning Automatic Mixed Precision (AMP) checks...\n",
            "\u001b[34m\u001b[1mAMP: \u001b[0mchecks passed ✅\n",
            "\u001b[34m\u001b[1mtrain: \u001b[0mFast image access ✅ (ping: 0.0±0.0 ms, read: 6.2±1.9 MB/s, size: 27.9 KB)\n"
          ]
        },
        {
          "output_type": "stream",
          "name": "stderr",
          "text": [
            "\u001b[34m\u001b[1mtrain: \u001b[0mScanning /content/datasets/night_rain/train/labels... 1920 images, 320 backgrounds, 0 corrupt: 100%|██████████| 1920/1920 [00:01<00:00, 1120.87it/s]\n"
          ]
        },
        {
          "output_type": "stream",
          "name": "stdout",
          "text": [
            "\u001b[34m\u001b[1mtrain: \u001b[0mNew cache created: /content/datasets/night_rain/train/labels.cache\n",
            "\u001b[34m\u001b[1malbumentations: \u001b[0mBlur(p=0.01, blur_limit=(3, 7)), MedianBlur(p=0.01, blur_limit=(3, 7)), ToGray(p=0.01, method='weighted_average', num_output_channels=3), CLAHE(p=0.01, clip_limit=(1.0, 4.0), tile_grid_size=(8, 8))\n",
            "\u001b[34m\u001b[1mval: \u001b[0mFast image access ✅ (ping: 0.0±0.0 ms, read: 11.9±2.4 MB/s, size: 29.5 KB)\n"
          ]
        },
        {
          "output_type": "stream",
          "name": "stderr",
          "text": [
            "\u001b[34m\u001b[1mval: \u001b[0mScanning /content/datasets/night_rain/valid/labels... 190 images, 16 backgrounds, 0 corrupt: 100%|██████████| 190/190 [00:00<00:00, 739.18it/s]"
          ]
        },
        {
          "output_type": "stream",
          "name": "stdout",
          "text": [
            "\u001b[34m\u001b[1mval: \u001b[0mNew cache created: /content/datasets/night_rain/valid/labels.cache\n"
          ]
        },
        {
          "output_type": "stream",
          "name": "stderr",
          "text": [
            "\n"
          ]
        },
        {
          "output_type": "stream",
          "name": "stdout",
          "text": [
            "Plotting labels to /content/outputs/night_rain_YOLOv10_train/labels.jpg... \n",
            "\u001b[34m\u001b[1moptimizer:\u001b[0m 'optimizer=auto' found, ignoring 'lr0=0.01' and 'momentum=0.937' and determining best 'optimizer', 'lr0' and 'momentum' automatically... \n",
            "\u001b[34m\u001b[1moptimizer:\u001b[0m AdamW(lr=0.001111, momentum=0.9) with parameter groups 95 weight(decay=0.0), 108 weight(decay=0.0005), 107 bias(decay=0.0)\n",
            "Image sizes 640 train, 640 val\n",
            "Using 2 dataloader workers\n",
            "Logging results to \u001b[1m/content/outputs/night_rain_YOLOv10_train\u001b[0m\n",
            "Starting training for 30 epochs...\n",
            "\n",
            "      Epoch    GPU_mem   box_loss   cls_loss   dfl_loss  Instances       Size\n"
          ]
        },
        {
          "output_type": "stream",
          "name": "stderr",
          "text": [
            "       1/30      3.12G      5.963      17.37      8.369         34        640: 100%|██████████| 120/120 [00:39<00:00,  3.01it/s]\n",
            "                 Class     Images  Instances      Box(P          R      mAP50  mAP50-95): 100%|██████████| 6/6 [00:04<00:00,  1.43it/s]"
          ]
        },
        {
          "output_type": "stream",
          "name": "stdout",
          "text": [
            "                   all        190        340          0          0          0          0\n"
          ]
        },
        {
          "output_type": "stream",
          "name": "stderr",
          "text": [
            "\n"
          ]
        },
        {
          "output_type": "stream",
          "name": "stdout",
          "text": [
            "\n",
            "      Epoch    GPU_mem   box_loss   cls_loss   dfl_loss  Instances       Size\n"
          ]
        },
        {
          "output_type": "stream",
          "name": "stderr",
          "text": [
            "       2/30       3.4G      5.198      12.12      6.637         28        640: 100%|██████████| 120/120 [00:37<00:00,  3.19it/s]\n",
            "                 Class     Images  Instances      Box(P          R      mAP50  mAP50-95): 100%|██████████| 6/6 [00:01<00:00,  4.76it/s]\n"
          ]
        },
        {
          "output_type": "stream",
          "name": "stdout",
          "text": [
            "                   all        190        340      0.874     0.0797     0.0595     0.0206\n",
            "\n",
            "      Epoch    GPU_mem   box_loss   cls_loss   dfl_loss  Instances       Size\n"
          ]
        },
        {
          "output_type": "stream",
          "name": "stderr",
          "text": [
            "       3/30       3.4G      4.467      7.522      5.349         31        640: 100%|██████████| 120/120 [00:36<00:00,  3.27it/s]\n",
            "                 Class     Images  Instances      Box(P          R      mAP50  mAP50-95): 100%|██████████| 6/6 [00:01<00:00,  3.22it/s]"
          ]
        },
        {
          "output_type": "stream",
          "name": "stdout",
          "text": [
            "                   all        190        340      0.254      0.283      0.289      0.214\n"
          ]
        },
        {
          "output_type": "stream",
          "name": "stderr",
          "text": [
            "\n"
          ]
        },
        {
          "output_type": "stream",
          "name": "stdout",
          "text": [
            "\n",
            "      Epoch    GPU_mem   box_loss   cls_loss   dfl_loss  Instances       Size\n"
          ]
        },
        {
          "output_type": "stream",
          "name": "stderr",
          "text": [
            "       4/30       3.4G      3.891      5.533      4.469         34        640: 100%|██████████| 120/120 [00:35<00:00,  3.37it/s]\n",
            "                 Class     Images  Instances      Box(P          R      mAP50  mAP50-95): 100%|██████████| 6/6 [00:01<00:00,  4.33it/s]\n"
          ]
        },
        {
          "output_type": "stream",
          "name": "stdout",
          "text": [
            "                   all        190        340      0.501      0.293      0.299      0.211\n",
            "\n",
            "      Epoch    GPU_mem   box_loss   cls_loss   dfl_loss  Instances       Size\n"
          ]
        },
        {
          "output_type": "stream",
          "name": "stderr",
          "text": [
            "       5/30       3.4G      3.299      4.292      3.833         50        640: 100%|██████████| 120/120 [00:37<00:00,  3.22it/s]\n",
            "                 Class     Images  Instances      Box(P          R      mAP50  mAP50-95): 100%|██████████| 6/6 [00:01<00:00,  4.71it/s]\n"
          ]
        },
        {
          "output_type": "stream",
          "name": "stdout",
          "text": [
            "                   all        190        340      0.796      0.306       0.44      0.329\n",
            "\n",
            "      Epoch    GPU_mem   box_loss   cls_loss   dfl_loss  Instances       Size\n"
          ]
        },
        {
          "output_type": "stream",
          "name": "stderr",
          "text": [
            "       6/30       3.4G      2.874      3.439      3.374         44        640: 100%|██████████| 120/120 [00:36<00:00,  3.30it/s]\n",
            "                 Class     Images  Instances      Box(P          R      mAP50  mAP50-95): 100%|██████████| 6/6 [00:01<00:00,  3.73it/s]"
          ]
        },
        {
          "output_type": "stream",
          "name": "stdout",
          "text": [
            "                   all        190        340      0.658      0.487      0.559      0.396\n"
          ]
        },
        {
          "output_type": "stream",
          "name": "stderr",
          "text": [
            "\n"
          ]
        },
        {
          "output_type": "stream",
          "name": "stdout",
          "text": [
            "\n",
            "      Epoch    GPU_mem   box_loss   cls_loss   dfl_loss  Instances       Size\n"
          ]
        },
        {
          "output_type": "stream",
          "name": "stderr",
          "text": [
            "       7/30       3.4G       2.59      2.993      3.117         39        640: 100%|██████████| 120/120 [00:35<00:00,  3.39it/s]\n",
            "                 Class     Images  Instances      Box(P          R      mAP50  mAP50-95): 100%|██████████| 6/6 [00:01<00:00,  4.67it/s]\n"
          ]
        },
        {
          "output_type": "stream",
          "name": "stdout",
          "text": [
            "                   all        190        340      0.617      0.553      0.582      0.411\n",
            "\n",
            "      Epoch    GPU_mem   box_loss   cls_loss   dfl_loss  Instances       Size\n"
          ]
        },
        {
          "output_type": "stream",
          "name": "stderr",
          "text": [
            "       8/30       3.4G      2.425      2.722      2.969         31        640: 100%|██████████| 120/120 [00:36<00:00,  3.26it/s]\n",
            "                 Class     Images  Instances      Box(P          R      mAP50  mAP50-95): 100%|██████████| 6/6 [00:01<00:00,  4.63it/s]\n"
          ]
        },
        {
          "output_type": "stream",
          "name": "stdout",
          "text": [
            "                   all        190        340      0.549      0.614       0.59      0.445\n",
            "\n",
            "      Epoch    GPU_mem   box_loss   cls_loss   dfl_loss  Instances       Size\n"
          ]
        },
        {
          "output_type": "stream",
          "name": "stderr",
          "text": [
            "       9/30       3.4G      2.291      2.472      2.834         41        640: 100%|██████████| 120/120 [00:36<00:00,  3.25it/s]\n",
            "                 Class     Images  Instances      Box(P          R      mAP50  mAP50-95): 100%|██████████| 6/6 [00:01<00:00,  4.56it/s]"
          ]
        },
        {
          "output_type": "stream",
          "name": "stdout",
          "text": [
            "                   all        190        340      0.595      0.602      0.638      0.453\n"
          ]
        },
        {
          "output_type": "stream",
          "name": "stderr",
          "text": [
            "\n"
          ]
        },
        {
          "output_type": "stream",
          "name": "stdout",
          "text": [
            "\n",
            "      Epoch    GPU_mem   box_loss   cls_loss   dfl_loss  Instances       Size\n"
          ]
        },
        {
          "output_type": "stream",
          "name": "stderr",
          "text": [
            "      10/30       3.4G      2.161      2.273      2.698         47        640: 100%|██████████| 120/120 [00:35<00:00,  3.37it/s]\n",
            "                 Class     Images  Instances      Box(P          R      mAP50  mAP50-95): 100%|██████████| 6/6 [00:01<00:00,  4.69it/s]"
          ]
        },
        {
          "output_type": "stream",
          "name": "stdout",
          "text": [
            "                   all        190        340      0.833      0.601      0.632      0.503\n"
          ]
        },
        {
          "output_type": "stream",
          "name": "stderr",
          "text": [
            "\n"
          ]
        },
        {
          "output_type": "stream",
          "name": "stdout",
          "text": [
            "\n",
            "      Epoch    GPU_mem   box_loss   cls_loss   dfl_loss  Instances       Size\n"
          ]
        },
        {
          "output_type": "stream",
          "name": "stderr",
          "text": [
            "      11/30       3.4G      2.039      2.135      2.624         39        640: 100%|██████████| 120/120 [00:36<00:00,  3.26it/s]\n",
            "                 Class     Images  Instances      Box(P          R      mAP50  mAP50-95): 100%|██████████| 6/6 [00:01<00:00,  4.70it/s]\n"
          ]
        },
        {
          "output_type": "stream",
          "name": "stdout",
          "text": [
            "                   all        190        340      0.845       0.63      0.669      0.522\n",
            "\n",
            "      Epoch    GPU_mem   box_loss   cls_loss   dfl_loss  Instances       Size\n"
          ]
        },
        {
          "output_type": "stream",
          "name": "stderr",
          "text": [
            "      12/30       3.4G      1.997      2.083      2.592         38        640: 100%|██████████| 120/120 [00:36<00:00,  3.27it/s]\n",
            "                 Class     Images  Instances      Box(P          R      mAP50  mAP50-95): 100%|██████████| 6/6 [00:01<00:00,  4.54it/s]"
          ]
        },
        {
          "output_type": "stream",
          "name": "stdout",
          "text": [
            "                   all        190        340      0.864      0.639      0.676      0.539\n"
          ]
        },
        {
          "output_type": "stream",
          "name": "stderr",
          "text": [
            "\n"
          ]
        },
        {
          "output_type": "stream",
          "name": "stdout",
          "text": [
            "\n",
            "      Epoch    GPU_mem   box_loss   cls_loss   dfl_loss  Instances       Size\n"
          ]
        },
        {
          "output_type": "stream",
          "name": "stderr",
          "text": [
            "      13/30       3.4G      1.869      1.877      2.474         42        640: 100%|██████████| 120/120 [00:35<00:00,  3.39it/s]\n",
            "                 Class     Images  Instances      Box(P          R      mAP50  mAP50-95): 100%|██████████| 6/6 [00:01<00:00,  4.24it/s]"
          ]
        },
        {
          "output_type": "stream",
          "name": "stdout",
          "text": [
            "                   all        190        340      0.863      0.619      0.683      0.542\n"
          ]
        },
        {
          "output_type": "stream",
          "name": "stderr",
          "text": [
            "\n"
          ]
        },
        {
          "output_type": "stream",
          "name": "stdout",
          "text": [
            "\n",
            "      Epoch    GPU_mem   box_loss   cls_loss   dfl_loss  Instances       Size\n"
          ]
        },
        {
          "output_type": "stream",
          "name": "stderr",
          "text": [
            "      14/30       3.4G      1.849      1.849      2.447         36        640: 100%|██████████| 120/120 [00:36<00:00,  3.31it/s]\n",
            "                 Class     Images  Instances      Box(P          R      mAP50  mAP50-95): 100%|██████████| 6/6 [00:01<00:00,  4.28it/s]"
          ]
        },
        {
          "output_type": "stream",
          "name": "stdout",
          "text": [
            "                   all        190        340      0.912      0.663      0.709      0.564\n"
          ]
        },
        {
          "output_type": "stream",
          "name": "stderr",
          "text": [
            "\n"
          ]
        },
        {
          "output_type": "stream",
          "name": "stdout",
          "text": [
            "\n",
            "      Epoch    GPU_mem   box_loss   cls_loss   dfl_loss  Instances       Size\n"
          ]
        },
        {
          "output_type": "stream",
          "name": "stderr",
          "text": [
            "      15/30       3.4G      1.737      1.732      2.388         51        640: 100%|██████████| 120/120 [00:36<00:00,  3.25it/s]\n",
            "                 Class     Images  Instances      Box(P          R      mAP50  mAP50-95): 100%|██████████| 6/6 [00:01<00:00,  4.48it/s]"
          ]
        },
        {
          "output_type": "stream",
          "name": "stdout",
          "text": [
            "                   all        190        340      0.885      0.651      0.703      0.563\n"
          ]
        },
        {
          "output_type": "stream",
          "name": "stderr",
          "text": [
            "\n"
          ]
        },
        {
          "output_type": "stream",
          "name": "stdout",
          "text": [
            "\n",
            "      Epoch    GPU_mem   box_loss   cls_loss   dfl_loss  Instances       Size\n"
          ]
        },
        {
          "output_type": "stream",
          "name": "stderr",
          "text": [
            "      16/30       3.4G       1.72      1.674      2.369         38        640: 100%|██████████| 120/120 [00:35<00:00,  3.41it/s]\n",
            "                 Class     Images  Instances      Box(P          R      mAP50  mAP50-95): 100%|██████████| 6/6 [00:01<00:00,  4.24it/s]"
          ]
        },
        {
          "output_type": "stream",
          "name": "stdout",
          "text": [
            "                   all        190        340      0.839      0.708      0.706      0.584\n"
          ]
        },
        {
          "output_type": "stream",
          "name": "stderr",
          "text": [
            "\n"
          ]
        },
        {
          "output_type": "stream",
          "name": "stdout",
          "text": [
            "\n",
            "      Epoch    GPU_mem   box_loss   cls_loss   dfl_loss  Instances       Size\n"
          ]
        },
        {
          "output_type": "stream",
          "name": "stderr",
          "text": [
            "      17/30       3.4G      1.675      1.649      2.342         22        640: 100%|██████████| 120/120 [00:36<00:00,  3.29it/s]\n",
            "                 Class     Images  Instances      Box(P          R      mAP50  mAP50-95): 100%|██████████| 6/6 [00:01<00:00,  4.44it/s]"
          ]
        },
        {
          "output_type": "stream",
          "name": "stdout",
          "text": [
            "                   all        190        340      0.861      0.686      0.712      0.589\n"
          ]
        },
        {
          "output_type": "stream",
          "name": "stderr",
          "text": [
            "\n"
          ]
        },
        {
          "output_type": "stream",
          "name": "stdout",
          "text": [
            "\n",
            "      Epoch    GPU_mem   box_loss   cls_loss   dfl_loss  Instances       Size\n"
          ]
        },
        {
          "output_type": "stream",
          "name": "stderr",
          "text": [
            "      18/30       3.4G       1.67      1.612      2.332         34        640: 100%|██████████| 120/120 [00:37<00:00,  3.23it/s]\n",
            "                 Class     Images  Instances      Box(P          R      mAP50  mAP50-95): 100%|██████████| 6/6 [00:01<00:00,  4.62it/s]\n"
          ]
        },
        {
          "output_type": "stream",
          "name": "stdout",
          "text": [
            "                   all        190        340      0.915      0.689      0.727      0.599\n",
            "\n",
            "      Epoch    GPU_mem   box_loss   cls_loss   dfl_loss  Instances       Size\n"
          ]
        },
        {
          "output_type": "stream",
          "name": "stderr",
          "text": [
            "      19/30       3.4G       1.59      1.503      2.277         42        640: 100%|██████████| 120/120 [00:35<00:00,  3.39it/s]\n",
            "                 Class     Images  Instances      Box(P          R      mAP50  mAP50-95): 100%|██████████| 6/6 [00:01<00:00,  4.28it/s]"
          ]
        },
        {
          "output_type": "stream",
          "name": "stdout",
          "text": [
            "                   all        190        340       0.85      0.719      0.722      0.586\n"
          ]
        },
        {
          "output_type": "stream",
          "name": "stderr",
          "text": [
            "\n"
          ]
        },
        {
          "output_type": "stream",
          "name": "stdout",
          "text": [
            "\n",
            "      Epoch    GPU_mem   box_loss   cls_loss   dfl_loss  Instances       Size\n"
          ]
        },
        {
          "output_type": "stream",
          "name": "stderr",
          "text": [
            "      20/30       3.4G      1.538      1.457      2.258         42        640: 100%|██████████| 120/120 [00:36<00:00,  3.29it/s]\n",
            "                 Class     Images  Instances      Box(P          R      mAP50  mAP50-95): 100%|██████████| 6/6 [00:01<00:00,  4.45it/s]"
          ]
        },
        {
          "output_type": "stream",
          "name": "stdout",
          "text": [
            "                   all        190        340      0.858      0.697      0.719      0.579\n"
          ]
        },
        {
          "output_type": "stream",
          "name": "stderr",
          "text": [
            "\n"
          ]
        },
        {
          "output_type": "stream",
          "name": "stdout",
          "text": [
            "Closing dataloader mosaic\n",
            "\u001b[34m\u001b[1malbumentations: \u001b[0mBlur(p=0.01, blur_limit=(3, 7)), MedianBlur(p=0.01, blur_limit=(3, 7)), ToGray(p=0.01, method='weighted_average', num_output_channels=3), CLAHE(p=0.01, clip_limit=(1.0, 4.0), tile_grid_size=(8, 8))\n",
            "\n",
            "      Epoch    GPU_mem   box_loss   cls_loss   dfl_loss  Instances       Size\n"
          ]
        },
        {
          "output_type": "stream",
          "name": "stderr",
          "text": [
            "      21/30      3.41G      1.361      1.229        2.1         34        640: 100%|██████████| 120/120 [00:37<00:00,  3.22it/s]\n",
            "                 Class     Images  Instances      Box(P          R      mAP50  mAP50-95): 100%|██████████| 6/6 [00:01<00:00,  4.38it/s]"
          ]
        },
        {
          "output_type": "stream",
          "name": "stdout",
          "text": [
            "                   all        190        340      0.896       0.71      0.741      0.612\n"
          ]
        },
        {
          "output_type": "stream",
          "name": "stderr",
          "text": [
            "\n"
          ]
        },
        {
          "output_type": "stream",
          "name": "stdout",
          "text": [
            "\n",
            "      Epoch    GPU_mem   box_loss   cls_loss   dfl_loss  Instances       Size\n"
          ]
        },
        {
          "output_type": "stream",
          "name": "stderr",
          "text": [
            "      22/30      3.43G       1.29      1.125      2.044         24        640: 100%|██████████| 120/120 [00:33<00:00,  3.55it/s]\n",
            "                 Class     Images  Instances      Box(P          R      mAP50  mAP50-95): 100%|██████████| 6/6 [00:01<00:00,  4.60it/s]"
          ]
        },
        {
          "output_type": "stream",
          "name": "stdout",
          "text": [
            "                   all        190        340      0.941      0.625       0.74      0.631\n"
          ]
        },
        {
          "output_type": "stream",
          "name": "stderr",
          "text": [
            "\n"
          ]
        },
        {
          "output_type": "stream",
          "name": "stdout",
          "text": [
            "\n",
            "      Epoch    GPU_mem   box_loss   cls_loss   dfl_loss  Instances       Size\n"
          ]
        },
        {
          "output_type": "stream",
          "name": "stderr",
          "text": [
            "      23/30      3.45G      1.223      1.082      2.023         21        640: 100%|██████████| 120/120 [00:35<00:00,  3.36it/s]\n",
            "                 Class     Images  Instances      Box(P          R      mAP50  mAP50-95): 100%|██████████| 6/6 [00:01<00:00,  4.61it/s]"
          ]
        },
        {
          "output_type": "stream",
          "name": "stdout",
          "text": [
            "                   all        190        340      0.925      0.659      0.766      0.636\n"
          ]
        },
        {
          "output_type": "stream",
          "name": "stderr",
          "text": [
            "\n"
          ]
        },
        {
          "output_type": "stream",
          "name": "stdout",
          "text": [
            "\n",
            "      Epoch    GPU_mem   box_loss   cls_loss   dfl_loss  Instances       Size\n"
          ]
        },
        {
          "output_type": "stream",
          "name": "stderr",
          "text": [
            "      24/30      3.46G      1.175      1.033      1.992         24        640: 100%|██████████| 120/120 [00:34<00:00,  3.50it/s]\n",
            "                 Class     Images  Instances      Box(P          R      mAP50  mAP50-95): 100%|██████████| 6/6 [00:01<00:00,  3.15it/s]"
          ]
        },
        {
          "output_type": "stream",
          "name": "stdout",
          "text": [
            "                   all        190        340      0.858      0.714      0.753      0.632\n"
          ]
        },
        {
          "output_type": "stream",
          "name": "stderr",
          "text": [
            "\n"
          ]
        },
        {
          "output_type": "stream",
          "name": "stdout",
          "text": [
            "\n",
            "      Epoch    GPU_mem   box_loss   cls_loss   dfl_loss  Instances       Size\n"
          ]
        },
        {
          "output_type": "stream",
          "name": "stderr",
          "text": [
            "      25/30      3.48G      1.173      1.003      1.981         20        640: 100%|██████████| 120/120 [00:34<00:00,  3.46it/s]\n",
            "                 Class     Images  Instances      Box(P          R      mAP50  mAP50-95): 100%|██████████| 6/6 [00:01<00:00,  4.54it/s]"
          ]
        },
        {
          "output_type": "stream",
          "name": "stdout",
          "text": [
            "                   all        190        340      0.936      0.693      0.766      0.644\n"
          ]
        },
        {
          "output_type": "stream",
          "name": "stderr",
          "text": [
            "\n"
          ]
        },
        {
          "output_type": "stream",
          "name": "stdout",
          "text": [
            "\n",
            "      Epoch    GPU_mem   box_loss   cls_loss   dfl_loss  Instances       Size\n"
          ]
        },
        {
          "output_type": "stream",
          "name": "stderr",
          "text": [
            "      26/30      3.49G      1.119      0.972      1.959         21        640: 100%|██████████| 120/120 [00:35<00:00,  3.42it/s]\n",
            "                 Class     Images  Instances      Box(P          R      mAP50  mAP50-95): 100%|██████████| 6/6 [00:01<00:00,  3.27it/s]"
          ]
        },
        {
          "output_type": "stream",
          "name": "stdout",
          "text": [
            "                   all        190        340      0.891      0.722      0.758      0.654\n"
          ]
        },
        {
          "output_type": "stream",
          "name": "stderr",
          "text": [
            "\n"
          ]
        },
        {
          "output_type": "stream",
          "name": "stdout",
          "text": [
            "\n",
            "      Epoch    GPU_mem   box_loss   cls_loss   dfl_loss  Instances       Size\n"
          ]
        },
        {
          "output_type": "stream",
          "name": "stderr",
          "text": [
            "      27/30      3.51G      1.096      0.968       1.97         22        640: 100%|██████████| 120/120 [00:34<00:00,  3.51it/s]\n",
            "                 Class     Images  Instances      Box(P          R      mAP50  mAP50-95): 100%|██████████| 6/6 [00:01<00:00,  4.61it/s]\n"
          ]
        },
        {
          "output_type": "stream",
          "name": "stdout",
          "text": [
            "                   all        190        340      0.914      0.696      0.788       0.68\n",
            "\n",
            "      Epoch    GPU_mem   box_loss   cls_loss   dfl_loss  Instances       Size\n"
          ]
        },
        {
          "output_type": "stream",
          "name": "stderr",
          "text": [
            "      28/30      3.52G      1.058       0.93      1.918         25        640: 100%|██████████| 120/120 [00:35<00:00,  3.36it/s]\n",
            "                 Class     Images  Instances      Box(P          R      mAP50  mAP50-95): 100%|██████████| 6/6 [00:01<00:00,  4.61it/s]"
          ]
        },
        {
          "output_type": "stream",
          "name": "stdout",
          "text": [
            "                   all        190        340      0.881      0.686      0.802      0.671\n"
          ]
        },
        {
          "output_type": "stream",
          "name": "stderr",
          "text": [
            "\n"
          ]
        },
        {
          "output_type": "stream",
          "name": "stdout",
          "text": [
            "\n",
            "      Epoch    GPU_mem   box_loss   cls_loss   dfl_loss  Instances       Size\n"
          ]
        },
        {
          "output_type": "stream",
          "name": "stderr",
          "text": [
            "      29/30      3.54G      1.043     0.9333      1.935         22        640: 100%|██████████| 120/120 [00:34<00:00,  3.49it/s]\n",
            "                 Class     Images  Instances      Box(P          R      mAP50  mAP50-95): 100%|██████████| 6/6 [00:01<00:00,  4.44it/s]"
          ]
        },
        {
          "output_type": "stream",
          "name": "stdout",
          "text": [
            "                   all        190        340      0.847      0.722      0.791      0.684\n"
          ]
        },
        {
          "output_type": "stream",
          "name": "stderr",
          "text": [
            "\n"
          ]
        },
        {
          "output_type": "stream",
          "name": "stdout",
          "text": [
            "\n",
            "      Epoch    GPU_mem   box_loss   cls_loss   dfl_loss  Instances       Size\n"
          ]
        },
        {
          "output_type": "stream",
          "name": "stderr",
          "text": [
            "      30/30      3.55G      1.028     0.9392      1.931         23        640: 100%|██████████| 120/120 [00:35<00:00,  3.40it/s]\n",
            "                 Class     Images  Instances      Box(P          R      mAP50  mAP50-95): 100%|██████████| 6/6 [00:01<00:00,  4.50it/s]"
          ]
        },
        {
          "output_type": "stream",
          "name": "stdout",
          "text": [
            "                   all        190        340      0.861        0.7      0.797      0.686\n"
          ]
        },
        {
          "output_type": "stream",
          "name": "stderr",
          "text": [
            "\n"
          ]
        },
        {
          "output_type": "stream",
          "name": "stdout",
          "text": [
            "\n",
            "30 epochs completed in 0.317 hours.\n",
            "Optimizer stripped from /content/outputs/night_rain_YOLOv10_train/weights/last.pt, 5.8MB\n",
            "Optimizer stripped from /content/outputs/night_rain_YOLOv10_train/weights/best.pt, 5.8MB\n",
            "\n",
            "Validating /content/outputs/night_rain_YOLOv10_train/weights/best.pt...\n",
            "Ultralytics 8.3.182 🚀 Python-3.12.11 torch-2.8.0+cu126 CUDA:0 (Tesla T4, 15095MiB)\n",
            "YOLOv10n summary (fused): 102 layers, 2,266,143 parameters, 0 gradients, 6.5 GFLOPs\n"
          ]
        },
        {
          "output_type": "stream",
          "name": "stderr",
          "text": [
            "                 Class     Images  Instances      Box(P          R      mAP50  mAP50-95): 100%|██████████| 6/6 [00:03<00:00,  1.70it/s]\n"
          ]
        },
        {
          "output_type": "stream",
          "name": "stdout",
          "text": [
            "                   all        190        340      0.862      0.701      0.788      0.682\n",
            "                   car        143        158        0.9      0.911      0.966      0.899\n",
            "            pedestrian         61         67      0.785      0.731      0.818      0.597\n",
            "        traffic ligths          7          7          1          0      0.281      0.194\n",
            "    traffic sign board         25         25      0.958      0.908      0.917      0.768\n",
            "                 truck         81         83      0.667      0.952      0.957      0.951\n",
            "Speed: 0.4ms preprocess, 2.9ms inference, 0.0ms loss, 0.8ms postprocess per image\n",
            "Results saved to \u001b[1m/content/outputs/night_rain_YOLOv10_train\u001b[0m\n",
            "Ultralytics 8.3.182 🚀 Python-3.12.11 torch-2.8.0+cu126 CUDA:0 (Tesla T4, 15095MiB)\n",
            "YOLOv10n summary (fused): 102 layers, 2,266,143 parameters, 0 gradients, 6.5 GFLOPs\n",
            "\u001b[34m\u001b[1mval: \u001b[0mFast image access ✅ (ping: 0.0±0.0 ms, read: 989.6±338.6 MB/s, size: 30.5 KB)\n"
          ]
        },
        {
          "output_type": "stream",
          "name": "stderr",
          "text": [
            "\u001b[34m\u001b[1mval: \u001b[0mScanning /content/datasets/night_rain/valid/labels.cache... 190 images, 16 backgrounds, 0 corrupt: 100%|██████████| 190/190 [00:00<?, ?it/s]\n",
            "                 Class     Images  Instances      Box(P          R      mAP50  mAP50-95): 100%|██████████| 12/12 [00:04<00:00,  2.87it/s]\n"
          ]
        },
        {
          "output_type": "stream",
          "name": "stdout",
          "text": [
            "                   all        190        340      0.861        0.7      0.797      0.689\n",
            "                   car        143        158      0.892      0.911      0.967      0.902\n",
            "            pedestrian         61         67      0.786      0.731      0.818      0.596\n",
            "        traffic ligths          7          7          1          0      0.328      0.227\n",
            "    traffic sign board         25         25      0.958      0.907      0.917      0.771\n",
            "                 truck         81         83      0.667      0.952      0.957      0.951\n",
            "Speed: 0.2ms preprocess, 6.1ms inference, 0.0ms loss, 0.2ms postprocess per image\n",
            "Saving /content/outputs/night_rain_YOLOv10_val/predictions.json...\n",
            "Results saved to \u001b[1m/content/outputs/night_rain_YOLOv10_val\u001b[0m\n",
            "YOLOv10 on night_rain Results:\n",
            "mAP50: 0.7971732025704619\n",
            "mAP: 0.6893313011816463\n",
            "Precision: 0.860518990085609\n",
            "Recall: 0.7003986288994618\n",
            "FPS: 164.96178345098946\n",
            "Outputs saved in: /content/outputs/night_rain_YOLOv10\n",
            "\n",
            "Results saved to /content/yolo_comparison_all_datasets.docx. Download it from Colab files.\n",
            "All outputs organized in /content/outputs/ - You can browse/download from Colab's file explorer.\n",
            "  adding: content/outputs/ (stored 0%)\n",
            "  adding: content/outputs/day_YOLOv10/ (stored 0%)\n",
            "  adding: content/outputs/day_YOLOv10/metrics.txt (deflated 18%)\n",
            "  adding: content/outputs/night_rain_YOLOv10/ (stored 0%)\n",
            "  adding: content/outputs/night_rain_YOLOv10/metrics.txt (deflated 18%)\n",
            "  adding: content/outputs/night_YOLOv10_val/ (stored 0%)\n",
            "  adding: content/outputs/night_YOLOv10_val/confusion_matrix.png (deflated 25%)\n",
            "  adding: content/outputs/night_YOLOv10_val/confusion_matrix_normalized.png (deflated 22%)\n",
            "  adding: content/outputs/night_YOLOv10_val/BoxR_curve.png (deflated 9%)\n",
            "  adding: content/outputs/night_YOLOv10_val/val_batch0_pred.jpg (deflated 8%)\n",
            "  adding: content/outputs/night_YOLOv10_val/val_batch0_labels.jpg (deflated 8%)\n",
            "  adding: content/outputs/night_YOLOv10_val/labels/ (stored 0%)\n",
            "  adding: content/outputs/night_YOLOv10_val/labels/frame_00863_jpg.rf.7e5c6868beb3238c783284da680d6e6f.txt (deflated 61%)\n",
            "  adding: content/outputs/night_YOLOv10_val/labels/frame_00155_jpg.rf.3af36c8f36b56e2ee141f7ea68bc0004.txt (deflated 59%)\n",
            "  adding: content/outputs/night_YOLOv10_val/labels/frame_00598_jpg.rf.61b4b06abe8e3de24aad3070f7e6674d.txt (deflated 59%)\n",
            "  adding: content/outputs/night_YOLOv10_val/labels/frame_00954_jpg.rf.d170eda4aa6d8e1db119c0fae84d3fb9.txt (deflated 61%)\n",
            "  adding: content/outputs/night_YOLOv10_val/labels/frame_00405_jpg.rf.97d3dd24adf1124cf6f0aca0bdd44cc2.txt (deflated 50%)\n",
            "  adding: content/outputs/night_YOLOv10_val/labels/frame_00652_jpg.rf.5a742aaf126daace807f2e650bdac73c.txt (deflated 65%)\n",
            "  adding: content/outputs/night_YOLOv10_val/labels/frame_00082_jpg.rf.7435f83d04d68975e8b448381d1ddde0.txt (deflated 42%)\n",
            "  adding: content/outputs/night_YOLOv10_val/labels/frame_00158_jpg.rf.b14313350fd3c5dd9aa84eb7c2d576d0.txt (deflated 56%)\n",
            "  adding: content/outputs/night_YOLOv10_val/labels/frame_00216_jpg.rf.a5124ef72af6de8a040f4ac9abf2d5d7.txt (deflated 56%)\n",
            "  adding: content/outputs/night_YOLOv10_val/labels/frame_00889_jpg.rf.c112cbdb46d2e8f7e7b174c5a09bc229.txt (deflated 64%)\n",
            "  adding: content/outputs/night_YOLOv10_val/labels/frame_00145_jpg.rf.95c24eb3d064d3e3f5025f8eff707ca3.txt (deflated 42%)\n",
            "  adding: content/outputs/night_YOLOv10_val/labels/frame_00948_jpg.rf.6da4922ed937ef91b4429d3bc0af80b1.txt (deflated 63%)\n",
            "  adding: content/outputs/night_YOLOv10_val/labels/frame_00591_jpg.rf.62ea7bda71f2f833b79958b1bce084c2.txt (deflated 62%)\n",
            "  adding: content/outputs/night_YOLOv10_val/labels/frame_00074_jpg.rf.f6527d470d7e9e1e30aa82d40ce00637.txt (deflated 52%)\n",
            "  adding: content/outputs/night_YOLOv10_val/labels/frame_00395_jpg.rf.2b6466a9ffd6818404682ce5f80f3b80.txt (deflated 48%)\n",
            "  adding: content/outputs/night_YOLOv10_val/labels/frame_00983_jpg.rf.0231a299a8a74182a7b1db3b439f559d.txt (deflated 77%)\n",
            "  adding: content/outputs/night_YOLOv10_val/labels/frame_00045_jpg.rf.0ce4ba9823f63c07fb9c091baedc765f.txt (deflated 54%)\n",
            "  adding: content/outputs/night_YOLOv10_val/labels/frame_00641_jpg.rf.1380064c2219dcf53ba5a8defee1effd.txt (deflated 52%)\n",
            "  adding: content/outputs/night_YOLOv10_val/labels/frame_00171_jpg.rf.786f233e3ae2d7fcedb38cf4853c3bc0.txt (deflated 43%)\n",
            "  adding: content/outputs/night_YOLOv10_val/labels/frame_00828_jpg.rf.5b61e26357d87338cdebf29df97c8476.txt (deflated 63%)\n",
            "  adding: content/outputs/night_YOLOv10_val/labels/frame_00402_jpg.rf.f6a0625fc62363405150ce80a1e616c6.txt (deflated 52%)\n",
            "  adding: content/outputs/night_YOLOv10_val/labels/frame_00614_jpg.rf.4176d02d6652a83c39e2e6db03d4fa1d.txt (deflated 57%)\n",
            "  adding: content/outputs/night_YOLOv10_val/labels/frame_00368_jpg.rf.e53f01a17c3c713046f7bb6bc83b7193.txt (deflated 57%)\n",
            "  adding: content/outputs/night_YOLOv10_val/labels/frame_00908_jpg.rf.972c1f1876041b0e7e5ace5a5d8651cc.txt (deflated 67%)\n",
            "  adding: content/outputs/night_YOLOv10_val/labels/frame_00263_jpg.rf.da2c762ad423fd767ee42a375c839ae1.txt (deflated 57%)\n",
            "  adding: content/outputs/night_YOLOv10_val/labels/frame_00736_jpg.rf.9c6470eec2771ae207992bbff9ee131e.txt (deflated 71%)\n",
            "  adding: content/outputs/night_YOLOv10_val/labels/frame_00802_jpg.rf.da1cbf7fbe20a3cc73e3c5fab818e7d2.txt (deflated 54%)\n",
            "  adding: content/outputs/night_YOLOv10_val/labels/frame_00398_jpg.rf.af05dbc1ff987f164c7f2ade529341d8.txt (deflated 44%)\n",
            "  adding: content/outputs/night_YOLOv10_val/labels/frame_00911_jpg.rf.9bd1e895a3c17589342faf8ecf4be466.txt (deflated 60%)\n",
            "  adding: content/outputs/night_YOLOv10_val/labels/frame_00295_jpg.rf.a8f624c0377bdc347985c655f1e7f8c0.txt (deflated 55%)\n",
            "  adding: content/outputs/night_YOLOv10_val/labels/frame_00943_jpg.rf.2d08cf2b840cb4fd9e08a3189026f672.txt (deflated 59%)\n",
            "  adding: content/outputs/night_YOLOv10_val/labels/frame_00792_jpg.rf.60c65e1e3597705e319ceba18c96ab15.txt (deflated 57%)\n",
            "  adding: content/outputs/night_YOLOv10_val/labels/frame_00181_jpg.rf.80a423a8a62fc6105aa9893031c16f6b.txt (deflated 67%)\n",
            "  adding: content/outputs/night_YOLOv10_val/labels/frame_00391_jpg.rf.f980c3e28b10fd911c48d7ee1881f783.txt (deflated 47%)\n",
            "  adding: content/outputs/night_YOLOv10_val/labels/frame_00625_jpg.rf.bfcb9c66c289737e5f97f23d903d2442.txt (deflated 54%)\n",
            "  adding: content/outputs/night_YOLOv10_val/labels/frame_00251_jpg.rf.7c8679373408adb73f2ca0017dfe391d.txt (deflated 58%)\n",
            "  adding: content/outputs/night_YOLOv10_val/labels/frame_00048_jpg.rf.e3e6b44733ec0b72b959eac11e19c277.txt (deflated 53%)\n",
            "  adding: content/outputs/night_YOLOv10_val/labels/frame_00876_jpg.rf.36cfc32e40363fc78166d75a6db82c62.txt (deflated 63%)\n",
            "  adding: content/outputs/night_YOLOv10_val/labels/frame_00575_jpg.rf.81393a6bc4a30ac6ecea8ecb8176ac07.txt (deflated 57%)\n",
            "  adding: content/outputs/night_YOLOv10_val/labels/frame_00431_jpg.rf.d075cd975fac781eecca55693363f00c.txt (deflated 33%)\n",
            "  adding: content/outputs/night_YOLOv10_val/labels/frame_00208_jpg.rf.86383734184c74aa88bea77f1e555792.txt (deflated 55%)\n",
            "  adding: content/outputs/night_YOLOv10_val/labels/frame_00488_jpg.rf.0b1129f2ced66d105d09e6740dbeff4c.txt (deflated 55%)\n",
            "  adding: content/outputs/night_YOLOv10_val/labels/frame_00328_jpg.rf.ed3f7cb4a9191530fb03919e08ee7103.txt (deflated 58%)\n",
            "  adding: content/outputs/night_YOLOv10_val/labels/frame_00580_jpg.rf.bcb80304bd6cac4241c7af0251f7b019.txt (deflated 57%)\n",
            "  adding: content/outputs/night_YOLOv10_val/labels/frame_00162_jpg.rf.02e1811e88373381671d2fdd783b6d56.txt (deflated 52%)\n",
            "  adding: content/outputs/night_YOLOv10_val/labels/frame_00751_jpg.rf.0b41548fc5c81e36d80a0086538f0859.txt (deflated 71%)\n",
            "  adding: content/outputs/night_YOLOv10_val/labels/frame_00416_jpg.rf.601c507d6a5796745c36356449907130.txt (deflated 41%)\n",
            "  adding: content/outputs/night_YOLOv10_val/labels/frame_00359_jpg.rf.b44d0805de76a201811ae7d6ca600374.txt (deflated 54%)\n",
            "  adding: content/outputs/night_YOLOv10_val/labels/frame_00117_jpg.rf.ae0f729f8338f3633f5e652ac12be15d.txt (deflated 37%)\n",
            "  adding: content/outputs/night_YOLOv10_val/labels/frame_00781_jpg.rf.e16c473096fa8c6923cd077863457434.txt (deflated 59%)\n",
            "  adding: content/outputs/night_YOLOv10_val/labels/frame_00379_jpg.rf.f42f294823c94e365dbf317c802c2785.txt (deflated 47%)\n",
            "  adding: content/outputs/night_YOLOv10_val/labels/frame_00513_jpg.rf.729fd1d38dc9137a7ec141aa95cf78a7.txt (deflated 47%)\n",
            "  adding: content/outputs/night_YOLOv10_val/labels/frame_00376_jpg.rf.900b9ed034943a4ee1c14a6a03833f54.txt (deflated 48%)\n",
            "  adding: content/outputs/night_YOLOv10_val/labels/frame_00913_jpg.rf.1c02db60725ce1b67b38b9cfb7ed6808.txt (deflated 59%)\n",
            "  adding: content/outputs/night_YOLOv10_val/labels/frame_00166_jpg.rf.3c88424801d3a09e4fd0a13f2fbcdbf6.txt (deflated 44%)\n",
            "  adding: content/outputs/night_YOLOv10_val/labels/frame_00922_jpg.rf.ce190f8ef39fb5c41438126f459dfb45.txt (deflated 59%)\n",
            "  adding: content/outputs/night_YOLOv10_val/labels/frame_00764_jpg.rf.4b981abd34dbfa609ef90fe83ce9e66e.txt (deflated 44%)\n",
            "  adding: content/outputs/night_YOLOv10_val/labels/frame_00115_jpg.rf.c2da36514c5edb73913ef9c259905675.txt (deflated 33%)\n",
            "  adding: content/outputs/night_YOLOv10_val/labels/frame_00958_jpg.rf.f61ba08a20af99752f3fdaf4b6d3afc7.txt (deflated 60%)\n",
            "  adding: content/outputs/night_YOLOv10_val/labels/frame_00248_jpg.rf.ed9e30ef4955f61beae5750bbcd77787.txt (deflated 58%)\n",
            "  adding: content/outputs/night_YOLOv10_val/labels/frame_00072_jpg.rf.f522212a72a59a667b0fcd2a20bdff00.txt (deflated 58%)\n",
            "  adding: content/outputs/night_YOLOv10_val/labels/frame_00630_jpg.rf.4f0e2928a818110d52b7ca1450ebb029.txt (deflated 58%)\n",
            "  adding: content/outputs/night_YOLOv10_val/labels/frame_00731_jpg.rf.0a226a8c90f14033d4901170d0feffc0.txt (deflated 68%)\n",
            "  adding: content/outputs/night_YOLOv10_val/labels/frame_00542_jpg.rf.b368e49b110c1d00bf5abdc981f1768a.txt (deflated 59%)\n",
            "  adding: content/outputs/night_YOLOv10_val/labels/frame_00200_jpg.rf.a7163d5756020104811be24c584cfd97.txt (deflated 49%)\n",
            "  adding: content/outputs/night_YOLOv10_val/labels/frame_00636_jpg.rf.c2549e0eb10533a4bb372d1c7d181463.txt (deflated 56%)\n",
            "  adding: content/outputs/night_YOLOv10_val/labels/frame_00613_jpg.rf.049050be93635df7e55e00a9fc1b77b9.txt (deflated 54%)\n",
            "  adding: content/outputs/night_YOLOv10_val/labels/frame_00934_jpg.rf.be21ec530dbd2a39232a83020b9aacdb.txt (deflated 65%)\n",
            "  adding: content/outputs/night_YOLOv10_val/labels/frame_00305_jpg.rf.8baffed16195892ce9ab0938e01f6b71.txt (deflated 55%)\n",
            "  adding: content/outputs/night_YOLOv10_val/labels/frame_00086_jpg.rf.4ed9ef864348bc9a1ff04dfaf65345b4.txt (deflated 47%)\n",
            "  adding: content/outputs/night_YOLOv10_val/labels/frame_00923_jpg.rf.8b67d32970f10ca7fe3663a133ccdf53.txt (deflated 66%)\n",
            "  adding: content/outputs/night_YOLOv10_val/labels/frame_00321_jpg.rf.46478290d36c29320630826828bc041c.txt (deflated 55%)\n",
            "  adding: content/outputs/night_YOLOv10_val/labels/frame_00672_jpg.rf.5e8e85fa4db5a9bd1ee2feaff274a4e9.txt (deflated 67%)\n",
            "  adding: content/outputs/night_YOLOv10_val/labels/frame_00446_jpg.rf.046709a0f19de060866cab0ad1d32c9d.txt (deflated 34%)\n",
            "  adding: content/outputs/night_YOLOv10_val/labels/frame_00271_jpg.rf.6d34b0c9bb42828f0e59e2374f19a757.txt (deflated 56%)\n",
            "  adding: content/outputs/night_YOLOv10_val/labels/frame_00654_jpg.rf.1e91a4be77a23b42edca7a00f76fa7d6.txt (deflated 70%)\n",
            "  adding: content/outputs/night_YOLOv10_val/labels/frame_00807_jpg.rf.e86e5e24c8a78b06e7baed54b0260fd8.txt (deflated 36%)\n",
            "  adding: content/outputs/night_YOLOv10_val/labels/frame_00056_jpg.rf.04cd8787716d08d471cefc0b9f875601.txt (deflated 57%)\n",
            "  adding: content/outputs/night_YOLOv10_val/labels/frame_00286_jpg.rf.1a34ab221407a4dbf46f5331cc9e6269.txt (deflated 53%)\n",
            "  adding: content/outputs/night_YOLOv10_val/labels/frame_00698_jpg.rf.994f6a711c0379b905f8f7c15ba7d7bb.txt (deflated 45%)\n",
            "  adding: content/outputs/night_YOLOv10_val/labels/frame_00847_jpg.rf.b95884a12f4969f119c1454167062c2c.txt (deflated 56%)\n",
            "  adding: content/outputs/night_YOLOv10_val/labels/frame_00093_jpg.rf.616dc74a390d3f563d0f57e2b139b68f.txt (deflated 34%)\n",
            "  adding: content/outputs/night_YOLOv10_val/labels/frame_00194_jpg.rf.9badb9cd2fda59676d170544eb96c43a.txt (deflated 32%)\n",
            "  adding: content/outputs/night_YOLOv10_val/labels/frame_00704_jpg.rf.a4dd895c2dc491c447cfae01dc8f0a5e.txt (deflated 56%)\n",
            "  adding: content/outputs/night_YOLOv10_val/labels/frame_00695_jpg.rf.56ea95ca2f5080efc85845013bac1c67.txt (deflated 35%)\n",
            "  adding: content/outputs/night_YOLOv10_val/labels/frame_00003_jpg.rf.9ec23e36f33cf64672f201496be3f8ce.txt (deflated 53%)\n",
            "  adding: content/outputs/night_YOLOv10_val/labels/frame_00231_jpg.rf.0796f37b8cb4331c2631b24dcfce4f20.txt (deflated 55%)\n",
            "  adding: content/outputs/night_YOLOv10_val/labels/frame_00315_jpg.rf.790b3a41ef0c798a45366f501365e51d.txt (deflated 55%)\n",
            "  adding: content/outputs/night_YOLOv10_val/labels/frame_00184_jpg.rf.99bd09e70056d1c984a31b8d4abffd60.txt (deflated 72%)\n",
            "  adding: content/outputs/night_YOLOv10_val/labels/frame_00352_jpg.rf.d814af927e64fe39acc2a82d8be56e01.txt (deflated 57%)\n",
            "  adding: content/outputs/night_YOLOv10_val/labels/frame_00628_jpg.rf.41408e7ecf9cc240a02fbd79f276b634.txt (deflated 56%)\n",
            "  adding: content/outputs/night_YOLOv10_val/labels/frame_00040_jpg.rf.b2cfc7e9fa612ff816619bcc827ffce8.txt (deflated 51%)\n",
            "  adding: content/outputs/night_YOLOv10_val/labels/frame_00950_jpg.rf.1cb9982fc84847370aae4ca7534ce4fa.txt (deflated 63%)\n",
            "  adding: content/outputs/night_YOLOv10_val/labels/frame_00696_jpg.rf.7892eede970f97067d55078599c40d03.txt (deflated 38%)\n",
            "  adding: content/outputs/night_YOLOv10_val/labels/frame_00203_jpg.rf.f388f82be319614980c9e4e2e110dcfd.txt (deflated 54%)\n",
            "  adding: content/outputs/night_YOLOv10_val/labels/frame_00033_jpg.rf.0ea60b8c3380b04969c5fe4d5a85e59b.txt (deflated 53%)\n",
            "  adding: content/outputs/night_YOLOv10_val/labels/frame_00646_jpg.rf.fa6b1204e257c30136f564ff98718eec.txt (deflated 50%)\n",
            "  adding: content/outputs/night_YOLOv10_val/labels/frame_00154_jpg.rf.e713afb0ff2a0e535880f19d72b4aec9.txt (deflated 52%)\n",
            "  adding: content/outputs/night_YOLOv10_val/labels/frame_00759_jpg.rf.a9ef9de17476356d66f2c806f01474d8.txt (deflated 68%)\n",
            "  adding: content/outputs/night_YOLOv10_val/labels/frame_00163_jpg.rf.d1988dc7f39cbead8d0534b45d3c0feb.txt (deflated 52%)\n",
            "  adding: content/outputs/night_YOLOv10_val/labels/frame_00213_jpg.rf.5139d33ba326f089fa9e813604cf1695.txt (deflated 59%)\n",
            "  adding: content/outputs/night_YOLOv10_val/labels/frame_00818_jpg.rf.70123a16b2dcac279d670150771fa16e.txt (deflated 57%)\n",
            "  adding: content/outputs/night_YOLOv10_val/labels/frame_00456_jpg.rf.805d01ab55b221011f665240b77c975a.txt (deflated 36%)\n",
            "  adding: content/outputs/night_YOLOv10_val/labels/frame_00096_jpg.rf.596f5b122c39fd4615bdf0bd15cd93ea.txt (deflated 34%)\n",
            "  adding: content/outputs/night_YOLOv10_val/labels/frame_00443_jpg.rf.1786a56b9359e0ebd2b052b296921214.txt (deflated 42%)\n",
            "  adding: content/outputs/night_YOLOv10_val/labels/frame_00062_jpg.rf.6a9128d7afc1c54f90de7c47d2583390.txt (deflated 54%)\n",
            "  adding: content/outputs/night_YOLOv10_val/labels/frame_00861_jpg.rf.eb82c672200e08c4d9edd944ea2818e5.txt (deflated 56%)\n",
            "  adding: content/outputs/night_YOLOv10_val/labels/frame_00854_jpg.rf.806302607e4b44dbbe312210c7b87564.txt (deflated 64%)\n",
            "  adding: content/outputs/night_YOLOv10_val/labels/frame_00872_jpg.rf.a47d5ed519a2233708cc290526f8c7e9.txt (deflated 60%)\n",
            "  adding: content/outputs/night_YOLOv10_val/labels/frame_00862_jpg.rf.fbf68461f69efc005b7472812d94b1a9.txt (deflated 61%)\n",
            "  adding: content/outputs/night_YOLOv10_val/labels/frame_00956_jpg.rf.f67c2169a867734345b9d3c168449d0c.txt (deflated 60%)\n",
            "  adding: content/outputs/night_YOLOv10_val/labels/frame_00617_jpg.rf.9511c889ee4d5a5c32442a23e16b16c8.txt (deflated 54%)\n",
            "  adding: content/outputs/night_YOLOv10_val/labels/frame_00327_jpg.rf.3dd43221bb2d59aaf9c97ea118378c52.txt (deflated 61%)\n",
            "  adding: content/outputs/night_YOLOv10_val/labels/frame_00967_jpg.rf.d56c9562e0bf7d151d04b6cce93e22b0.txt (deflated 67%)\n",
            "  adding: content/outputs/night_YOLOv10_val/labels/frame_00762_jpg.rf.aaae74538784ffa7f80640e3f10da8c8.txt (deflated 37%)\n",
            "  adding: content/outputs/night_YOLOv10_val/labels/frame_00288_jpg.rf.cc5c046e0fba38e66183da1af487526e.txt (deflated 55%)\n",
            "  adding: content/outputs/night_YOLOv10_val/labels/frame_00466_jpg.rf.287ef7a1f0f88804d523a990650dddfb.txt (deflated 43%)\n",
            "  adding: content/outputs/night_YOLOv10_val/labels/frame_00107_jpg.rf.99462edb0cbce6bf87b08cb1be515bac.txt (deflated 33%)\n",
            "  adding: content/outputs/night_YOLOv10_val/labels/frame_00472_jpg.rf.10019510f9a3c6c05aac34c7483aa7d6.txt (deflated 43%)\n",
            "  adding: content/outputs/night_YOLOv10_val/labels/frame_00841_jpg.rf.cd62a998fa92da22befa4496f8843c2a.txt (deflated 44%)\n",
            "  adding: content/outputs/night_YOLOv10_val/labels/frame_00372_jpg.rf.7116111e91267b22e074821cb4640845.txt (deflated 56%)\n",
            "  adding: content/outputs/night_YOLOv10_val/labels/frame_00317_jpg.rf.84316b391651122601beb4b8b4c3fcfd.txt (deflated 54%)\n",
            "  adding: content/outputs/night_YOLOv10_val/labels/frame_00896_jpg.rf.7bfd9421400a62f5cff18967c8b5cc25.txt (deflated 60%)\n",
            "  adding: content/outputs/night_YOLOv10_val/labels/frame_00817_jpg.rf.a340e980d93c76064199f63ee90fe1a0.txt (deflated 55%)\n",
            "  adding: content/outputs/night_YOLOv10_val/labels/frame_00174_jpg.rf.a83dcba376d6fbc0986c7fdbb05cfb94.txt (deflated 48%)\n",
            "  adding: content/outputs/night_YOLOv10_val/labels/frame_00593_jpg.rf.ef13ec590519dd4f1a22022b7a36cdd7.txt (deflated 61%)\n",
            "  adding: content/outputs/night_YOLOv10_val/labels/frame_00558_jpg.rf.45658e585ff0f603a0a632f85ee560ea.txt (deflated 58%)\n",
            "  adding: content/outputs/night_YOLOv10_val/labels/frame_00122_jpg.rf.d5da0af65623b88fdbacdd19c590df84.txt (deflated 34%)\n",
            "  adding: content/outputs/night_YOLOv10_val/labels/frame_00329_jpg.rf.5bc2ddb25b0bc433fb67cedf0a577591.txt (deflated 61%)\n",
            "  adding: content/outputs/night_YOLOv10_val/labels/frame_00884_jpg.rf.610945e84ee0542ce180c9572576ed27.txt (deflated 63%)\n",
            "  adding: content/outputs/night_YOLOv10_val/labels/frame_00512_jpg.rf.4b6dc5e7cb0f7679dbe729a468103262.txt (deflated 42%)\n",
            "  adding: content/outputs/night_YOLOv10_val/labels/frame_00083_jpg.rf.34be454544c17ff7f26e9f7aba6da05f.txt (deflated 43%)\n",
            "  adding: content/outputs/night_YOLOv10_val/labels/frame_00479_jpg.rf.c24d21b06d674e6dc90a3c7b5b235819.txt (deflated 53%)\n",
            "  adding: content/outputs/night_YOLOv10_val/labels/frame_00674_jpg.rf.345f5b3700852e81d6bb3dc86dbd2b13.txt (deflated 69%)\n",
            "  adding: content/outputs/night_YOLOv10_val/labels/frame_00242_jpg.rf.b26be2ea9db1a87e7ca2e2c78eaafa2c.txt (deflated 57%)\n",
            "  adding: content/outputs/night_YOLOv10_val/labels/frame_00993_jpg.rf.511dd156c1cb54660a2ed1596e564299.txt (deflated 73%)\n",
            "  adding: content/outputs/night_YOLOv10_val/labels/frame_00459_jpg.rf.125047ac69c84df5cdabf0a76348ec9e.txt (deflated 43%)\n",
            "  adding: content/outputs/night_YOLOv10_val/labels/frame_00995_jpg.rf.54593c97d0bb99f64d3565419c44194d.txt (deflated 76%)\n",
            "  adding: content/outputs/night_YOLOv10_val/labels/frame_00568_jpg.rf.7b385d64a49216b533260bfb985f61e6.txt (deflated 59%)\n",
            "  adding: content/outputs/night_YOLOv10_val/labels/frame_00565_jpg.rf.2a042985dacad19e5c4d0fdaebe1cacd.txt (deflated 57%)\n",
            "  adding: content/outputs/night_YOLOv10_val/labels/frame_00303_jpg.rf.7761c529a67a251e0338c20edc7fed83.txt (deflated 55%)\n",
            "  adding: content/outputs/night_YOLOv10_val/labels/frame_00428_jpg.rf.61f3b576b203590fa43257044528b44c.txt (deflated 33%)\n",
            "  adding: content/outputs/night_YOLOv10_val/labels/frame_00276_jpg.rf.bf69e1796e172713f92abdfffa0ea76b.txt (deflated 58%)\n",
            "  adding: content/outputs/night_YOLOv10_val/labels/frame_00421_jpg.rf.aec271b1179b09ca110bbd5c1cfa3754.txt (deflated 32%)\n",
            "  adding: content/outputs/night_YOLOv10_val/labels/frame_00758_jpg.rf.b65590a698805d8d0185269ce0dc1cfb.txt (deflated 68%)\n",
            "  adding: content/outputs/night_YOLOv10_val/labels/frame_00493_jpg.rf.5dd39c47d942ba14019e2acc1b616f8f.txt (deflated 47%)\n",
            "  adding: content/outputs/night_YOLOv10_val/labels/frame_00904_jpg.rf.ffa1d9ec2dc9f6f3c543e156f69ab492.txt (deflated 63%)\n",
            "  adding: content/outputs/night_YOLOv10_val/labels/frame_00246_jpg.rf.9d52270ba12d3bd387530feeb939cb38.txt (deflated 57%)\n",
            "  adding: content/outputs/night_YOLOv10_val/labels/frame_00699_jpg.rf.ac0e3d3db4354c968692506bf22110a6.txt (deflated 14%)\n",
            "  adding: content/outputs/night_YOLOv10_val/labels/frame_00620_jpg.rf.3ec62da13c44f5c8a80724012d7e0fbe.txt (deflated 53%)\n",
            "  adding: content/outputs/night_YOLOv10_val/labels/frame_00881_jpg.rf.3dd5356c552d57d5cdfd9b011696d004.txt (deflated 62%)\n",
            "  adding: content/outputs/night_YOLOv10_val/labels/frame_00030_jpg.rf.76f10ab1c7f812c5da82b83b19298fad.txt (deflated 52%)\n",
            "  adding: content/outputs/night_YOLOv10_val/labels/frame_00555_jpg.rf.3ee1d5a5da491b5cc70728b570d95507.txt (deflated 61%)\n",
            "  adding: content/outputs/night_YOLOv10_val/labels/frame_00150_jpg.rf.e44e1e726215af20930ad5e3ff9ea08a.txt (deflated 53%)\n",
            "  adding: content/outputs/night_YOLOv10_val/labels/frame_00903_jpg.rf.960c2e6f2d53dcd1293f78a9a01c29b1.txt (deflated 61%)\n",
            "  adding: content/outputs/night_YOLOv10_val/labels/frame_00918_jpg.rf.3d699334edd78cc5a23c1629dd56dcf6.txt (deflated 57%)\n",
            "  adding: content/outputs/night_YOLOv10_val/labels/frame_00346_jpg.rf.f2549c14ed049fde292fe72e5823637b.txt (deflated 62%)\n",
            "  adding: content/outputs/night_YOLOv10_val/labels/frame_00297_jpg.rf.b8e9500eef2467ba8c2efb9fb8995b1d.txt (deflated 55%)\n",
            "  adding: content/outputs/night_YOLOv10_val/labels/frame_00298_jpg.rf.fe3dc69bab1a08ca90f9f9c1c459d5b3.txt (deflated 56%)\n",
            "  adding: content/outputs/night_YOLOv10_val/labels/frame_00360_jpg.rf.ebd5a5e6cbe1e0f89f15106249f21294.txt (deflated 50%)\n",
            "  adding: content/outputs/night_YOLOv10_val/labels/frame_00600_jpg.rf.d649f2f6e2d500df6e735af5ac369da3.txt (deflated 59%)\n",
            "  adding: content/outputs/night_YOLOv10_val/labels/frame_00800_jpg.rf.b2ddf0854032b80aefb18588e533e79d.txt (deflated 37%)\n",
            "  adding: content/outputs/night_YOLOv10_val/labels/frame_00668_jpg.rf.9b70fd4a72ac3ad8f3216e110f04d941.txt (deflated 70%)\n",
            "  adding: content/outputs/night_YOLOv10_val/labels/frame_00060_jpg.rf.4aa89c7aa796d4874972e3d8541a3375.txt (deflated 56%)\n",
            "  adding: content/outputs/night_YOLOv10_val/labels/frame_00953_jpg.rf.6b4da5a009b52eb930a8f0ce4583ec0e.txt (deflated 60%)\n",
            "  adding: content/outputs/night_YOLOv10_val/labels/frame_00812_jpg.rf.8a4c46ff56a4fc412de7810fd5a33e0a.txt (deflated 51%)\n",
            "  adding: content/outputs/night_YOLOv10_val/labels/frame_00077_jpg.rf.3888cc0669d0224c0e59de66173f2f5d.txt (deflated 48%)\n",
            "  adding: content/outputs/night_YOLOv10_val/labels/frame_00588_jpg.rf.c629c9452a93c1a78eb7e85e4a6533dd.txt (deflated 60%)\n",
            "  adding: content/outputs/night_YOLOv10_val/labels/frame_00463_jpg.rf.446b4362e598ba6542418b538da686c4.txt (deflated 43%)\n",
            "  adding: content/outputs/night_YOLOv10_val/labels/frame_00938_jpg.rf.57bb1dfe2759900c5cd23c1a0b161fb1.txt (deflated 61%)\n",
            "  adding: content/outputs/night_YOLOv10_val/labels/frame_00515_jpg.rf.f569d0b707259ee37b15af0391fec2cc.txt (deflated 56%)\n",
            "  adding: content/outputs/night_YOLOv10_val/labels/frame_00742_jpg.rf.a583f091656f254f7eaa32a16165090e.txt (deflated 70%)\n",
            "  adding: content/outputs/night_YOLOv10_val/labels/frame_00796_jpg.rf.a9cb85478a3316c9997abe5534fe9c58.txt (deflated 16%)\n",
            "  adding: content/outputs/night_YOLOv10_val/labels/frame_00103_jpg.rf.60c53741fb82c3e20a7d32f3c90ed67f.txt (deflated 33%)\n",
            "  adding: content/outputs/night_YOLOv10_val/labels/frame_00656_jpg.rf.fb966751ee6238ee63f30cdc20978409.txt (deflated 65%)\n",
            "  adding: content/outputs/night_YOLOv10_val/labels/frame_00717_jpg.rf.48a16b61c142542ca15853e7fd9bc4d4.txt (deflated 44%)\n",
            "  adding: content/outputs/night_YOLOv10_val/labels/frame_00290_jpg.rf.e36309c2b3074b8e89b309912082bb31.txt (deflated 57%)\n",
            "  adding: content/outputs/night_YOLOv10_val/labels/frame_00256_jpg.rf.3b98a2ef70d8a4038eec8b9b43882bf4.txt (deflated 59%)\n",
            "  adding: content/outputs/night_YOLOv10_val/labels/frame_00815_jpg.rf.8410008fc2595cc05a0779418584335e.txt (deflated 55%)\n",
            "  adding: content/outputs/night_YOLOv10_val/labels/frame_00559_jpg.rf.f2ea61d4b94498cb3620a8a589e9655b.txt (deflated 60%)\n",
            "  adding: content/outputs/night_YOLOv10_val/labels/frame_00128_jpg.rf.99d7344adae90b531e4161fe7d3fad65.txt (deflated 34%)\n",
            "  adding: content/outputs/night_YOLOv10_val/labels/frame_00618_jpg.rf.7bc44f6a94fde43567763cbd58d601ce.txt (deflated 55%)\n",
            "  adding: content/outputs/night_YOLOv10_val/labels/frame_00609_jpg.rf.cd37f5235515611641e38996920466aa.txt (deflated 53%)\n",
            "  adding: content/outputs/night_YOLOv10_val/labels/frame_00116_jpg.rf.2e4c75c5439444b1471c37722e745f35.txt (deflated 33%)\n",
            "  adding: content/outputs/night_YOLOv10_val/labels/frame_00326_jpg.rf.25e2aa85f21568ae5e5862f0242d526a.txt (deflated 60%)\n",
            "  adding: content/outputs/night_YOLOv10_val/labels/frame_00859_jpg.rf.541ea7393fdea80272658c2acbe73b37.txt (deflated 60%)\n",
            "  adding: content/outputs/night_YOLOv10_val/labels/frame_00907_jpg.rf.67069a902a48281d0bda4d8eef621066.txt (deflated 65%)\n",
            "  adding: content/outputs/night_YOLOv10_val/labels/frame_00126_jpg.rf.20c2258e87d8bf70e55850475c4ab7e2.txt (deflated 31%)\n",
            "  adding: content/outputs/night_YOLOv10_val/labels/frame_00537_jpg.rf.9f2d8525a3365d8996e351387b8d8d04.txt (deflated 60%)\n",
            "  adding: content/outputs/night_YOLOv10_val/labels/frame_00955_jpg.rf.a62839bc9db0b819ea778fe5b2a58c3c.txt (deflated 59%)\n",
            "  adding: content/outputs/night_YOLOv10_val/labels/frame_00681_jpg.rf.dee8c0252aed34794c3ee13bd670f07e.txt (deflated 70%)\n",
            "  adding: content/outputs/night_YOLOv10_val/labels/frame_00097_jpg.rf.1499af7c9f64c95adead53f0a5c73018.txt (deflated 33%)\n",
            "  adding: content/outputs/night_YOLOv10_val/labels/frame_00293_jpg.rf.c858474e5dfbc38285bd9ca5a3f08b72.txt (deflated 57%)\n",
            "  adding: content/outputs/night_YOLOv10_val/labels/frame_00314_jpg.rf.90c39f96ab06e47353beb4faf82b1c55.txt (deflated 53%)\n",
            "  adding: content/outputs/night_YOLOv10_val/labels/frame_00454_jpg.rf.69f498abe052751d70dc1b901420cc61.txt (deflated 34%)\n",
            "  adding: content/outputs/night_YOLOv10_val/labels/frame_00703_jpg.rf.04fa2806b8967ba1d5f337c6e3bacb99.txt (deflated 48%)\n",
            "  adding: content/outputs/night_YOLOv10_val/labels/frame_00678_jpg.rf.1adffbbdaca0afe1f548e943ed9a63f5.txt (deflated 69%)\n",
            "  adding: content/outputs/night_YOLOv10_val/labels/frame_00119_jpg.rf.2316e208d60d15f1ec590de0ce48cfe1.txt (deflated 33%)\n",
            "  adding: content/outputs/night_YOLOv10_val/labels/frame_00718_jpg.rf.80e7d2819e11e1d146dc59ea4b365483.txt (deflated 57%)\n",
            "  adding: content/outputs/night_YOLOv10_val/labels/frame_00931_jpg.rf.e3625a2cce29b2b6e1fe8c4fae1dc00f.txt (deflated 63%)\n",
            "  adding: content/outputs/night_YOLOv10_val/labels/frame_00878_jpg.rf.1e2381cbae0dcd6af2e8ba4af36513b2.txt (deflated 65%)\n",
            "  adding: content/outputs/night_YOLOv10_val/labels/frame_00633_jpg.rf.d962662de1cff8c64f81b337d724397e.txt (deflated 57%)\n",
            "  adding: content/outputs/night_YOLOv10_val/labels/frame_00383_jpg.rf.fbb3575c159aae34b9706de4816ddc45.txt (deflated 48%)\n",
            "  adding: content/outputs/night_YOLOv10_val/labels/frame_00342_jpg.rf.48472bb25f4204ed41f2201c0c9f394a.txt (deflated 63%)\n",
            "  adding: content/outputs/night_YOLOv10_val/labels/frame_00893_jpg.rf.5d6dc192396fabe06cb9ff62f190912d.txt (deflated 62%)\n",
            "  adding: content/outputs/night_YOLOv10_val/labels/frame_00161_jpg.rf.af51d12f387dce8fc7a159dcd96469df.txt (deflated 51%)\n",
            "  adding: content/outputs/night_YOLOv10_val/labels/frame_00188_jpg.rf.c580ec8dee5ae13de402a4df7f4166f8.txt (deflated 53%)\n",
            "  adding: content/outputs/night_YOLOv10_val/labels/frame_00009_jpg.rf.6ffe20e59a976a19ffb7dab502dec4a7.txt (deflated 53%)\n",
            "  adding: content/outputs/night_YOLOv10_val/labels/frame_00799_jpg.rf.65bd5232e26c281ff92cce0db9ad3ab2.txt (deflated 16%)\n",
            "  adding: content/outputs/night_YOLOv10_val/labels/frame_00332_jpg.rf.3f49bcc520d7661eecf48f6d5710d4ca.txt (deflated 56%)\n",
            "  adding: content/outputs/night_YOLOv10_val/labels/frame_00716_jpg.rf.4dc58d8ea0fff8d3540f2d1b8199bb4b.txt (deflated 44%)\n",
            "  adding: content/outputs/night_YOLOv10_val/labels/frame_00362_jpg.rf.6376e51e2c006aafcb2232b36efe9eeb.txt (deflated 55%)\n",
            "  adding: content/outputs/night_YOLOv10_val/labels/frame_00814_jpg.rf.15cc58a6dddd29d2466c9c6c747f09f3.txt (deflated 58%)\n",
            "  adding: content/outputs/night_YOLOv10_val/labels/frame_00392_jpg.rf.1879af1df80d07f99bf19e3c9051d6c3.txt (deflated 49%)\n",
            "  adding: content/outputs/night_YOLOv10_val/labels/frame_00831_jpg.rf.f94a383d79541b63907709da44327308.txt (deflated 56%)\n",
            "  adding: content/outputs/night_YOLOv10_val/labels/frame_00490_jpg.rf.00cd20bcb5a00c596936d5c545960477.txt (deflated 43%)\n",
            "  adding: content/outputs/night_YOLOv10_val/labels/frame_00644_jpg.rf.e3bc9406162bb1391bbd29b5017c1310.txt (deflated 42%)\n",
            "  adding: content/outputs/night_YOLOv10_val/labels/frame_00552_jpg.rf.40c651812ed2e73f1b54da2c9c6dae2a.txt (deflated 61%)\n",
            "  adding: content/outputs/night_YOLOv10_val/labels/frame_00414_jpg.rf.5ad86c4966ec05d7432a49a186e53acf.txt (deflated 52%)\n",
            "  adding: content/outputs/night_YOLOv10_val/labels/frame_00101_jpg.rf.39bb316d6c6525d062d420fe17a5d06f.txt (deflated 33%)\n",
            "  adding: content/outputs/night_YOLOv10_val/labels/frame_00285_jpg.rf.59cd6aaa50573444d0b7350d72ebfa2f.txt (deflated 56%)\n",
            "  adding: content/outputs/night_YOLOv10_val/labels/frame_00660_jpg.rf.d6e7d58712ff40b143f8269e9f004734.txt (deflated 67%)\n",
            "  adding: content/outputs/night_YOLOv10_val/labels/frame_00304_jpg.rf.2805602c400af03e5725dd7ef7940848.txt (deflated 55%)\n",
            "  adding: content/outputs/night_YOLOv10_val/labels/frame_00970_jpg.rf.dabdd06baeda4c9c05d5bacea55a9fc6.txt (deflated 68%)\n",
            "  adding: content/outputs/night_YOLOv10_val/labels/frame_00440_jpg.rf.b7be366a15c8dd1635820a294f39c987.txt (deflated 33%)\n",
            "  adding: content/outputs/night_YOLOv10_val/labels/frame_00578_jpg.rf.27cba62f26c8fb827c62bf91eef10606.txt (deflated 59%)\n",
            "  adding: content/outputs/night_YOLOv10_val/labels/frame_00076_jpg.rf.8ff700c767e9bb25a1578c95b773ce30.txt (deflated 51%)\n",
            "  adding: content/outputs/night_YOLOv10_val/labels/frame_00682_jpg.rf.f872d589c02150d93e8e94e86fb688e2.txt (deflated 68%)\n",
            "  adding: content/outputs/night_YOLOv10_val/labels/frame_00535_jpg.rf.1d47168bba462ea8705f448ed1839895.txt (deflated 58%)\n",
            "  adding: content/outputs/night_YOLOv10_val/BoxF1_curve.png (deflated 8%)\n",
            "  adding: content/outputs/night_YOLOv10_val/BoxPR_curve.png (deflated 13%)\n",
            "  adding: content/outputs/night_YOLOv10_val/val_batch2_labels.jpg (deflated 12%)\n",
            "  adding: content/outputs/night_YOLOv10_val/val_batch2_pred.jpg (deflated 12%)\n",
            "  adding: content/outputs/night_YOLOv10_val/BoxP_curve.png (deflated 8%)\n",
            "  adding: content/outputs/night_YOLOv10_val/predictions.json (deflated 86%)\n",
            "  adding: content/outputs/night_YOLOv10_val/val_batch1_labels.jpg (deflated 13%)\n",
            "  adding: content/outputs/night_YOLOv10_val/val_batch1_pred.jpg (deflated 13%)\n",
            "  adding: content/outputs/night_YOLOv10_train/ (stored 0%)\n",
            "  adding: content/outputs/night_YOLOv10_train/train_batch1.jpg (deflated 4%)\n",
            "  adding: content/outputs/night_YOLOv10_train/args.yaml (deflated 53%)\n",
            "  adding: content/outputs/night_YOLOv10_train/confusion_matrix.png (deflated 25%)\n",
            "  adding: content/outputs/night_YOLOv10_train/confusion_matrix_normalized.png (deflated 21%)\n",
            "  adding: content/outputs/night_YOLOv10_train/BoxR_curve.png (deflated 9%)\n",
            "  adding: content/outputs/night_YOLOv10_train/labels.jpg (deflated 47%)\n",
            "  adding: content/outputs/night_YOLOv10_train/val_batch0_pred.jpg (deflated 8%)\n",
            "  adding: content/outputs/night_YOLOv10_train/val_batch0_labels.jpg (deflated 8%)\n",
            "  adding: content/outputs/night_YOLOv10_train/results.csv (deflated 58%)\n",
            "  adding: content/outputs/night_YOLOv10_train/BoxF1_curve.png (deflated 8%)\n",
            "  adding: content/outputs/night_YOLOv10_train/BoxPR_curve.png (deflated 13%)\n",
            "  adding: content/outputs/night_YOLOv10_train/val_batch2_labels.jpg (deflated 10%)\n",
            "  adding: content/outputs/night_YOLOv10_train/val_batch2_pred.jpg (deflated 10%)\n",
            "  adding: content/outputs/night_YOLOv10_train/labels_correlogram.jpg (deflated 49%)\n",
            "  adding: content/outputs/night_YOLOv10_train/train_batch2280.jpg (deflated 6%)\n",
            "  adding: content/outputs/night_YOLOv10_train/results.png (deflated 7%)\n",
            "  adding: content/outputs/night_YOLOv10_train/weights/ (stored 0%)\n",
            "  adding: content/outputs/night_YOLOv10_train/weights/last.pt (deflated 12%)\n",
            "  adding: content/outputs/night_YOLOv10_train/weights/best.pt (deflated 12%)\n",
            "  adding: content/outputs/night_YOLOv10_train/BoxP_curve.png (deflated 8%)\n",
            "  adding: content/outputs/night_YOLOv10_train/train_batch0.jpg (deflated 4%)\n",
            "  adding: content/outputs/night_YOLOv10_train/train_batch2281.jpg (deflated 7%)\n",
            "  adding: content/outputs/night_YOLOv10_train/val_batch1_labels.jpg (deflated 12%)\n",
            "  adding: content/outputs/night_YOLOv10_train/val_batch1_pred.jpg (deflated 12%)\n",
            "  adding: content/outputs/night_YOLOv10_train/train_batch2282.jpg (deflated 6%)\n",
            "  adding: content/outputs/night_YOLOv10_train/train_batch2.jpg (deflated 3%)\n",
            "  adding: content/outputs/night_YOLOv10/ (stored 0%)\n",
            "  adding: content/outputs/night_YOLOv10/metrics.txt (deflated 19%)\n",
            "  adding: content/outputs/day_YOLOv10_val/ (stored 0%)\n",
            "  adding: content/outputs/day_YOLOv10_val/confusion_matrix.png (deflated 29%)\n",
            "  adding: content/outputs/day_YOLOv10_val/confusion_matrix_normalized.png (deflated 26%)\n",
            "  adding: content/outputs/day_YOLOv10_val/BoxR_curve.png (deflated 9%)\n",
            "  adding: content/outputs/day_YOLOv10_val/val_batch0_pred.jpg (deflated 6%)\n",
            "  adding: content/outputs/day_YOLOv10_val/val_batch0_labels.jpg (deflated 7%)\n",
            "  adding: content/outputs/day_YOLOv10_val/labels/ (stored 0%)\n",
            "  adding: content/outputs/day_YOLOv10_val/labels/frame_00585_jpg.rf.d5010f5e839ab9bb32269e73a406e743.txt (deflated 65%)\n",
            "  adding: content/outputs/day_YOLOv10_val/labels/frame_00434_jpg.rf.01b16e86469df14eff2ebe3e1ce443a3.txt (deflated 61%)\n",
            "  adding: content/outputs/day_YOLOv10_val/labels/frame_00787_jpg.rf.9a8b62c6d1b260ce1f7c168bc396db47.txt (deflated 63%)\n",
            "  adding: content/outputs/day_YOLOv10_val/labels/frame_00858_jpg.rf.23dd007321c48916c0c0294ec32e0207.txt (deflated 67%)\n",
            "  adding: content/outputs/day_YOLOv10_val/labels/frame_00499_jpg.rf.ce47030581da7ee277896e5980eb1544.txt (deflated 65%)\n",
            "  adding: content/outputs/day_YOLOv10_val/labels/frame_00220_jpg.rf.012139a98fcd3be2484086fb3aeaf58c.txt (deflated 58%)\n",
            "  adding: content/outputs/day_YOLOv10_val/labels/frame_00795_jpg.rf.de4104f67640e7db546a69c2372ffb85.txt (deflated 64%)\n",
            "  adding: content/outputs/day_YOLOv10_val/labels/frame_00570_jpg.rf.9b702592e3089ef91ba92ea2cec35956.txt (deflated 62%)\n",
            "  adding: content/outputs/day_YOLOv10_val/labels/frame_00600_jpg.rf.3912cee196bdf7e82b943bc6e9dcbd9d.txt (deflated 64%)\n",
            "  adding: content/outputs/day_YOLOv10_val/labels/frame_00332_jpg.rf.ed9ec1ed71fee1d277f8559365e314f3.txt (deflated 62%)\n",
            "  adding: content/outputs/day_YOLOv10_val/labels/frame_00905_jpg.rf.fc041c7ded52927fc28322d2f6dd4a4c.txt (deflated 63%)\n",
            "  adding: content/outputs/day_YOLOv10_val/labels/frame_00135_jpg.rf.7b4deb4c74290cf856dd842331f439f9.txt (deflated 65%)\n",
            "  adding: content/outputs/day_YOLOv10_val/labels/frame_00773_jpg.rf.e75ffeb50e7ec7b35a35009103b110d2.txt (deflated 64%)\n",
            "  adding: content/outputs/day_YOLOv10_val/labels/frame_00805_jpg.rf.54e04d4dfffa4621eeb15bcee191d086.txt (deflated 63%)\n",
            "  adding: content/outputs/day_YOLOv10_val/labels/frame_00558_jpg.rf.a1c7e926f974f9769af98011f1190c1e.txt (deflated 69%)\n",
            "  adding: content/outputs/day_YOLOv10_val/labels/frame_00673_jpg.rf.3302c9ac715f4c64a67160f7197af9e8.txt (deflated 65%)\n",
            "  adding: content/outputs/day_YOLOv10_val/labels/frame_00977_jpg.rf.2576d7a817ec383ed61485d757f6e8b0.txt (deflated 62%)\n",
            "  adding: content/outputs/day_YOLOv10_val/labels/frame_00415_jpg.rf.5779855084871111e279ff13f4c7646d.txt (deflated 61%)\n",
            "  adding: content/outputs/day_YOLOv10_val/labels/frame_00865_jpg.rf.c4e78815fb932a72bd5658c79ce00b92.txt (deflated 64%)\n",
            "  adding: content/outputs/day_YOLOv10_val/labels/frame_00350_jpg.rf.6f691a0181b1bb0512aaaaafd21efc13.txt (deflated 65%)\n",
            "  adding: content/outputs/day_YOLOv10_val/labels/frame_00147_jpg.rf.176126ef367ff739774e0ee875136563.txt (deflated 54%)\n",
            "  adding: content/outputs/day_YOLOv10_val/labels/frame_00608_jpg.rf.f954429f2e36cc1452c9bc4c24034205.txt (deflated 62%)\n",
            "  adding: content/outputs/day_YOLOv10_val/labels/frame_00694_jpg.rf.75d8070c35040dca268e0b3a6b995aac.txt (deflated 61%)\n",
            "  adding: content/outputs/day_YOLOv10_val/labels/frame_00756_jpg.rf.4de94c91e6ef432fa126af735736e21d.txt (deflated 64%)\n",
            "  adding: content/outputs/day_YOLOv10_val/labels/frame_00164_jpg.rf.206a73cb9b130154f6fc6175cb2bfcc5.txt (deflated 56%)\n",
            "  adding: content/outputs/day_YOLOv10_val/labels/frame_00974_jpg.rf.b1abebbfb878c25a625f6084016190db.txt (deflated 63%)\n",
            "  adding: content/outputs/day_YOLOv10_val/labels/frame_00378_jpg.rf.0b0d67a6f7ebd1e8df661a4862918cca.txt (deflated 62%)\n",
            "  adding: content/outputs/day_YOLOv10_val/labels/frame_00016_jpg.rf.4f71028d67d189e718b04fa7c5c45d3d.txt (deflated 65%)\n",
            "  adding: content/outputs/day_YOLOv10_val/labels/frame_00750_jpg.rf.31867794c6724f8884d9379744b4a64c.txt (deflated 63%)\n",
            "  adding: content/outputs/day_YOLOv10_val/labels/frame_00831_jpg.rf.e97a2727dab3fd4f80754ac1b0abee47.txt (deflated 60%)\n",
            "  adding: content/outputs/day_YOLOv10_val/labels/frame_00119_jpg.rf.9f112f2e912d4e0d54719002ff54db1d.txt (deflated 55%)\n",
            "  adding: content/outputs/day_YOLOv10_val/labels/frame_00195_jpg.rf.9ba8a98884b00a455d3193bfd41ac760.txt (deflated 57%)\n",
            "  adding: content/outputs/day_YOLOv10_val/labels/frame_00354_jpg.rf.3383e6ed8d638e78b8df78748bb5ced5.txt (deflated 64%)\n",
            "  adding: content/outputs/day_YOLOv10_val/labels/frame_00740_jpg.rf.cf2cc2095c71060d85023ce5b0a8a22d.txt (deflated 57%)\n",
            "  adding: content/outputs/day_YOLOv10_val/labels/frame_00429_jpg.rf.70df6ad044e3012dd58a49363b5c6685.txt (deflated 61%)\n",
            "  adding: content/outputs/day_YOLOv10_val/labels/frame_00848_jpg.rf.98ec725775b084b4afb1cb086d9c0def.txt (deflated 59%)\n",
            "  adding: content/outputs/day_YOLOv10_val/labels/frame_00849_jpg.rf.5dfbc1e74064f2444d4c584b810b4032.txt (deflated 62%)\n",
            "  adding: content/outputs/day_YOLOv10_val/labels/frame_00094_jpg.rf.f9514490df044b76bc08e7b4de326dea.txt (deflated 55%)\n",
            "  adding: content/outputs/day_YOLOv10_val/labels/frame_00944_jpg.rf.5c53b327554ef6fb801d7c2489c41018.txt (deflated 64%)\n",
            "  adding: content/outputs/day_YOLOv10_val/labels/frame_00032_jpg.rf.4b912c986793eb7b8930543abd08bfdf.txt (deflated 64%)\n",
            "  adding: content/outputs/day_YOLOv10_val/labels/frame_00725_jpg.rf.b47a03e1b42215e6b064ea682d34448e.txt (deflated 62%)\n",
            "  adding: content/outputs/day_YOLOv10_val/labels/frame_00830_jpg.rf.9ec8f04490a910e1239befc31a7bcab3.txt (deflated 59%)\n",
            "  adding: content/outputs/day_YOLOv10_val/labels/frame_00475_jpg.rf.67a618aae846414d24f7f8a17b1e6648.txt (deflated 64%)\n",
            "  adding: content/outputs/day_YOLOv10_val/labels/frame_00186_jpg.rf.a66d88a53fce524082af2bdb078e8f47.txt (deflated 53%)\n",
            "  adding: content/outputs/day_YOLOv10_val/labels/frame_00166_jpg.rf.edf1ce5ccbba419a42e6988b40f10e06.txt (deflated 55%)\n",
            "  adding: content/outputs/day_YOLOv10_val/labels/frame_00126_jpg.rf.7484b2d02dee97496115252b07732224.txt (deflated 62%)\n",
            "  adding: content/outputs/day_YOLOv10_val/labels/frame_00734_jpg.rf.7f4bddd705f8f01785e9fe3fb3393ad3.txt (deflated 62%)\n",
            "  adding: content/outputs/day_YOLOv10_val/labels/frame_00233_jpg.rf.c81264f15d0f8b2ab75470b1e77ba912.txt (deflated 60%)\n",
            "  adding: content/outputs/day_YOLOv10_val/labels/frame_00511_jpg.rf.d395bcb819ba8361547659bc3a8e7dc3.txt (deflated 60%)\n",
            "  adding: content/outputs/day_YOLOv10_val/labels/frame_00172_jpg.rf.b22e4e616807a4fcdd03b726f7789706.txt (deflated 54%)\n",
            "  adding: content/outputs/day_YOLOv10_val/labels/frame_00188_jpg.rf.0594e80c4500002a1403ed9aa27ebe1b.txt (deflated 52%)\n",
            "  adding: content/outputs/day_YOLOv10_val/labels/frame_00623_jpg.rf.9c36db04d5e50c980b77e3967d103a13.txt (deflated 61%)\n",
            "  adding: content/outputs/day_YOLOv10_val/labels/frame_00216_jpg.rf.f72b510ede908ce0d594663da0430c48.txt (deflated 60%)\n",
            "  adding: content/outputs/day_YOLOv10_val/labels/frame_00650_jpg.rf.3b5ed11d91a4a1d5caa971e4d5b902ef.txt (deflated 60%)\n",
            "  adding: content/outputs/day_YOLOv10_val/labels/frame_00004_jpg.rf.c8ada0ec98d4ae90139506c7d76b4414.txt (deflated 65%)\n",
            "  adding: content/outputs/day_YOLOv10_val/labels/frame_00340_jpg.rf.274f4d0203caca62a9e3511639d6e53f.txt (deflated 63%)\n",
            "  adding: content/outputs/day_YOLOv10_val/labels/frame_00322_jpg.rf.e919cbc0a9d2b7737752cbbed5b596ca.txt (deflated 63%)\n",
            "  adding: content/outputs/day_YOLOv10_val/labels/frame_00690_jpg.rf.31a713b03e8f84ec65ef41d124c50240.txt (deflated 60%)\n",
            "  adding: content/outputs/day_YOLOv10_val/labels/frame_00255_jpg.rf.018bf31433e42edde8a2e36844afb360.txt (deflated 53%)\n",
            "  adding: content/outputs/day_YOLOv10_val/labels/frame_00138_jpg.rf.43ec9ead1c160950bfd8546077f4b64f.txt (deflated 67%)\n",
            "  adding: content/outputs/day_YOLOv10_val/labels/frame_00115_jpg.rf.29314fc3000580054b80e032b71bd33a.txt (deflated 54%)\n",
            "  adding: content/outputs/day_YOLOv10_val/labels/frame_00958_jpg.rf.59106cbf866353fac5c3422e3173f864.txt (deflated 65%)\n",
            "  adding: content/outputs/day_YOLOv10_val/labels/frame_00761_jpg.rf.01543ce0b444d7c12e75c4eaeb24580e.txt (deflated 61%)\n",
            "  adding: content/outputs/day_YOLOv10_val/labels/frame_00312_jpg.rf.840499c89fed939f63b2f030b42d31fc.txt (deflated 60%)\n",
            "  adding: content/outputs/day_YOLOv10_val/labels/frame_00900_jpg.rf.e9ffbfacaf54e2f09224e631faa83611.txt (deflated 65%)\n",
            "  adding: content/outputs/day_YOLOv10_val/labels/frame_00271_jpg.rf.d1da7363a150e8150ff3e24a57116b30.txt (deflated 53%)\n",
            "  adding: content/outputs/day_YOLOv10_val/labels/frame_00404_jpg.rf.3966bbe7cd5497291c049718ccead19e.txt (deflated 66%)\n",
            "  adding: content/outputs/day_YOLOv10_val/labels/frame_00914_jpg.rf.0626c311c240972d6e76e28faa35a2fc.txt (deflated 63%)\n",
            "  adding: content/outputs/day_YOLOv10_val/labels/frame_00758_jpg.rf.fd1116c507e4b492d3bdf8ae6500622d.txt (deflated 64%)\n",
            "  adding: content/outputs/day_YOLOv10_val/labels/frame_00492_jpg.rf.99817244d23bac623616d50f66182ede.txt (deflated 66%)\n",
            "  adding: content/outputs/day_YOLOv10_val/labels/frame_00528_jpg.rf.7c00077057461fd437d5da6884db19b6.txt (deflated 66%)\n",
            "  adding: content/outputs/day_YOLOv10_val/labels/frame_00314_jpg.rf.dce967a2849fca9fb933b278aed82ba0.txt (deflated 64%)\n",
            "  adding: content/outputs/day_YOLOv10_val/labels/frame_00706_jpg.rf.483bcb36381ac0e848d7ce67454a692b.txt (deflated 62%)\n",
            "  adding: content/outputs/day_YOLOv10_val/labels/frame_00975_jpg.rf.1cb56e092961b8bb502149dfc4082ba3.txt (deflated 61%)\n",
            "  adding: content/outputs/day_YOLOv10_val/labels/frame_00170_jpg.rf.9fe5f8c154ce601075399c6de56d5d2d.txt (deflated 55%)\n",
            "  adding: content/outputs/day_YOLOv10_val/labels/frame_00204_jpg.rf.e8561dafdb4b2067649403f3faeafe92.txt (deflated 58%)\n",
            "  adding: content/outputs/day_YOLOv10_val/labels/frame_00705_jpg.rf.2056966c0e5c4e955c4570d36d8669b5.txt (deflated 62%)\n",
            "  adding: content/outputs/day_YOLOv10_val/labels/frame_00957_jpg.rf.dd62d349dd51c9118f5ea60e9317225c.txt (deflated 65%)\n",
            "  adding: content/outputs/day_YOLOv10_val/labels/frame_00692_jpg.rf.0bd37d417f641dd57b7fa6405a4a49c2.txt (deflated 60%)\n",
            "  adding: content/outputs/day_YOLOv10_val/labels/frame_00361_jpg.rf.80afe6dd38bacbc14e26d6906cf8af1d.txt (deflated 65%)\n",
            "  adding: content/outputs/day_YOLOv10_val/labels/frame_00116_jpg.rf.19decb964866092f23d21031cabd269f.txt (deflated 53%)\n",
            "  adding: content/outputs/day_YOLOv10_val/labels/frame_00695_jpg.rf.996c49563a9239c011acd962942cf1a4.txt (deflated 61%)\n",
            "  adding: content/outputs/day_YOLOv10_val/labels/frame_00678_jpg.rf.70754317225c45c9b7515286d319dd30.txt (deflated 64%)\n",
            "  adding: content/outputs/day_YOLOv10_val/labels/frame_00210_jpg.rf.56060abce1743d0d4596aa5c570fdf23.txt (deflated 61%)\n",
            "  adding: content/outputs/day_YOLOv10_val/labels/frame_00684_jpg.rf.8b5c8d66564e3bf12fa1179ae9670b82.txt (deflated 60%)\n",
            "  adding: content/outputs/day_YOLOv10_val/labels/frame_00751_jpg.rf.7b76f03e6a79ced3de3d252934c72b84.txt (deflated 63%)\n",
            "  adding: content/outputs/day_YOLOv10_val/labels/frame_00391_jpg.rf.96197c3e56f62a2d4ee76ca023b91b0b.txt (deflated 68%)\n",
            "  adding: content/outputs/day_YOLOv10_val/labels/frame_00869_jpg.rf.7ab2fd652778325cd47f2c7397ad8c17.txt (deflated 66%)\n",
            "  adding: content/outputs/day_YOLOv10_val/labels/frame_00374_jpg.rf.0e36901330e331edf6c019097370b4bf.txt (deflated 64%)\n",
            "  adding: content/outputs/day_YOLOv10_val/labels/frame_00446_jpg.rf.43124359d6c2b36d0ea16921774386a8.txt (deflated 59%)\n",
            "  adding: content/outputs/day_YOLOv10_val/labels/frame_00572_jpg.rf.5f1ab26726f50a0fdc124701b8812dbb.txt (deflated 63%)\n",
            "  adding: content/outputs/day_YOLOv10_val/labels/frame_00416_jpg.rf.75aa078bd958afb8d3c64cb0199405e7.txt (deflated 63%)\n",
            "  adding: content/outputs/day_YOLOv10_val/labels/frame_00265_jpg.rf.e02a408b8e1cf8601821fb3171e7d5c7.txt (deflated 55%)\n",
            "  adding: content/outputs/day_YOLOv10_val/labels/frame_00886_jpg.rf.a38ec5da83fe7c60c9c11e556dbd750d.txt (deflated 64%)\n",
            "  adding: content/outputs/day_YOLOv10_val/labels/frame_00150_jpg.rf.1f66eb57db3c19beab6094f80c688c60.txt (deflated 55%)\n",
            "  adding: content/outputs/day_YOLOv10_val/labels/frame_00590_jpg.rf.ddf77491e6b42a60924c925a97996c57.txt (deflated 65%)\n",
            "  adding: content/outputs/day_YOLOv10_val/labels/frame_00441_jpg.rf.a2124e8621a085a020010e01ca24dbc4.txt (deflated 65%)\n",
            "  adding: content/outputs/day_YOLOv10_val/labels/frame_00045_jpg.rf.2631483b21aed334969f0f9865c47596.txt (deflated 60%)\n",
            "  adding: content/outputs/day_YOLOv10_val/labels/frame_00134_jpg.rf.e7f3fd01ba0d0008bd2e0d3da4cd22fe.txt (deflated 65%)\n",
            "  adding: content/outputs/day_YOLOv10_val/labels/frame_00387_jpg.rf.e07f21cf5169e21bb959cf40c29c6390.txt (deflated 63%)\n",
            "  adding: content/outputs/day_YOLOv10_val/labels/frame_00729_jpg.rf.4935857a9ece4d2d11e4197397208af4.txt (deflated 63%)\n",
            "  adding: content/outputs/day_YOLOv10_val/labels/frame_00630_jpg.rf.adabfa4a191fcb9fa2f6fca65e188a06.txt (deflated 59%)\n",
            "  adding: content/outputs/day_YOLOv10_val/labels/frame_00315_jpg.rf.53a8d282b09bcbe1a80d1d8a0533d873.txt (deflated 65%)\n",
            "  adding: content/outputs/day_YOLOv10_val/labels/frame_00738_jpg.rf.3f296d2f42b52c1ab31de92bb4f6ea4f.txt (deflated 60%)\n",
            "  adding: content/outputs/day_YOLOv10_val/labels/frame_00685_jpg.rf.26d1688271fcc61d9828a191ac9f923a.txt (deflated 58%)\n",
            "  adding: content/outputs/day_YOLOv10_val/labels/frame_00752_jpg.rf.9f5652ee15b633a00dbcac039e2e0b8a.txt (deflated 63%)\n",
            "  adding: content/outputs/day_YOLOv10_val/labels/frame_00474_jpg.rf.d769938fb6425535ebb8ac22821c1768.txt (deflated 64%)\n",
            "  adding: content/outputs/day_YOLOv10_val/labels/frame_00892_jpg.rf.410b4d40d10711de5b9f0cc1a363a1bd.txt (deflated 64%)\n",
            "  adding: content/outputs/day_YOLOv10_val/labels/frame_00521_jpg.rf.5360a4b9174e4873a03981b8b62b7742.txt (deflated 60%)\n",
            "  adding: content/outputs/day_YOLOv10_val/labels/frame_00513_jpg.rf.7989aef21d08a240fe4474778b3a84f2.txt (deflated 59%)\n",
            "  adding: content/outputs/day_YOLOv10_val/labels/frame_00369_jpg.rf.49be7fc7df83250906b4622eede8bc87.txt (deflated 63%)\n",
            "  adding: content/outputs/day_YOLOv10_val/labels/frame_00713_jpg.rf.52347fc9157a17e581c03d22138c7700.txt (deflated 62%)\n",
            "  adding: content/outputs/day_YOLOv10_val/labels/frame_00937_jpg.rf.4c3109f5552e08163784a605f050fad5.txt (deflated 63%)\n",
            "  adding: content/outputs/day_YOLOv10_val/labels/frame_00637_jpg.rf.f8e66764e85c3aa96bca03e94cb57172.txt (deflated 60%)\n",
            "  adding: content/outputs/day_YOLOv10_val/labels/frame_00652_jpg.rf.a644c2a535c23726131f666b709b65f4.txt (deflated 62%)\n",
            "  adding: content/outputs/day_YOLOv10_val/labels/frame_00699_jpg.rf.adbfef52b7dfc6ac0b0b481bb8ab0f72.txt (deflated 61%)\n",
            "  adding: content/outputs/day_YOLOv10_val/labels/frame_00943_jpg.rf.789d6432d0f432aef5b1f56a9a0d1882.txt (deflated 63%)\n",
            "  adding: content/outputs/day_YOLOv10_val/labels/frame_00128_jpg.rf.05775bd18c91dc5a71f53b34dd38b025.txt (deflated 65%)\n",
            "  adding: content/outputs/day_YOLOv10_val/labels/frame_00082_jpg.rf.24d0c41a1d15bcff5d6bbd5bbe234d02.txt (deflated 63%)\n",
            "  adding: content/outputs/day_YOLOv10_val/labels/frame_00646_jpg.rf.07a1d797f5ac518f89eb3f73d1963388.txt (deflated 63%)\n",
            "  adding: content/outputs/day_YOLOv10_val/labels/frame_00069_jpg.rf.6b9970fa1dd09b3f31be2ed781ea263e.txt (deflated 62%)\n",
            "  adding: content/outputs/day_YOLOv10_val/labels/frame_00588_jpg.rf.0bee2699570d585a57674e963028b3e6.txt (deflated 67%)\n",
            "  adding: content/outputs/day_YOLOv10_val/labels/frame_00388_jpg.rf.b587a19a52c08f6cab8367ff65e4179f.txt (deflated 68%)\n",
            "  adding: content/outputs/day_YOLOv10_val/labels/frame_00836_jpg.rf.a72c78ae4951e6489dd46832eb0ba7b2.txt (deflated 61%)\n",
            "  adding: content/outputs/day_YOLOv10_val/labels/frame_00877_jpg.rf.de528a1889a58a7b3360b7891095c36f.txt (deflated 66%)\n",
            "  adding: content/outputs/day_YOLOv10_val/labels/frame_00655_jpg.rf.d79810ee814f1593ca93ec369de7aa35.txt (deflated 60%)\n",
            "  adding: content/outputs/day_YOLOv10_val/labels/frame_00250_jpg.rf.8bfb836f8db931a30c44a6f87d6702e9.txt (deflated 58%)\n",
            "  adding: content/outputs/day_YOLOv10_val/labels/frame_00503_jpg.rf.7c8938234c4f0522435f144851b49506.txt (deflated 60%)\n",
            "  adding: content/outputs/day_YOLOv10_val/labels/frame_00827_jpg.rf.10f44b86c1b252f1d75f6d6dc7b76e40.txt (deflated 58%)\n",
            "  adding: content/outputs/day_YOLOv10_val/labels/frame_00593_jpg.rf.d548e5e43e5f624c1c33c75bdfc6bb3f.txt (deflated 64%)\n",
            "  adding: content/outputs/day_YOLOv10_val/labels/frame_00965_jpg.rf.220ca621932ef3dc82ee35078201d1d3.txt (deflated 63%)\n",
            "  adding: content/outputs/day_YOLOv10_val/labels/frame_00495_jpg.rf.48232685f69e6ebe0791efda13c8289d.txt (deflated 66%)\n",
            "  adding: content/outputs/day_YOLOv10_val/labels/frame_00823_jpg.rf.09ced5e56ad26b3da51f2b89198d96a7.txt (deflated 64%)\n",
            "  adding: content/outputs/day_YOLOv10_val/labels/frame_00945_jpg.rf.d1dd99b574b0aaf6c41a2100232a9ee2.txt (deflated 65%)\n",
            "  adding: content/outputs/day_YOLOv10_val/labels/frame_00615_jpg.rf.ea5624f3126ff69218eac5bcfe0a7a07.txt (deflated 59%)\n",
            "  adding: content/outputs/day_YOLOv10_val/labels/frame_00566_jpg.rf.9cc629954487b3790bcf6b6b661f5d41.txt (deflated 60%)\n",
            "  adding: content/outputs/day_YOLOv10_val/labels/frame_00562_jpg.rf.aa615f7fd01712471314541e3ea2df99.txt (deflated 61%)\n",
            "  adding: content/outputs/day_YOLOv10_val/labels/frame_00382_jpg.rf.f087944cbb8f48560362bba9fdbba2bc.txt (deflated 63%)\n",
            "  adding: content/outputs/day_YOLOv10_val/labels/frame_00504_jpg.rf.06aa9f3679c8a3716406ea9cf7dfa673.txt (deflated 64%)\n",
            "  adding: content/outputs/day_YOLOv10_val/labels/frame_00931_jpg.rf.fd7d0030c49cb8e199f0b4c84d5a3cf7.txt (deflated 62%)\n",
            "  adding: content/outputs/day_YOLOv10_val/labels/frame_00875_jpg.rf.25ca20fd8c11eb9e8cd876e869f57ce9.txt (deflated 66%)\n",
            "  adding: content/outputs/day_YOLOv10_val/labels/frame_00325_jpg.rf.35dd1977a3af07f92f850ce1ffcbc2b9.txt (deflated 65%)\n",
            "  adding: content/outputs/day_YOLOv10_val/labels/frame_00331_jpg.rf.dfb33618ddaa0a3b3627b3fde7842581.txt (deflated 64%)\n",
            "  adding: content/outputs/day_YOLOv10_val/labels/frame_00111_jpg.rf.89e3228f9a433c7b68ef981a04336728.txt (deflated 54%)\n",
            "  adding: content/outputs/day_YOLOv10_val/labels/frame_00598_jpg.rf.ffe500be410209e238e63da4bf39dfe1.txt (deflated 64%)\n",
            "  adding: content/outputs/day_YOLOv10_val/labels/frame_00127_jpg.rf.07c295000afa335691858a0b9d6a0b0d.txt (deflated 65%)\n",
            "  adding: content/outputs/day_YOLOv10_val/labels/frame_00927_jpg.rf.2defdeef1816b47ecd2762260dbaf9d8.txt (deflated 66%)\n",
            "  adding: content/outputs/day_YOLOv10_val/labels/frame_00605_jpg.rf.9bb47868e53d36c134d0a44fdb52ad34.txt (deflated 64%)\n",
            "  adding: content/outputs/day_YOLOv10_val/labels/frame_00546_jpg.rf.afc4b762a78b9767bde56cefb45cad95.txt (deflated 62%)\n",
            "  adding: content/outputs/day_YOLOv10_val/labels/frame_00283_jpg.rf.f09b4ac1a5f94efcb7d7a2acfb8b9b5c.txt (deflated 61%)\n",
            "  adding: content/outputs/day_YOLOv10_val/labels/frame_00856_jpg.rf.cadf5b6bdad6c7908973c7ca6c362e32.txt (deflated 63%)\n",
            "  adding: content/outputs/day_YOLOv10_val/labels/frame_00549_jpg.rf.8a11717ba3bd3f072771ea7abaa120c0.txt (deflated 63%)\n",
            "  adding: content/outputs/day_YOLOv10_val/labels/frame_00790_jpg.rf.009eb646af988b786bfeddcbd7f3a0e3.txt (deflated 62%)\n",
            "  adding: content/outputs/day_YOLOv10_val/labels/frame_00055_jpg.rf.f4761484f386b856f9f6da82da4ab203.txt (deflated 58%)\n",
            "  adding: content/outputs/day_YOLOv10_val/labels/frame_00633_jpg.rf.5054ebcf1e7946cbed7d890f194149f5.txt (deflated 61%)\n",
            "  adding: content/outputs/day_YOLOv10_val/labels/frame_00893_jpg.rf.b5fde33b90d91d9b517d3bea3bbbe3e1.txt (deflated 64%)\n",
            "  adding: content/outputs/day_YOLOv10_val/labels/frame_00791_jpg.rf.be6f3323d04b08f99e447b5fab7ab07d.txt (deflated 60%)\n",
            "  adding: content/outputs/day_YOLOv10_val/labels/frame_00306_jpg.rf.d996917017b977cf357278178efbc513.txt (deflated 65%)\n",
            "  adding: content/outputs/day_YOLOv10_val/labels/frame_00686_jpg.rf.55818734f28c4fa87b3c8e3debfa772d.txt (deflated 60%)\n",
            "  adding: content/outputs/day_YOLOv10_val/labels/frame_00846_jpg.rf.36799008e2c6762885cf77a08901658e.txt (deflated 62%)\n",
            "  adding: content/outputs/day_YOLOv10_val/labels/frame_00412_jpg.rf.c098fdbcf00a8d4510c8ab348bb09189.txt (deflated 64%)\n",
            "  adding: content/outputs/day_YOLOv10_val/labels/frame_00344_jpg.rf.af7e39a17e95ca820ff2dd9a2f705dee.txt (deflated 67%)\n",
            "  adding: content/outputs/day_YOLOv10_val/labels/frame_00782_jpg.rf.c6b3e262cacbedeeab094ee5ef6dc9ce.txt (deflated 63%)\n",
            "  adding: content/outputs/day_YOLOv10_val/labels/frame_00454_jpg.rf.a41d4f69964fcf20ddb60ebcb867a59e.txt (deflated 59%)\n",
            "  adding: content/outputs/day_YOLOv10_val/labels/frame_00997_jpg.rf.76e7494eb9b693f690813e372e0580a6.txt (deflated 61%)\n",
            "  adding: content/outputs/day_YOLOv10_val/labels/frame_00697_jpg.rf.e04b0f99f453561ffd4020d94e76e8bd.txt (deflated 63%)\n",
            "  adding: content/outputs/day_YOLOv10_val/labels/frame_00632_jpg.rf.c9153c4796a1d1ff0a80e8a6b98293c1.txt (deflated 63%)\n",
            "  adding: content/outputs/day_YOLOv10_val/labels/frame_00231_jpg.rf.ce5b21e142d5aed42dc218c7f901734d.txt (deflated 60%)\n",
            "  adding: content/outputs/day_YOLOv10_val/labels/frame_00659_jpg.rf.05187313654c3b1c6dd078c636600554.txt (deflated 61%)\n",
            "  adding: content/outputs/day_YOLOv10_val/labels/frame_00299_jpg.rf.0ddb8d341b6b9984e93aaf24264586f4.txt (deflated 63%)\n",
            "  adding: content/outputs/day_YOLOv10_val/labels/frame_00002_jpg.rf.3cf940f52000450356518640a9fed4b7.txt (deflated 65%)\n",
            "  adding: content/outputs/day_YOLOv10_val/labels/frame_00163_jpg.rf.9a49d0744b3a1bf1f2cb1201c6dc67bc.txt (deflated 58%)\n",
            "  adding: content/outputs/day_YOLOv10_val/labels/frame_00768_jpg.rf.7158fb81ed9f853980f5c89656141b75.txt (deflated 63%)\n",
            "  adding: content/outputs/day_YOLOv10_val/labels/frame_00025_jpg.rf.a9774fbd276aa7c3db093ac1a9e7584a.txt (deflated 63%)\n",
            "  adding: content/outputs/day_YOLOv10_val/labels/frame_00828_jpg.rf.e0c3817b90b9c2c63790f8d97bb60800.txt (deflated 59%)\n",
            "  adding: content/outputs/day_YOLOv10_val/labels/frame_00554_jpg.rf.489a07a65860e339f1f3cde994c33db9.txt (deflated 62%)\n",
            "  adding: content/outputs/day_YOLOv10_val/labels/frame_00984_jpg.rf.5bf68dc2c11f6d32be5a25b25e852c56.txt (deflated 62%)\n",
            "  adding: content/outputs/day_YOLOv10_val/labels/frame_00732_jpg.rf.cc37716bc20882c6ec6f8332dab6a599.txt (deflated 62%)\n",
            "  adding: content/outputs/day_YOLOv10_val/labels/frame_00068_jpg.rf.a2fa73dd5d2281863ebabc71ac2d0e1f.txt (deflated 61%)\n",
            "  adding: content/outputs/day_YOLOv10_val/labels/frame_00101_jpg.rf.fd6b239b46caaf73de3b292cd30a9886.txt (deflated 51%)\n",
            "  adding: content/outputs/day_YOLOv10_val/labels/frame_00385_jpg.rf.470bca0080b58f1b9638fbc653e0f202.txt (deflated 61%)\n",
            "  adding: content/outputs/day_YOLOv10_val/labels/frame_00838_jpg.rf.92e254c284b9d3b9742c1bd6582239b5.txt (deflated 61%)\n",
            "  adding: content/outputs/day_YOLOv10_val/labels/frame_00680_jpg.rf.bb4bfd8a34abf31940996dfe1950df22.txt (deflated 56%)\n",
            "  adding: content/outputs/day_YOLOv10_val/labels/frame_00582_jpg.rf.2166c6773bf4e2997cdf7759b58204ef.txt (deflated 66%)\n",
            "  adding: content/outputs/day_YOLOv10_val/labels/frame_00888_jpg.rf.9a3ee09dce792145891773c1132d3270.txt (deflated 65%)\n",
            "  adding: content/outputs/day_YOLOv10_val/labels/frame_00339_jpg.rf.5ad670421a30b94cadfeec5a336eaa5b.txt (deflated 64%)\n",
            "  adding: content/outputs/day_YOLOv10_val/labels/frame_00841_jpg.rf.ca032685c6a738baac88c6e6f9edda4e.txt (deflated 62%)\n",
            "  adding: content/outputs/day_YOLOv10_val/labels/frame_00580_jpg.rf.b179723638ffa195c85260c816f85918.txt (deflated 64%)\n",
            "  adding: content/outputs/day_YOLOv10_val/labels/frame_00774_jpg.rf.3c501ebc20b5f45de73ee80861cfe3e6.txt (deflated 67%)\n",
            "  adding: content/outputs/day_YOLOv10_val/labels/frame_00193_jpg.rf.ea769523c3b229a35a636329e143db0a.txt (deflated 58%)\n",
            "  adding: content/outputs/day_YOLOv10_val/labels/frame_00395_jpg.rf.4eda8624e3d4af62177aa47e50900073.txt (deflated 63%)\n",
            "  adding: content/outputs/day_YOLOv10_val/labels/frame_00789_jpg.rf.ef0245b6075a95f4651413fc120fd92f.txt (deflated 65%)\n",
            "  adding: content/outputs/day_YOLOv10_val/labels/frame_00488_jpg.rf.4e04ce957dde67ba257f84637e394244.txt (deflated 68%)\n",
            "  adding: content/outputs/day_YOLOv10_val/labels/frame_00519_jpg.rf.9cee9a9fbd75c6ee4f2ad46e3f79227c.txt (deflated 64%)\n",
            "  adding: content/outputs/day_YOLOv10_val/labels/frame_00596_jpg.rf.f07643925f0125a526d6372850d780a9.txt (deflated 64%)\n",
            "  adding: content/outputs/day_YOLOv10_val/labels/frame_00276_jpg.rf.95cde08002c76f83e325c2e51292fb7d.txt (deflated 53%)\n",
            "  adding: content/outputs/day_YOLOv10_val/labels/frame_00226_jpg.rf.d17a6e1e419175d1bc9808f67cdc974d.txt (deflated 62%)\n",
            "  adding: content/outputs/day_YOLOv10_val/labels/frame_00737_jpg.rf.d426546b4177be299bb0303b41549957.txt (deflated 59%)\n",
            "  adding: content/outputs/day_YOLOv10_val/labels/frame_00748_jpg.rf.b78199b256adf91787dbeff151c749d8.txt (deflated 60%)\n",
            "  adding: content/outputs/day_YOLOv10_val/BoxF1_curve.png (deflated 8%)\n",
            "  adding: content/outputs/day_YOLOv10_val/BoxPR_curve.png (deflated 11%)\n",
            "  adding: content/outputs/day_YOLOv10_val/val_batch2_labels.jpg (deflated 6%)\n",
            "  adding: content/outputs/day_YOLOv10_val/val_batch2_pred.jpg (deflated 7%)\n",
            "  adding: content/outputs/day_YOLOv10_val/BoxP_curve.png (deflated 9%)\n",
            "  adding: content/outputs/day_YOLOv10_val/predictions.json (deflated 86%)\n",
            "  adding: content/outputs/day_YOLOv10_val/val_batch1_labels.jpg (deflated 9%)\n",
            "  adding: content/outputs/day_YOLOv10_val/val_batch1_pred.jpg (deflated 9%)\n",
            "  adding: content/outputs/day_YOLOv10_train/ (stored 0%)\n",
            "  adding: content/outputs/day_YOLOv10_train/train_batch1.jpg (deflated 2%)\n",
            "  adding: content/outputs/day_YOLOv10_train/args.yaml (deflated 53%)\n",
            "  adding: content/outputs/day_YOLOv10_train/confusion_matrix.png (deflated 29%)\n",
            "  adding: content/outputs/day_YOLOv10_train/train_batch2641.jpg (deflated 6%)\n",
            "  adding: content/outputs/day_YOLOv10_train/confusion_matrix_normalized.png (deflated 26%)\n",
            "  adding: content/outputs/day_YOLOv10_train/BoxR_curve.png (deflated 9%)\n",
            "  adding: content/outputs/day_YOLOv10_train/labels.jpg (deflated 49%)\n",
            "  adding: content/outputs/day_YOLOv10_train/val_batch0_pred.jpg (deflated 6%)\n",
            "  adding: content/outputs/day_YOLOv10_train/val_batch0_labels.jpg (deflated 6%)\n",
            "  adding: content/outputs/day_YOLOv10_train/train_batch2640.jpg (deflated 4%)\n",
            "  adding: content/outputs/day_YOLOv10_train/results.csv (deflated 58%)\n",
            "  adding: content/outputs/day_YOLOv10_train/BoxF1_curve.png (deflated 8%)\n",
            "  adding: content/outputs/day_YOLOv10_train/BoxPR_curve.png (deflated 11%)\n",
            "  adding: content/outputs/day_YOLOv10_train/val_batch2_labels.jpg (deflated 6%)\n",
            "  adding: content/outputs/day_YOLOv10_train/val_batch2_pred.jpg (deflated 6%)\n",
            "  adding: content/outputs/day_YOLOv10_train/labels_correlogram.jpg (deflated 46%)\n",
            "  adding: content/outputs/day_YOLOv10_train/results.png (deflated 7%)\n",
            "  adding: content/outputs/day_YOLOv10_train/weights/ (stored 0%)\n",
            "  adding: content/outputs/day_YOLOv10_train/weights/last.pt (deflated 12%)\n",
            "  adding: content/outputs/day_YOLOv10_train/weights/best.pt (deflated 12%)\n",
            "  adding: content/outputs/day_YOLOv10_train/BoxP_curve.png (deflated 9%)\n",
            "  adding: content/outputs/day_YOLOv10_train/train_batch0.jpg (deflated 1%)\n",
            "  adding: content/outputs/day_YOLOv10_train/train_batch2642.jpg (deflated 3%)\n",
            "  adding: content/outputs/day_YOLOv10_train/val_batch1_labels.jpg (deflated 6%)\n",
            "  adding: content/outputs/day_YOLOv10_train/val_batch1_pred.jpg (deflated 7%)\n",
            "  adding: content/outputs/day_YOLOv10_train/train_batch2.jpg (deflated 1%)\n",
            "  adding: content/outputs/night_rain_YOLOv10_val/ (stored 0%)\n",
            "  adding: content/outputs/night_rain_YOLOv10_val/confusion_matrix.png (deflated 25%)\n",
            "  adding: content/outputs/night_rain_YOLOv10_val/confusion_matrix_normalized.png (deflated 22%)\n",
            "  adding: content/outputs/night_rain_YOLOv10_val/BoxR_curve.png (deflated 9%)\n",
            "  adding: content/outputs/night_rain_YOLOv10_val/val_batch0_pred.jpg (deflated 14%)\n",
            "  adding: content/outputs/night_rain_YOLOv10_val/val_batch0_labels.jpg (deflated 14%)\n",
            "  adding: content/outputs/night_rain_YOLOv10_val/labels/ (stored 0%)\n",
            "  adding: content/outputs/night_rain_YOLOv10_val/labels/frame_00054_jpg.rf.dbc4a7fe746678469dd77b037624f867.txt (deflated 62%)\n",
            "  adding: content/outputs/night_rain_YOLOv10_val/labels/frame_00099_jpg.rf.981d1e4f63d1f275dde4cd56122adf6b.txt (deflated 60%)\n",
            "  adding: content/outputs/night_rain_YOLOv10_val/labels/frame_00458_jpg.rf.d8c9c5a39e4b36b6b18c5b919e621355.txt (deflated 56%)\n",
            "  adding: content/outputs/night_rain_YOLOv10_val/labels/frame_00119_jpg.rf.f928e31a54603fb5274022579e83b57f.txt (deflated 50%)\n",
            "  adding: content/outputs/night_rain_YOLOv10_val/labels/frame_00505_jpg.rf.c415ac884de4c2bac0cf575fe7cf2d5a.txt (deflated 58%)\n",
            "  adding: content/outputs/night_rain_YOLOv10_val/labels/frame_00876_jpg.rf.75eb703a6ab00cf6f236771f248d03cf.txt (deflated 64%)\n",
            "  adding: content/outputs/night_rain_YOLOv10_val/labels/frame_00234_jpg.rf.45224e8dca4d25069d0f6e24170c248d.txt (deflated 58%)\n",
            "  adding: content/outputs/night_rain_YOLOv10_val/labels/frame_00562_jpg.rf.56f2e96c3a46c75724e06e6eac605460.txt (deflated 47%)\n",
            "  adding: content/outputs/night_rain_YOLOv10_val/labels/frame_00055_jpg.rf.40e8c7fa9113ebb1c2191b34a925ebdc.txt (deflated 62%)\n",
            "  adding: content/outputs/night_rain_YOLOv10_val/labels/frame_00961_jpg.rf.f9de3d265aa1b7c70b11d1b889aebd7e.txt (deflated 58%)\n",
            "  adding: content/outputs/night_rain_YOLOv10_val/labels/frame_00962_jpg.rf.86f2f50eb26fe28ef57d8cbcc0599e9d.txt (deflated 59%)\n",
            "  adding: content/outputs/night_rain_YOLOv10_val/labels/frame_00275_jpg.rf.b806777cfe9bc8235c5ebb2dba564cc8.txt (deflated 59%)\n",
            "  adding: content/outputs/night_rain_YOLOv10_val/labels/frame_00658_jpg.rf.05ba7ffd5cb4bc094ed2c16d9fe5fcd9.txt (deflated 55%)\n",
            "  adding: content/outputs/night_rain_YOLOv10_val/labels/frame_00494_jpg.rf.eb90fb0bd41e521faa3f655b64b2a42f.txt (deflated 54%)\n",
            "  adding: content/outputs/night_rain_YOLOv10_val/labels/frame_00153_jpg.rf.cc072642dbe078dd1e45591e23077b96.txt (deflated 63%)\n",
            "  adding: content/outputs/night_rain_YOLOv10_val/labels/frame_00361_jpg.rf.6e4a9b2c5610156f375c29a7802dfcf9.txt (deflated 58%)\n",
            "  adding: content/outputs/night_rain_YOLOv10_val/labels/frame_00065_jpg.rf.ea4e2b47d6795481081c7750bf8ce565.txt (deflated 63%)\n",
            "  adding: content/outputs/night_rain_YOLOv10_val/labels/frame_00270_jpg.rf.5a0c67aebcbc0aa157373e496a556bce.txt (deflated 56%)\n",
            "  adding: content/outputs/night_rain_YOLOv10_val/labels/frame_00269_jpg.rf.b0bf159476a4f53774bbb0a1343594fe.txt (deflated 59%)\n",
            "  adding: content/outputs/night_rain_YOLOv10_val/labels/frame_00452_jpg.rf.1787d3dc5e762c2214d9b3f029084161.txt (deflated 58%)\n",
            "  adding: content/outputs/night_rain_YOLOv10_val/labels/frame_00228_jpg.rf.1fb4879bdb94431ebc344f52c32365d1.txt (deflated 58%)\n",
            "  adding: content/outputs/night_rain_YOLOv10_val/labels/frame_00496_jpg.rf.3674351c4931ea742010b832260d7930.txt (deflated 57%)\n",
            "  adding: content/outputs/night_rain_YOLOv10_val/labels/frame_00625_jpg.rf.3009d343806853213b5501b06030bef0.txt (deflated 54%)\n",
            "  adding: content/outputs/night_rain_YOLOv10_val/labels/frame_00429_jpg.rf.dd5e45b01ff57b88d08470bbe58d7c1c.txt (deflated 58%)\n",
            "  adding: content/outputs/night_rain_YOLOv10_val/labels/frame_00187_jpg.rf.c99173a9a936c1196412d9bfaa2fd66b.txt (deflated 56%)\n",
            "  adding: content/outputs/night_rain_YOLOv10_val/labels/frame_00130_jpg.rf.0e1872a2e0357edfdfcb682515f9e3d3.txt (deflated 58%)\n",
            "  adding: content/outputs/night_rain_YOLOv10_val/labels/frame_00094_jpg.rf.43e1dadbc27584db8f4dd272bacc6446.txt (deflated 59%)\n",
            "  adding: content/outputs/night_rain_YOLOv10_val/labels/frame_00025_jpg.rf.ba2ff265a4033cdd0c4313288ec75fb8.txt (deflated 55%)\n",
            "  adding: content/outputs/night_rain_YOLOv10_val/labels/frame_00477_jpg.rf.d54f7ac99a71c56f677c5c2855225f0b.txt (deflated 58%)\n",
            "  adding: content/outputs/night_rain_YOLOv10_val/labels/frame_00052_jpg.rf.6243a6ac63b1d70eb19f67a716e0d60b.txt (deflated 61%)\n",
            "  adding: content/outputs/night_rain_YOLOv10_val/labels/frame_00353_jpg.rf.55f01b2ef07446deb603227ebec00750.txt (deflated 59%)\n",
            "  adding: content/outputs/night_rain_YOLOv10_val/labels/frame_00009_jpg.rf.ce24ef344e43b5a49c2d8498262a9f27.txt (deflated 59%)\n",
            "  adding: content/outputs/night_rain_YOLOv10_val/labels/frame_00142_jpg.rf.3266a98196d48e013ecf153d5748d904.txt (deflated 42%)\n",
            "  adding: content/outputs/night_rain_YOLOv10_val/labels/frame_00724_jpg.rf.3fe12a7a16e63619a642b148adbf17f0.txt (deflated 52%)\n",
            "  adding: content/outputs/night_rain_YOLOv10_val/labels/frame_00585_jpg.rf.52478424529b4fe85af77d1e86809f19.txt (deflated 36%)\n",
            "  adding: content/outputs/night_rain_YOLOv10_val/labels/frame_00128_jpg.rf.8fe07156ed6378a7f2b5c8a7e916f7e6.txt (deflated 61%)\n",
            "  adding: content/outputs/night_rain_YOLOv10_val/labels/frame_00383_jpg.rf.75b6fa8bf4b6146964c53d8ab9037fb7.txt (deflated 58%)\n",
            "  adding: content/outputs/night_rain_YOLOv10_val/labels/frame_00112_jpg.rf.e3acf65622451d3cd4982f3aa603d855.txt (deflated 60%)\n",
            "  adding: content/outputs/night_rain_YOLOv10_val/labels/frame_00856_jpg.rf.974ca5b3289bf1a1b52ce0d8e6be44d4.txt (deflated 16%)\n",
            "  adding: content/outputs/night_rain_YOLOv10_val/labels/frame_00919_jpg.rf.0d1c0f23ec6f1c5ab0549a4cefaadaad.txt (deflated 67%)\n",
            "  adding: content/outputs/night_rain_YOLOv10_val/labels/frame_00449_jpg.rf.7f3a87cd109e70093cd4927c261bdb9e.txt (deflated 59%)\n",
            "  adding: content/outputs/night_rain_YOLOv10_val/labels/frame_00619_jpg.rf.6da6233890905841d074efec7cc929cc.txt (deflated 51%)\n",
            "  adding: content/outputs/night_rain_YOLOv10_val/labels/frame_00418_jpg.rf.1354736aed098ec7566ca3ed631c09d9.txt (deflated 55%)\n",
            "  adding: content/outputs/night_rain_YOLOv10_val/labels/frame_00821_jpg.rf.4fba1b4325af5911aa6ef9b9a0808e81.txt (deflated 65%)\n",
            "  adding: content/outputs/night_rain_YOLOv10_val/labels/frame_00913_jpg.rf.7098744dc7efe19b924e682de1f16ead.txt (deflated 65%)\n",
            "  adding: content/outputs/night_rain_YOLOv10_val/labels/frame_00654_jpg.rf.d9ae12eff21201f914c615e07e18911d.txt (deflated 58%)\n",
            "  adding: content/outputs/night_rain_YOLOv10_val/labels/frame_00581_jpg.rf.0c61ca15bc5409787f5ffea9d735d11e.txt (deflated 49%)\n",
            "  adding: content/outputs/night_rain_YOLOv10_val/labels/frame_00969_jpg.rf.b5ed8f829586bab321d497f545ab0656.txt (deflated 59%)\n",
            "  adding: content/outputs/night_rain_YOLOv10_val/labels/frame_00901_jpg.rf.4e9b374e6ea1a6331120822d0fd8bf19.txt (deflated 53%)\n",
            "  adding: content/outputs/night_rain_YOLOv10_val/labels/frame_00606_jpg.rf.b1f1404f2f6b77098911ca5421c42f10.txt (deflated 48%)\n",
            "  adding: content/outputs/night_rain_YOLOv10_val/labels/frame_00434_jpg.rf.40535c6026f2ffac0d33da24924d10ab.txt (deflated 56%)\n",
            "  adding: content/outputs/night_rain_YOLOv10_val/labels/frame_00229_jpg.rf.bb1d10ef79e33c346471c5e38bdb9077.txt (deflated 59%)\n",
            "  adding: content/outputs/night_rain_YOLOv10_val/labels/frame_00475_jpg.rf.8c688b484d11def9534a52ca10d0e2fa.txt (deflated 57%)\n",
            "  adding: content/outputs/night_rain_YOLOv10_val/labels/frame_00479_jpg.rf.27cb9dfba51d2207330c86a9030aa5bd.txt (deflated 60%)\n",
            "  adding: content/outputs/night_rain_YOLOv10_val/labels/frame_00175_jpg.rf.a0f59217078f2cc24921b1fad076245b.txt (deflated 58%)\n",
            "  adding: content/outputs/night_rain_YOLOv10_val/labels/frame_00593_jpg.rf.9d872d93e63e0b6407ee3f1eae866a1d.txt (deflated 50%)\n",
            "  adding: content/outputs/night_rain_YOLOv10_val/labels/frame_00953_jpg.rf.ed4a0df5fcf4daedcc719e0de8c42288.txt (deflated 56%)\n",
            "  adding: content/outputs/night_rain_YOLOv10_val/labels/frame_00204_jpg.rf.d5b2d70367efb01a68f333446b9c3349.txt (deflated 61%)\n",
            "  adding: content/outputs/night_rain_YOLOv10_val/labels/frame_00697_jpg.rf.22fda96d183589aa284ff0d5764d9682.txt (deflated 45%)\n",
            "  adding: content/outputs/night_rain_YOLOv10_val/labels/frame_00810_jpg.rf.7fce4e2f0851ed272949bc952438c07c.txt (deflated 60%)\n",
            "  adding: content/outputs/night_rain_YOLOv10_val/labels/frame_00398_jpg.rf.be9a20eb18cd0fb6f88c2c86f2b650c8.txt (deflated 56%)\n",
            "  adding: content/outputs/night_rain_YOLOv10_val/labels/frame_00292_jpg.rf.e06cbd5b593497334d307675241b359d.txt (deflated 58%)\n",
            "  adding: content/outputs/night_rain_YOLOv10_val/labels/frame_00601_jpg.rf.df5bb7f833bbbd1f558d612bcf55bbf2.txt (deflated 53%)\n",
            "  adding: content/outputs/night_rain_YOLOv10_val/labels/frame_00314_jpg.rf.1da982c7a822feec3b89e734023802ef.txt (deflated 62%)\n",
            "  adding: content/outputs/night_rain_YOLOv10_val/labels/frame_00067_jpg.rf.e4003c1acd16e84e366d10214dde375e.txt (deflated 59%)\n",
            "  adding: content/outputs/night_rain_YOLOv10_val/labels/frame_00515_jpg.rf.8070f7ebd749953f9234bf1950003b9f.txt (deflated 46%)\n",
            "  adding: content/outputs/night_rain_YOLOv10_val/labels/frame_00329_jpg.rf.8f1771c7cdf77f0c76ebac0c152e7488.txt (deflated 60%)\n",
            "  adding: content/outputs/night_rain_YOLOv10_val/labels/frame_00267_jpg.rf.052455eca33dd734119f8a60d25b2cb2.txt (deflated 57%)\n",
            "  adding: content/outputs/night_rain_YOLOv10_val/labels/frame_00444_jpg.rf.4e8c987e526d85cea3f57ea46fbe3633.txt (deflated 56%)\n",
            "  adding: content/outputs/night_rain_YOLOv10_val/labels/frame_00790_jpg.rf.b79782f6d98562ec72b1b537641d3243.txt (deflated 54%)\n",
            "  adding: content/outputs/night_rain_YOLOv10_val/labels/frame_00380_jpg.rf.d70986026a31ebb44ed195a6d2c4730c.txt (deflated 60%)\n",
            "  adding: content/outputs/night_rain_YOLOv10_val/labels/frame_00100_jpg.rf.f2d3c7dbee315cf94e99c5f4459fbae2.txt (deflated 61%)\n",
            "  adding: content/outputs/night_rain_YOLOv10_val/labels/frame_00618_jpg.rf.2319019aa6efa9c6f17d20aad65f9085.txt (deflated 54%)\n",
            "  adding: content/outputs/night_rain_YOLOv10_val/labels/frame_00534_jpg.rf.033b972573513876f0af0f8a5b579096.txt (deflated 48%)\n",
            "  adding: content/outputs/night_rain_YOLOv10_val/labels/frame_00795_jpg.rf.4afc12a3a6edda42a26f0e165ae39b25.txt (deflated 58%)\n",
            "  adding: content/outputs/night_rain_YOLOv10_val/labels/frame_00077_jpg.rf.468341e93155da21ee76f799c9430291.txt (deflated 54%)\n",
            "  adding: content/outputs/night_rain_YOLOv10_val/labels/frame_00839_jpg.rf.be722d227e40ea7bad9b9eff3d56dc08.txt (deflated 63%)\n",
            "  adding: content/outputs/night_rain_YOLOv10_val/labels/frame_00902_jpg.rf.fc1535d3ba0681c693f24333733cea28.txt (deflated 36%)\n",
            "  adding: content/outputs/night_rain_YOLOv10_val/labels/frame_00885_jpg.rf.38cfc96cbf492e791a06d83396e98498.txt (deflated 60%)\n",
            "  adding: content/outputs/night_rain_YOLOv10_val/labels/frame_00539_jpg.rf.8e74f7f52b33628382c37ac3c7fd20e6.txt (deflated 55%)\n",
            "  adding: content/outputs/night_rain_YOLOv10_val/labels/frame_00224_jpg.rf.ab011b73ba17665a8abba06e2218076d.txt (deflated 60%)\n",
            "  adding: content/outputs/night_rain_YOLOv10_val/labels/frame_00374_jpg.rf.a28560068ae73204fe552a3cc9d6c043.txt (deflated 58%)\n",
            "  adding: content/outputs/night_rain_YOLOv10_val/labels/frame_00490_jpg.rf.3f2fabf064afe03cabb130f04a54cd4a.txt (deflated 55%)\n",
            "  adding: content/outputs/night_rain_YOLOv10_val/labels/frame_00503_jpg.rf.acc8bcfd534e9931f1c2fa562169e346.txt (deflated 58%)\n",
            "  adding: content/outputs/night_rain_YOLOv10_val/labels/frame_00443_jpg.rf.ee978dcada652abea949bee0e518c10b.txt (deflated 57%)\n",
            "  adding: content/outputs/night_rain_YOLOv10_val/labels/frame_00413_jpg.rf.4b70d5b512cf28357f38ab688b980835.txt (deflated 58%)\n",
            "  adding: content/outputs/night_rain_YOLOv10_val/labels/frame_00082_jpg.rf.3f938b5080ffaf65d72985c0e2fc913b.txt (deflated 55%)\n",
            "  adding: content/outputs/night_rain_YOLOv10_val/labels/frame_00042_jpg.rf.c5e73b5d54e11cc85716c7b9242466fd.txt (deflated 58%)\n",
            "  adding: content/outputs/night_rain_YOLOv10_val/labels/frame_00448_jpg.rf.915fba021485d57df71c9ca0da177691.txt (deflated 56%)\n",
            "  adding: content/outputs/night_rain_YOLOv10_val/labels/frame_00966_jpg.rf.ba574d9676463842ae7d142881ae7cec.txt (deflated 57%)\n",
            "  adding: content/outputs/night_rain_YOLOv10_val/labels/frame_00422_jpg.rf.f898143ee36a0bac00170dfadf969e45.txt (deflated 57%)\n",
            "  adding: content/outputs/night_rain_YOLOv10_val/labels/frame_00394_jpg.rf.6a27e3618f4276ba58a6fe64304a2e8d.txt (deflated 59%)\n",
            "  adding: content/outputs/night_rain_YOLOv10_val/labels/frame_00152_jpg.rf.339dbaf673590ff5c255bbeead189056.txt (deflated 64%)\n",
            "  adding: content/outputs/night_rain_YOLOv10_val/labels/frame_00214_jpg.rf.f0076a7b40d89f9bb6b773f555e2e776.txt (deflated 57%)\n",
            "  adding: content/outputs/night_rain_YOLOv10_val/labels/frame_00354_jpg.rf.3ad3dc7923a5ed8a7c551f2092de9b8c.txt (deflated 59%)\n",
            "  adding: content/outputs/night_rain_YOLOv10_val/labels/frame_00980_jpg.rf.9a87459011c2d5a70c2edc9abee87074.txt (deflated 66%)\n",
            "  adding: content/outputs/night_rain_YOLOv10_val/labels/frame_00778_jpg.rf.03e8688c297706729fdfc48e9351242d.txt (deflated 59%)\n",
            "  adding: content/outputs/night_rain_YOLOv10_val/labels/frame_00155_jpg.rf.536f421f1961366ef1cce40af858b723.txt (deflated 62%)\n",
            "  adding: content/outputs/night_rain_YOLOv10_val/labels/frame_00020_jpg.rf.3282b659414b649b50dad9faabb3d2a3.txt (deflated 61%)\n",
            "  adding: content/outputs/night_rain_YOLOv10_val/labels/frame_00826_jpg.rf.3ff67672edc791bf0cd8c96608a48195.txt (deflated 60%)\n",
            "  adding: content/outputs/night_rain_YOLOv10_val/labels/frame_00057_jpg.rf.24ec31bec056390a4f93af3afb10f581.txt (deflated 57%)\n",
            "  adding: content/outputs/night_rain_YOLOv10_val/labels/frame_00921_jpg.rf.a5af4e9fb2957b946ea82a59c8e7ee89.txt (deflated 63%)\n",
            "  adding: content/outputs/night_rain_YOLOv10_val/labels/frame_00937_jpg.rf.c7e7bd8cf95226fef457d4229f2a3d76.txt (deflated 16%)\n",
            "  adding: content/outputs/night_rain_YOLOv10_val/labels/frame_00709_jpg.rf.e0a689010ad49d140f50ffcdf75c3e96.txt (deflated 57%)\n",
            "  adding: content/outputs/night_rain_YOLOv10_val/labels/frame_00420_jpg.rf.84d8e7d2d3abce07a52abca78a44725a.txt (deflated 57%)\n",
            "  adding: content/outputs/night_rain_YOLOv10_val/labels/frame_00308_jpg.rf.1fedb17439caa8d038e8e794f1bde126.txt (deflated 60%)\n",
            "  adding: content/outputs/night_rain_YOLOv10_val/labels/frame_00330_jpg.rf.306656f5e03dbf2e8bba6c250a7613ec.txt (deflated 61%)\n",
            "  adding: content/outputs/night_rain_YOLOv10_val/labels/frame_00602_jpg.rf.23b2640817d7d611a70f5359cb0637c2.txt (deflated 53%)\n",
            "  adding: content/outputs/night_rain_YOLOv10_val/labels/frame_00261_jpg.rf.8edaeb5bbdb64b27f5438d7a6084cde3.txt (deflated 60%)\n",
            "  adding: content/outputs/night_rain_YOLOv10_val/labels/frame_00346_jpg.rf.3c12d0f7a0894196de968f8eaf65925c.txt (deflated 58%)\n",
            "  adding: content/outputs/night_rain_YOLOv10_val/labels/frame_00068_jpg.rf.b1be0230bbb045f6e0eddca044ffbb8b.txt (deflated 61%)\n",
            "  adding: content/outputs/night_rain_YOLOv10_val/labels/frame_00323_jpg.rf.515da6d7abb76d4c5639160bd61d008f.txt (deflated 57%)\n",
            "  adding: content/outputs/night_rain_YOLOv10_val/labels/frame_00127_jpg.rf.cd3926399eedc5e25622ae7b544a587c.txt (deflated 59%)\n",
            "  adding: content/outputs/night_rain_YOLOv10_val/labels/frame_00463_jpg.rf.56e7e6dbdd084f0aed5254f74351f0db.txt (deflated 57%)\n",
            "  adding: content/outputs/night_rain_YOLOv10_val/labels/frame_00633_jpg.rf.7ad8679393e1ddfd5eca5f81b0433900.txt (deflated 53%)\n",
            "  adding: content/outputs/night_rain_YOLOv10_val/labels/frame_00864_jpg.rf.990a8f305a9356692251f1e4f77f26d6.txt (deflated 35%)\n",
            "  adding: content/outputs/night_rain_YOLOv10_val/labels/frame_00287_jpg.rf.2dd817fde18d864a0f38e946dd2a5c45.txt (deflated 61%)\n",
            "  adding: content/outputs/night_rain_YOLOv10_val/labels/frame_00345_jpg.rf.b6f67d96bf876a287994838d6562b16c.txt (deflated 58%)\n",
            "  adding: content/outputs/night_rain_YOLOv10_val/labels/frame_00910_jpg.rf.e4525dce1dfbd19013af49b24c3f0804.txt (deflated 60%)\n",
            "  adding: content/outputs/night_rain_YOLOv10_val/labels/frame_00341_jpg.rf.7cce2d2ae13a4b595e4c145bcf5ab13c.txt (deflated 58%)\n",
            "  adding: content/outputs/night_rain_YOLOv10_val/labels/frame_00747_jpg.rf.a0d7270e362845a410c9971dcff410a0.txt (deflated 59%)\n",
            "  adding: content/outputs/night_rain_YOLOv10_val/labels/frame_00014_jpg.rf.c820ffd9f489bf2a7089ce21b7848bcc.txt (deflated 59%)\n",
            "  adding: content/outputs/night_rain_YOLOv10_val/labels/frame_00364_jpg.rf.1fe15fa6ec74fc881b9af1ef52d18108.txt (deflated 58%)\n",
            "  adding: content/outputs/night_rain_YOLOv10_val/labels/frame_00221_jpg.rf.2b18ac408604647fac4d05f5f4a5251e.txt (deflated 55%)\n",
            "  adding: content/outputs/night_rain_YOLOv10_val/labels/frame_00208_jpg.rf.3999745f4526c7158ff18ca9fbb845a9.txt (deflated 58%)\n",
            "  adding: content/outputs/night_rain_YOLOv10_val/labels/frame_00359_jpg.rf.630f8da6692d6dcc72b89ad9aab89343.txt (deflated 59%)\n",
            "  adding: content/outputs/night_rain_YOLOv10_val/labels/frame_00741_jpg.rf.652dc2c3f4c9ffc2a8d78daf78292d2a.txt (deflated 62%)\n",
            "  adding: content/outputs/night_rain_YOLOv10_val/labels/frame_00744_jpg.rf.d65264c4d2bfed316d2457e9a2c802eb.txt (deflated 61%)\n",
            "  adding: content/outputs/night_rain_YOLOv10_val/labels/frame_00338_jpg.rf.fe80bc776b8cef4fb30fa4f62d9878c1.txt (deflated 58%)\n",
            "  adding: content/outputs/night_rain_YOLOv10_val/labels/frame_00648_jpg.rf.e0dd02d742194709a9a20f35c24609f3.txt (deflated 43%)\n",
            "  adding: content/outputs/night_rain_YOLOv10_val/labels/frame_00785_jpg.rf.7e8adb30a3426b5235fc37364d92f814.txt (deflated 63%)\n",
            "  adding: content/outputs/night_rain_YOLOv10_val/labels/frame_00682_jpg.rf.372a9b78e6cf51edf355eeac1b72d01f.txt (deflated 54%)\n",
            "  adding: content/outputs/night_rain_YOLOv10_val/labels/frame_00170_jpg.rf.31503f1389633f20e93ec7090c166c77.txt (deflated 57%)\n",
            "  adding: content/outputs/night_rain_YOLOv10_val/labels/frame_00714_jpg.rf.9e61ac264e60df72e99e5ad9d6e9936e.txt (deflated 34%)\n",
            "  adding: content/outputs/night_rain_YOLOv10_val/labels/frame_00026_jpg.rf.b29764d183e7b69d979983204ac6989d.txt (deflated 54%)\n",
            "  adding: content/outputs/night_rain_YOLOv10_val/labels/frame_00988_jpg.rf.a8e0d865917de52981abe121028955a7.txt (deflated 61%)\n",
            "  adding: content/outputs/night_rain_YOLOv10_val/labels/frame_00298_jpg.rf.0fdf277cef5ea3d488dd7b8f1e852ae1.txt (deflated 58%)\n",
            "  adding: content/outputs/night_rain_YOLOv10_val/labels/frame_00832_jpg.rf.cbfb9c01be00e807e648ccec3b60e2aa.txt (deflated 66%)\n",
            "  adding: content/outputs/night_rain_YOLOv10_val/labels/frame_00284_jpg.rf.d6f4b23ff4f604b529f31b5047930da9.txt (deflated 59%)\n",
            "  adding: content/outputs/night_rain_YOLOv10_val/labels/frame_00164_jpg.rf.d332636313354d1200c5b0e73d25816a.txt (deflated 62%)\n",
            "  adding: content/outputs/night_rain_YOLOv10_val/labels/frame_00288_jpg.rf.3455de0a1820c4bbb7b35aa90b972fb3.txt (deflated 60%)\n",
            "  adding: content/outputs/night_rain_YOLOv10_val/labels/frame_00661_jpg.rf.31d0ff3930fb2e496b0ff5d4bb3fbde5.txt (deflated 54%)\n",
            "  adding: content/outputs/night_rain_YOLOv10_val/labels/frame_00974_jpg.rf.602017888a402b6e9e55672e13606616.txt (deflated 58%)\n",
            "  adding: content/outputs/night_rain_YOLOv10_val/labels/frame_00547_jpg.rf.3dc65ae4ae0cd530014caba4eebacb9e.txt (deflated 52%)\n",
            "  adding: content/outputs/night_rain_YOLOv10_val/labels/frame_00226_jpg.rf.72b90068d0392cd5bd95068f4c8c864c.txt (deflated 56%)\n",
            "  adding: content/outputs/night_rain_YOLOv10_val/labels/frame_00867_jpg.rf.cb65c8ecbfb15365623720f6b5f4caff.txt (deflated 16%)\n",
            "  adding: content/outputs/night_rain_YOLOv10_val/labels/frame_00344_jpg.rf.508e17caa177b14934a6ab07af9907eb.txt (deflated 56%)\n",
            "  adding: content/outputs/night_rain_YOLOv10_val/labels/frame_00756_jpg.rf.4dabd97657d858196346436db049b09c.txt (deflated 61%)\n",
            "  adding: content/outputs/night_rain_YOLOv10_val/labels/frame_00916_jpg.rf.8bfd8ab4978dcd809c3ec283a13da6a0.txt (deflated 65%)\n",
            "  adding: content/outputs/night_rain_YOLOv10_val/labels/frame_00079_jpg.rf.496f5b0f81949c7ced05804918118f6b.txt (deflated 55%)\n",
            "  adding: content/outputs/night_rain_YOLOv10_val/labels/frame_00650_jpg.rf.49cd51db7ba2192577c2c8cb4e60e066.txt (deflated 57%)\n",
            "  adding: content/outputs/night_rain_YOLOv10_val/labels/frame_00146_jpg.rf.e0f0cae261a2d0c2fcb63438fc5e5634.txt (deflated 61%)\n",
            "  adding: content/outputs/night_rain_YOLOv10_val/labels/frame_00889_jpg.rf.fda42a54332414739f392fb65a26058f.txt (deflated 60%)\n",
            "  adding: content/outputs/night_rain_YOLOv10_val/labels/frame_00977_jpg.rf.8a5914e46a8521932a1458750b6ef6d3.txt (deflated 60%)\n",
            "  adding: content/outputs/night_rain_YOLOv10_val/labels/frame_00847_jpg.rf.9406352614cca0df7f9224f8740f8820.txt (deflated 51%)\n",
            "  adding: content/outputs/night_rain_YOLOv10_val/labels/frame_00912_jpg.rf.66addba05afa52a0eecea2ee126dd8ba.txt (deflated 65%)\n",
            "  adding: content/outputs/night_rain_YOLOv10_val/labels/frame_00238_jpg.rf.58b33a64a481cd4b8c369f478e6dcb1a.txt (deflated 60%)\n",
            "  adding: content/outputs/night_rain_YOLOv10_val/labels/frame_00121_jpg.rf.e2fb44f0dc99822f56509a582975a397.txt (deflated 59%)\n",
            "  adding: content/outputs/night_rain_YOLOv10_val/labels/frame_00831_jpg.rf.3662824e2d493a86edcdb326f3167918.txt (deflated 53%)\n",
            "  adding: content/outputs/night_rain_YOLOv10_val/labels/frame_00521_jpg.rf.17b1aa2cb10ccdad013a95273a486d5a.txt (deflated 51%)\n",
            "  adding: content/outputs/night_rain_YOLOv10_val/labels/frame_00476_jpg.rf.a475d9716d8fb0cdf868185f62e4f583.txt (deflated 57%)\n",
            "  adding: content/outputs/night_rain_YOLOv10_val/labels/frame_00011_jpg.rf.51b6948151871e1430f39b83cbd3548d.txt (deflated 61%)\n",
            "  adding: content/outputs/night_rain_YOLOv10_val/labels/frame_00309_jpg.rf.f844c039d54184171f9c104eb0b118e6.txt (deflated 62%)\n",
            "  adding: content/outputs/night_rain_YOLOv10_val/labels/frame_00870_jpg.rf.d1d9020fe3fedb37870b8f322ddd72e0.txt (deflated 63%)\n",
            "  adding: content/outputs/night_rain_YOLOv10_val/labels/frame_00676_jpg.rf.f66d6fcf4d2bd93cdf51c0b2bea11700.txt (deflated 47%)\n",
            "  adding: content/outputs/night_rain_YOLOv10_val/labels/frame_00088_jpg.rf.e985eece8633a7e59cc7e2dea8b249f2.txt (deflated 55%)\n",
            "  adding: content/outputs/night_rain_YOLOv10_val/labels/frame_00421_jpg.rf.1cdd62843532fc3a4eb9608606f1f9e3.txt (deflated 56%)\n",
            "  adding: content/outputs/night_rain_YOLOv10_val/labels/frame_00008_jpg.rf.b721585364f8f7829bb220ab4caa9e4d.txt (deflated 62%)\n",
            "  adding: content/outputs/night_rain_YOLOv10_val/labels/frame_00712_jpg.rf.f04ec494c3f8acf8fbf5f88629bce1a1.txt (deflated 12%)\n",
            "  adding: content/outputs/night_rain_YOLOv10_val/labels/frame_00999_jpg.rf.2013ccea247509c81e46108671d11b0f.txt (deflated 60%)\n",
            "  adding: content/outputs/night_rain_YOLOv10_val/labels/frame_00493_jpg.rf.6101294bfed442779fa6853d93effa3c.txt (deflated 57%)\n",
            "  adding: content/outputs/night_rain_YOLOv10_val/labels/frame_00731_jpg.rf.92c0feaa96b84baaa0469d6eb1ac7f2b.txt (deflated 64%)\n",
            "  adding: content/outputs/night_rain_YOLOv10_val/labels/frame_00268_jpg.rf.6b8623732973e32dc1433e702def09af.txt (deflated 56%)\n",
            "  adding: content/outputs/night_rain_YOLOv10_val/labels/frame_00825_jpg.rf.5075c69cc27dab872d789133ad929d5f.txt (deflated 58%)\n",
            "  adding: content/outputs/night_rain_YOLOv10_val/labels/frame_00693_jpg.rf.624fdcdcc780c2c0bef37cb19f56bd2a.txt (deflated 14%)\n",
            "  adding: content/outputs/night_rain_YOLOv10_val/labels/frame_00419_jpg.rf.412ab7f0fa876059520fb04470e1a126.txt (deflated 56%)\n",
            "  adding: content/outputs/night_rain_YOLOv10_val/labels/frame_00656_jpg.rf.d7ae684f7fecd47beecf63bbe62f2010.txt (deflated 57%)\n",
            "  adding: content/outputs/night_rain_YOLOv10_val/labels/frame_00558_jpg.rf.02dce0ab8b40ff8ed554e332b9eb312d.txt (deflated 48%)\n",
            "  adding: content/outputs/night_rain_YOLOv10_val/labels/frame_00728_jpg.rf.e23614961913f3ff6407f2cba38de66c.txt (deflated 62%)\n",
            "  adding: content/outputs/night_rain_YOLOv10_val/labels/frame_00311_jpg.rf.e0ea74c76c16488e21fb68bed11346f1.txt (deflated 62%)\n",
            "  adding: content/outputs/night_rain_YOLOv10_val/labels/frame_00385_jpg.rf.845c42a1365b2b506481a55e5b1de1c2.txt (deflated 56%)\n",
            "  adding: content/outputs/night_rain_YOLOv10_val/labels/frame_00874_jpg.rf.fa1138f44fa295afe1ec4cc0d8e35c9b.txt (deflated 66%)\n",
            "  adding: content/outputs/night_rain_YOLOv10_val/labels/frame_00492_jpg.rf.5f82483131f6963973ef71ad9d6e53b4.txt (deflated 56%)\n",
            "  adding: content/outputs/night_rain_YOLOv10_val/labels/frame_00395_jpg.rf.d322c8fc1d92e3aa30f73f4114b58c6d.txt (deflated 57%)\n",
            "  adding: content/outputs/night_rain_YOLOv10_val/labels/frame_00428_jpg.rf.2bb7844af06b49a96da303412355edb0.txt (deflated 57%)\n",
            "  adding: content/outputs/night_rain_YOLOv10_val/labels/frame_00936_jpg.rf.735352f23f0c216dbde5c84fde86a92e.txt (deflated 48%)\n",
            "  adding: content/outputs/night_rain_YOLOv10_val/labels/frame_00750_jpg.rf.b2f5a76bea9666aee82936dbd173f0e4.txt (deflated 56%)\n",
            "  adding: content/outputs/night_rain_YOLOv10_val/labels/frame_00349_jpg.rf.13f6cfee721212b011bd47abf4ba4a64.txt (deflated 59%)\n",
            "  adding: content/outputs/night_rain_YOLOv10_val/labels/frame_00905_jpg.rf.072eec64f8ba26cf5622f95dc4d75374.txt (deflated 16%)\n",
            "  adding: content/outputs/night_rain_YOLOv10_val/BoxF1_curve.png (deflated 7%)\n",
            "  adding: content/outputs/night_rain_YOLOv10_val/BoxPR_curve.png (deflated 13%)\n",
            "  adding: content/outputs/night_rain_YOLOv10_val/val_batch2_labels.jpg (deflated 12%)\n",
            "  adding: content/outputs/night_rain_YOLOv10_val/val_batch2_pred.jpg (deflated 12%)\n",
            "  adding: content/outputs/night_rain_YOLOv10_val/BoxP_curve.png (deflated 10%)\n",
            "  adding: content/outputs/night_rain_YOLOv10_val/predictions.json (deflated 85%)\n",
            "  adding: content/outputs/night_rain_YOLOv10_val/val_batch1_labels.jpg (deflated 15%)\n",
            "  adding: content/outputs/night_rain_YOLOv10_val/val_batch1_pred.jpg (deflated 15%)\n",
            "  adding: content/outputs/day_rain_YOLOv10_val/ (stored 0%)\n",
            "  adding: content/outputs/day_rain_YOLOv10_val/confusion_matrix.png (deflated 23%)\n",
            "  adding: content/outputs/day_rain_YOLOv10_val/confusion_matrix_normalized.png (deflated 21%)\n",
            "  adding: content/outputs/day_rain_YOLOv10_val/BoxR_curve.png (deflated 7%)\n",
            "  adding: content/outputs/day_rain_YOLOv10_val/val_batch0_pred.jpg (deflated 5%)\n",
            "  adding: content/outputs/day_rain_YOLOv10_val/val_batch0_labels.jpg (deflated 5%)\n",
            "  adding: content/outputs/day_rain_YOLOv10_val/labels/ (stored 0%)\n",
            "  adding: content/outputs/day_rain_YOLOv10_val/labels/frame_00752_jpg.rf.4652850d8ef4c9c1eec0554054754a5c.txt (deflated 61%)\n",
            "  adding: content/outputs/day_rain_YOLOv10_val/labels/frame_00046_jpg.rf.014f24f5ccbeced48b6294197515e979.txt (deflated 60%)\n",
            "  adding: content/outputs/day_rain_YOLOv10_val/labels/frame_00613_jpg.rf.3293197fea5906a160bace4fbffd5825.txt (deflated 61%)\n",
            "  adding: content/outputs/day_rain_YOLOv10_val/labels/frame_00514_jpg.rf.2c6dfb3c74cb9642343dc08271fb3730.txt (deflated 62%)\n",
            "  adding: content/outputs/day_rain_YOLOv10_val/labels/frame_00658_jpg.rf.181987b7ca4ffcb30dce9cd19cd40910.txt (deflated 62%)\n",
            "  adding: content/outputs/day_rain_YOLOv10_val/labels/frame_00425_jpg.rf.f69e05904dbaac9325fd5de27b255a13.txt (deflated 61%)\n",
            "  adding: content/outputs/day_rain_YOLOv10_val/labels/frame_00139_jpg.rf.7002db76d005f5c7d8ac8b399dfbd91f.txt (deflated 60%)\n",
            "  adding: content/outputs/day_rain_YOLOv10_val/labels/frame_00779_jpg.rf.47681e66eace17a22349ebffc529a1cb.txt (deflated 62%)\n",
            "  adding: content/outputs/day_rain_YOLOv10_val/labels/frame_00060_jpg.rf.88b7d3ec170e621b306764e1e18fd62e.txt (deflated 64%)\n",
            "  adding: content/outputs/day_rain_YOLOv10_val/labels/frame_00345_jpg.rf.a748947a462addf3b4a6722855af13ac.txt (deflated 63%)\n",
            "  adding: content/outputs/day_rain_YOLOv10_val/labels/frame_00127_jpg.rf.fbc9e491a4ab0c6751579bcfb390346a.txt (deflated 62%)\n",
            "  adding: content/outputs/day_rain_YOLOv10_val/labels/frame_00917_jpg.rf.762a665e68656e948588d1c2fee207dd.txt (deflated 63%)\n",
            "  adding: content/outputs/day_rain_YOLOv10_val/labels/frame_00382_jpg.rf.ab53803cd569c3b6facf8e429495f352.txt (deflated 62%)\n",
            "  adding: content/outputs/day_rain_YOLOv10_val/labels/frame_00693_jpg.rf.d4b286ea607496f22d451b21a5bf6461.txt (deflated 60%)\n",
            "  adding: content/outputs/day_rain_YOLOv10_val/labels/frame_00420_jpg.rf.f5195a82a1b491029de9c61e968feaf7.txt (deflated 61%)\n",
            "  adding: content/outputs/day_rain_YOLOv10_val/labels/frame_00927_jpg.rf.4b7b628827b910a2f3e73d397f6ef08a.txt (deflated 64%)\n",
            "  adding: content/outputs/day_rain_YOLOv10_val/labels/frame_00371_jpg.rf.60c6c0f4a135828b9a9dc4b7f341606f.txt (deflated 62%)\n",
            "  adding: content/outputs/day_rain_YOLOv10_val/labels/frame_00263_jpg.rf.a29b6e67b420fcc7b840aa8314c88310.txt (deflated 61%)\n",
            "  adding: content/outputs/day_rain_YOLOv10_val/labels/frame_00568_jpg.rf.d5a57d63f29a4824150a7f8795059894.txt (deflated 62%)\n",
            "  adding: content/outputs/day_rain_YOLOv10_val/labels/frame_00219_jpg.rf.2bdc5cd43651c84a42a355c6fdddd502.txt (deflated 63%)\n",
            "  adding: content/outputs/day_rain_YOLOv10_val/labels/frame_00036_jpg.rf.bfda7cb72f135fb362b7599db9e58d70.txt (deflated 61%)\n",
            "  adding: content/outputs/day_rain_YOLOv10_val/labels/frame_00094_jpg.rf.33af29e395747a77b7c02303750df03a.txt (deflated 61%)\n",
            "  adding: content/outputs/day_rain_YOLOv10_val/labels/frame_00135_jpg.rf.42b8394f34249f20db9111b5d94f079f.txt (deflated 60%)\n",
            "  adding: content/outputs/day_rain_YOLOv10_val/labels/frame_00815_jpg.rf.fd386e56fc17614b3b845c7f7823593b.txt (deflated 61%)\n",
            "  adding: content/outputs/day_rain_YOLOv10_val/labels/frame_00546_jpg.rf.49658b3a2782961ce8b145eaf10ef8c4.txt (deflated 62%)\n",
            "  adding: content/outputs/day_rain_YOLOv10_val/labels/frame_00288_jpg.rf.b44477a68e0f2b0ffbb863b2a68a2d75.txt (deflated 63%)\n",
            "  adding: content/outputs/day_rain_YOLOv10_val/labels/frame_00044_jpg.rf.a1fcc83ebd431cc3a13b07acaf3d1bed.txt (deflated 62%)\n",
            "  adding: content/outputs/day_rain_YOLOv10_val/labels/frame_00205_jpg.rf.bba410f395bf1dc74636d23ff0f447c4.txt (deflated 64%)\n",
            "  adding: content/outputs/day_rain_YOLOv10_val/labels/frame_00049_jpg.rf.246b03f68385d57fc3e3eb0b3b240744.txt (deflated 63%)\n",
            "  adding: content/outputs/day_rain_YOLOv10_val/labels/frame_00832_jpg.rf.acdad31c7b8b6eaf7e53aab2ac53f57a.txt (deflated 61%)\n",
            "  adding: content/outputs/day_rain_YOLOv10_val/labels/frame_00687_jpg.rf.c807e378b353c9ec58141eedb47ee5ee.txt (deflated 61%)\n",
            "  adding: content/outputs/day_rain_YOLOv10_val/labels/frame_00992_jpg.rf.22332184c8f1ee8fa5e586f09c66c782.txt (deflated 60%)\n",
            "  adding: content/outputs/day_rain_YOLOv10_val/labels/frame_00222_jpg.rf.104cac7150c4658cd5d70ce091b20261.txt (deflated 63%)\n",
            "  adding: content/outputs/day_rain_YOLOv10_val/labels/frame_00851_jpg.rf.a7ed1a71f799a4cdcabb0156b5d3c9f1.txt (deflated 61%)\n",
            "  adding: content/outputs/day_rain_YOLOv10_val/labels/frame_00596_jpg.rf.92f3fcf54956accd4361d215ca83ca98.txt (deflated 61%)\n",
            "  adding: content/outputs/day_rain_YOLOv10_val/labels/frame_00929_jpg.rf.1df35f73a9d3f3c46073e972f688cbd7.txt (deflated 67%)\n",
            "  adding: content/outputs/day_rain_YOLOv10_val/labels/frame_00558_jpg.rf.a51dbaf7d6d655fbe4a4cb439f99ee9a.txt (deflated 63%)\n",
            "  adding: content/outputs/day_rain_YOLOv10_val/labels/frame_00154_jpg.rf.9dee5396ef3373f565a0a224e4354fb0.txt (deflated 63%)\n",
            "  adding: content/outputs/day_rain_YOLOv10_val/labels/frame_00070_jpg.rf.7325a898e8309411b18ccb81cf0cc41a.txt (deflated 64%)\n",
            "  adding: content/outputs/day_rain_YOLOv10_val/labels/frame_00502_jpg.rf.caae46140e49fae7a6ebb92d10eac82d.txt (deflated 61%)\n",
            "  adding: content/outputs/day_rain_YOLOv10_val/labels/frame_00133_jpg.rf.9145824e5db801e58cb03ad809d852e4.txt (deflated 61%)\n",
            "  adding: content/outputs/day_rain_YOLOv10_val/labels/frame_00230_jpg.rf.3863e2cc055935bddd7c16504369ee45.txt (deflated 67%)\n",
            "  adding: content/outputs/day_rain_YOLOv10_val/labels/frame_00399_jpg.rf.fedb0c50e2148198c13f9faafa62798a.txt (deflated 61%)\n",
            "  adding: content/outputs/day_rain_YOLOv10_val/labels/frame_00302_jpg.rf.b2524292bd583dc6de4c6f2af2aef30e.txt (deflated 64%)\n",
            "  adding: content/outputs/day_rain_YOLOv10_val/labels/frame_00170_jpg.rf.6b8584cdf62eb661a0f92eed05e46486.txt (deflated 61%)\n",
            "  adding: content/outputs/day_rain_YOLOv10_val/labels/frame_00863_jpg.rf.5e46558387d5f7b7f72aa4434e772a0e.txt (deflated 61%)\n",
            "  adding: content/outputs/day_rain_YOLOv10_val/labels/frame_00778_jpg.rf.85a660c089fdecdfb2d0bf2579442696.txt (deflated 61%)\n",
            "  adding: content/outputs/day_rain_YOLOv10_val/labels/frame_00331_jpg.rf.1b64bfc6ffb99b0a0166054aa2487d4f.txt (deflated 64%)\n",
            "  adding: content/outputs/day_rain_YOLOv10_val/labels/frame_00025_jpg.rf.1b4282dd70de94329579b0a19e6cd696.txt (deflated 61%)\n",
            "  adding: content/outputs/day_rain_YOLOv10_val/labels/frame_00482_jpg.rf.0cd898ab435d25fb94d21a770619a343.txt (deflated 61%)\n",
            "  adding: content/outputs/day_rain_YOLOv10_val/labels/frame_00349_jpg.rf.90eeb555c3d57393ac9c15bb54daa31c.txt (deflated 63%)\n",
            "  adding: content/outputs/day_rain_YOLOv10_val/labels/frame_00047_jpg.rf.6b2d5a81c90a235b704618f27f043ef0.txt (deflated 63%)\n",
            "  adding: content/outputs/day_rain_YOLOv10_val/labels/frame_00661_jpg.rf.08486a73adc6248220656b8f4692c978.txt (deflated 61%)\n",
            "  adding: content/outputs/day_rain_YOLOv10_val/labels/frame_00521_jpg.rf.c71818238e731437bc9733896c037c6a.txt (deflated 61%)\n",
            "  adding: content/outputs/day_rain_YOLOv10_val/labels/frame_00510_jpg.rf.8fd2f3513bd49183484d6ece30ab4a29.txt (deflated 61%)\n",
            "  adding: content/outputs/day_rain_YOLOv10_val/labels/frame_00710_jpg.rf.37ed64d285b024faa8eb82044bdb3e84.txt (deflated 60%)\n",
            "  adding: content/outputs/day_rain_YOLOv10_val/labels/frame_00676_jpg.rf.f78fab19d696305bd0e5dea447cb6363.txt (deflated 60%)\n",
            "  adding: content/outputs/day_rain_YOLOv10_val/labels/frame_00931_jpg.rf.8397c723a0c2fa5157bd08ef9d97110f.txt (deflated 63%)\n",
            "  adding: content/outputs/day_rain_YOLOv10_val/labels/frame_00826_jpg.rf.f5ea524d862ee1eeb68bc56187955594.txt (deflated 61%)\n",
            "  adding: content/outputs/day_rain_YOLOv10_val/labels/frame_00372_jpg.rf.62b80a2832c1502a78268b9fc245d11c.txt (deflated 62%)\n",
            "  adding: content/outputs/day_rain_YOLOv10_val/labels/frame_00925_jpg.rf.7abb0b4236c56da02ce54337a11ab9f4.txt (deflated 63%)\n",
            "  adding: content/outputs/day_rain_YOLOv10_val/labels/frame_00104_jpg.rf.58e003862cf4450e083f8a5971e64a8b.txt (deflated 61%)\n",
            "  adding: content/outputs/day_rain_YOLOv10_val/labels/frame_00289_jpg.rf.c7f1e20fefd215cd2e3e0a618f7c7b81.txt (deflated 62%)\n",
            "  adding: content/outputs/day_rain_YOLOv10_val/labels/frame_00315_jpg.rf.0e807d3e92fa5e0675a8569e1b211dac.txt (deflated 64%)\n",
            "  adding: content/outputs/day_rain_YOLOv10_val/labels/frame_00692_jpg.rf.24848997bf558d19be6a1e03b4b36ce8.txt (deflated 60%)\n",
            "  adding: content/outputs/day_rain_YOLOv10_val/labels/frame_00749_jpg.rf.5c427112871ca57c134f60d9579aabe0.txt (deflated 60%)\n",
            "  adding: content/outputs/day_rain_YOLOv10_val/labels/frame_00259_jpg.rf.b4dd5bbaeed4fd81068fcae49fbcda15.txt (deflated 61%)\n",
            "  adding: content/outputs/day_rain_YOLOv10_val/labels/frame_00623_jpg.rf.0b1aaa01b946c8b28645e7d7c6edd690.txt (deflated 60%)\n",
            "  adding: content/outputs/day_rain_YOLOv10_val/labels/frame_00254_jpg.rf.e419c90c09f97ebd734f5336c392a8d5.txt (deflated 62%)\n",
            "  adding: content/outputs/day_rain_YOLOv10_val/labels/frame_00226_jpg.rf.b37e26a310b846ffbe8fa2b96b5a19b8.txt (deflated 65%)\n",
            "  adding: content/outputs/day_rain_YOLOv10_val/labels/frame_00038_jpg.rf.8e0a8b9c5c6a4472e16dd346fdd8a043.txt (deflated 60%)\n",
            "  adding: content/outputs/day_rain_YOLOv10_val/labels/frame_00286_jpg.rf.79993dd4f2997e91294d853c8d4d545f.txt (deflated 61%)\n",
            "  adding: content/outputs/day_rain_YOLOv10_val/labels/frame_00688_jpg.rf.0ef2587fcc6c77f063ee82862cd67b9e.txt (deflated 60%)\n",
            "  adding: content/outputs/day_rain_YOLOv10_val/labels/frame_00233_jpg.rf.b63f8cc5d05e1144792daacd69a7d641.txt (deflated 65%)\n",
            "  adding: content/outputs/day_rain_YOLOv10_val/labels/frame_00811_jpg.rf.9216d54753083b2892d92d22776f4c3a.txt (deflated 60%)\n",
            "  adding: content/outputs/day_rain_YOLOv10_val/labels/frame_00105_jpg.rf.5177f710be0236aaaaefcbe92bf8ce95.txt (deflated 61%)\n",
            "  adding: content/outputs/day_rain_YOLOv10_val/labels/frame_00301_jpg.rf.96099b2eb99d16af39f22b02a7ef7e3b.txt (deflated 62%)\n",
            "  adding: content/outputs/day_rain_YOLOv10_val/labels/frame_00644_jpg.rf.824926f70ed9cbd40c577da063f3b083.txt (deflated 61%)\n",
            "  adding: content/outputs/day_rain_YOLOv10_val/labels/frame_00103_jpg.rf.37d914d27dc5c36dc7ead43b6dd8684c.txt (deflated 63%)\n",
            "  adding: content/outputs/day_rain_YOLOv10_val/labels/frame_00799_jpg.rf.8397b204ee25f782e42bd8df41553e93.txt (deflated 60%)\n",
            "  adding: content/outputs/day_rain_YOLOv10_val/labels/frame_00385_jpg.rf.8f2e939868f41a681f7e87fa82239b8d.txt (deflated 61%)\n",
            "  adding: content/outputs/day_rain_YOLOv10_val/labels/frame_00031_jpg.rf.6569321ca9af90573154d776ebf4f170.txt (deflated 61%)\n",
            "  adding: content/outputs/day_rain_YOLOv10_val/labels/frame_00604_jpg.rf.27a5218113b95e01965473066b6c579d.txt (deflated 61%)\n",
            "  adding: content/outputs/day_rain_YOLOv10_val/labels/frame_00408_jpg.rf.a5943ba3c3ed07b341d79fe322b22441.txt (deflated 61%)\n",
            "  adding: content/outputs/day_rain_YOLOv10_val/labels/frame_00006_jpg.rf.852ea52f2d6863cd0be184443ad57d1f.txt (deflated 62%)\n",
            "  adding: content/outputs/day_rain_YOLOv10_val/labels/frame_00969_jpg.rf.0f3038ed4518f7984bdd22ac354d0f68.txt (deflated 61%)\n",
            "  adding: content/outputs/day_rain_YOLOv10_val/labels/frame_00065_jpg.rf.6971148c9af460f8097e04be0a823889.txt (deflated 65%)\n",
            "  adding: content/outputs/day_rain_YOLOv10_val/labels/frame_00761_jpg.rf.0e2e8346e6890d25399cc1863878f42f.txt (deflated 61%)\n",
            "  adding: content/outputs/day_rain_YOLOv10_val/labels/frame_00043_jpg.rf.23f0ca68858cf12116c70c9d7b948614.txt (deflated 61%)\n",
            "  adding: content/outputs/day_rain_YOLOv10_val/labels/frame_00946_jpg.rf.9484d9b2f7958b63d2372a22deba6897.txt (deflated 63%)\n",
            "  adding: content/outputs/day_rain_YOLOv10_val/labels/frame_00765_jpg.rf.aa55e9589e3bc75e767e385a978e35de.txt (deflated 60%)\n",
            "  adding: content/outputs/day_rain_YOLOv10_val/labels/frame_00495_jpg.rf.a057cdec9553bc0c79fa6f501feeba2c.txt (deflated 60%)\n",
            "  adding: content/outputs/day_rain_YOLOv10_val/labels/frame_00427_jpg.rf.bcfc04b8fea9b7b8861c83e663b88fa1.txt (deflated 60%)\n",
            "  adding: content/outputs/day_rain_YOLOv10_val/labels/frame_00747_jpg.rf.f5241cd19986b65120a3186ee41271b2.txt (deflated 60%)\n",
            "  adding: content/outputs/day_rain_YOLOv10_val/labels/frame_00334_jpg.rf.985a51d17a34a635bbc0d04f52b7424a.txt (deflated 65%)\n",
            "  adding: content/outputs/day_rain_YOLOv10_val/labels/frame_00698_jpg.rf.e63fc9ddd68f29aaae2b28709a200c0c.txt (deflated 60%)\n",
            "  adding: content/outputs/day_rain_YOLOv10_val/labels/frame_00696_jpg.rf.20337131d961c514f04b51175625dc6a.txt (deflated 60%)\n",
            "  adding: content/outputs/day_rain_YOLOv10_val/labels/frame_00167_jpg.rf.09858c50836e79e12aaf69d9a898a85b.txt (deflated 63%)\n",
            "  adding: content/outputs/day_rain_YOLOv10_val/labels/frame_00321_jpg.rf.8756cde91ac6a70bee37a526172b9066.txt (deflated 64%)\n",
            "  adding: content/outputs/day_rain_YOLOv10_val/labels/frame_00883_jpg.rf.09934b05b852ab213f63df1ead1abfe3.txt (deflated 60%)\n",
            "  adding: content/outputs/day_rain_YOLOv10_val/labels/frame_00355_jpg.rf.a0c5dd1552eda3a8a288d4256e6771b0.txt (deflated 63%)\n",
            "  adding: content/outputs/day_rain_YOLOv10_val/labels/frame_00993_jpg.rf.6217407b2598a90384cf6877835bc7fa.txt (deflated 60%)\n",
            "  adding: content/outputs/day_rain_YOLOv10_val/labels/frame_00622_jpg.rf.821c54dc6809f045a085544f6aa2207a.txt (deflated 60%)\n",
            "  adding: content/outputs/day_rain_YOLOv10_val/labels/frame_00951_jpg.rf.0987dd3d1b59968a272c691bab985826.txt (deflated 62%)\n",
            "  adding: content/outputs/day_rain_YOLOv10_val/labels/frame_00922_jpg.rf.795d948e374964f8768853e7fcf865fd.txt (deflated 62%)\n",
            "  adding: content/outputs/day_rain_YOLOv10_val/labels/frame_00437_jpg.rf.d152bebbd71aba3ecb14fef411696ef8.txt (deflated 60%)\n",
            "  adding: content/outputs/day_rain_YOLOv10_val/labels/frame_00759_jpg.rf.6e686bee4b8b227d2bdf8dc5997914af.txt (deflated 60%)\n",
            "  adding: content/outputs/day_rain_YOLOv10_val/labels/frame_00095_jpg.rf.c4112f2f37d0b259a09ebe030a4ab3b5.txt (deflated 62%)\n",
            "  adding: content/outputs/day_rain_YOLOv10_val/labels/frame_00392_jpg.rf.ac9dcea0deb39b84c4d8c922acdcef0a.txt (deflated 61%)\n",
            "  adding: content/outputs/day_rain_YOLOv10_val/labels/frame_00960_jpg.rf.e2290b086e8fb88b30a2cd1f1b5c3749.txt (deflated 60%)\n",
            "  adding: content/outputs/day_rain_YOLOv10_val/labels/frame_00395_jpg.rf.8b50b3f69a48dba89ef72d0363e1e057.txt (deflated 62%)\n",
            "  adding: content/outputs/day_rain_YOLOv10_val/labels/frame_00773_jpg.rf.c5e9e54140e7cfb2a88fea556356ff98.txt (deflated 60%)\n",
            "  adding: content/outputs/day_rain_YOLOv10_val/labels/frame_00626_jpg.rf.851193a8142cd5bc020623ff0cb605cc.txt (deflated 61%)\n",
            "  adding: content/outputs/day_rain_YOLOv10_val/labels/frame_00246_jpg.rf.50a005f9e498674ece6429b93eefa8fb.txt (deflated 62%)\n",
            "  adding: content/outputs/day_rain_YOLOv10_val/labels/frame_00406_jpg.rf.63ab838267b6f28cd7f33fb4aed43f8a.txt (deflated 61%)\n",
            "  adding: content/outputs/day_rain_YOLOv10_val/labels/frame_00276_jpg.rf.f0cc724b0d8b211b408b555c119c2fea.txt (deflated 63%)\n",
            "  adding: content/outputs/day_rain_YOLOv10_val/labels/frame_00983_jpg.rf.6af33c8b46318df1e16e4376b588090b.txt (deflated 62%)\n",
            "  adding: content/outputs/day_rain_YOLOv10_val/labels/frame_00444_jpg.rf.ba7d0705ec4f5a59f5b6ff93b90512e4.txt (deflated 60%)\n",
            "  adding: content/outputs/day_rain_YOLOv10_val/labels/frame_00409_jpg.rf.1e31fb20606520b95492234c6adf05ff.txt (deflated 61%)\n",
            "  adding: content/outputs/day_rain_YOLOv10_val/labels/frame_00943_jpg.rf.ec8dacd42d7336408f3c589d746d19c3.txt (deflated 64%)\n",
            "  adding: content/outputs/day_rain_YOLOv10_val/labels/frame_00467_jpg.rf.4d5ca31feb00485317fb6fe6744d6008.txt (deflated 60%)\n",
            "  adding: content/outputs/day_rain_YOLOv10_val/labels/frame_00527_jpg.rf.b2ceea0247b452dbf5b05c7ed1310118.txt (deflated 63%)\n",
            "  adding: content/outputs/day_rain_YOLOv10_val/labels/frame_00712_jpg.rf.99a54d6ca00516b9d924bef7f3ac02b7.txt (deflated 60%)\n",
            "  adding: content/outputs/day_rain_YOLOv10_val/labels/frame_00997_jpg.rf.5cea3687782dd0c3d92056e6d1db94e4.txt (deflated 61%)\n",
            "  adding: content/outputs/day_rain_YOLOv10_val/labels/frame_00877_jpg.rf.3b6d5f4c9f5a99a79bd2828741d238a2.txt (deflated 60%)\n",
            "  adding: content/outputs/day_rain_YOLOv10_val/labels/frame_00962_jpg.rf.fb49bb5bf60c7653b7c183d9bc9b3c8c.txt (deflated 61%)\n",
            "  adding: content/outputs/day_rain_YOLOv10_val/labels/frame_00662_jpg.rf.9b225054dc0ce8a72fcf1a12dfe2c9c4.txt (deflated 61%)\n",
            "  adding: content/outputs/day_rain_YOLOv10_val/labels/frame_00769_jpg.rf.28db547f0fdddf9430be171bb722a707.txt (deflated 61%)\n",
            "  adding: content/outputs/day_rain_YOLOv10_val/labels/frame_00503_jpg.rf.6a4c21e3b7e930d2a9846c8df745b448.txt (deflated 60%)\n",
            "  adding: content/outputs/day_rain_YOLOv10_val/labels/frame_00343_jpg.rf.0f2c2510b77692e49c94a3562f40d1fb.txt (deflated 64%)\n",
            "  adding: content/outputs/day_rain_YOLOv10_val/labels/frame_00189_jpg.rf.2f9b08bca840bba93e7177881c63a199.txt (deflated 62%)\n",
            "  adding: content/outputs/day_rain_YOLOv10_val/labels/frame_00453_jpg.rf.ffe862b17cd2cb994a00f7d0940e5b2f.txt (deflated 60%)\n",
            "  adding: content/outputs/day_rain_YOLOv10_val/labels/frame_00918_jpg.rf.896fa0f94c2c79aacad0d879d13d2ef0.txt (deflated 63%)\n",
            "  adding: content/outputs/day_rain_YOLOv10_val/labels/frame_00435_jpg.rf.f9ccc5f9be6dc9d0b9bb38aca2228866.txt (deflated 60%)\n",
            "  adding: content/outputs/day_rain_YOLOv10_val/labels/frame_00299_jpg.rf.0889bdb26eed7804543fb7430667d60d.txt (deflated 64%)\n",
            "  adding: content/outputs/day_rain_YOLOv10_val/labels/frame_00717_jpg.rf.35a77785c3c53b1f414fe65bbb9f1dbe.txt (deflated 61%)\n",
            "  adding: content/outputs/day_rain_YOLOv10_val/labels/frame_00028_jpg.rf.81f7677aa932b36d6e7c2189a38edc39.txt (deflated 60%)\n",
            "  adding: content/outputs/day_rain_YOLOv10_val/labels/frame_00415_jpg.rf.6adbe69b0208c2c7dd6d526b888ee4e8.txt (deflated 60%)\n",
            "  adding: content/outputs/day_rain_YOLOv10_val/labels/frame_00328_jpg.rf.4ea71772cd3163590fe99e6c02278ce9.txt (deflated 63%)\n",
            "  adding: content/outputs/day_rain_YOLOv10_val/labels/frame_00965_jpg.rf.e07b81d95f7d8012dff7425ea1f9dbb5.txt (deflated 62%)\n",
            "  adding: content/outputs/day_rain_YOLOv10_val/labels/frame_00844_jpg.rf.2ca239f1d61056ccfbf40639e528ac9e.txt (deflated 61%)\n",
            "  adding: content/outputs/day_rain_YOLOv10_val/labels/frame_00183_jpg.rf.1ae4424e834301789acca4870b7221f9.txt (deflated 64%)\n",
            "  adding: content/outputs/day_rain_YOLOv10_val/labels/frame_00707_jpg.rf.4a546727b747ba01f28f38717cf86e2c.txt (deflated 61%)\n",
            "  adding: content/outputs/day_rain_YOLOv10_val/labels/frame_00455_jpg.rf.82b4f247de6d824649428c9b1dec20af.txt (deflated 60%)\n",
            "  adding: content/outputs/day_rain_YOLOv10_val/labels/frame_00880_jpg.rf.d8bbe8bdf7fb75e7893c7b8911023bb4.txt (deflated 59%)\n",
            "  adding: content/outputs/day_rain_YOLOv10_val/labels/frame_00737_jpg.rf.d6d63d778f05fd37f62edda2190cf06a.txt (deflated 59%)\n",
            "  adding: content/outputs/day_rain_YOLOv10_val/labels/frame_00991_jpg.rf.c4319a30d8ea56c2f02ec6d7087bd0ac.txt (deflated 61%)\n",
            "  adding: content/outputs/day_rain_YOLOv10_val/labels/frame_00228_jpg.rf.a26cec6208ffa5db56c5ba50f7c5673d.txt (deflated 64%)\n",
            "  adding: content/outputs/day_rain_YOLOv10_val/labels/frame_00513_jpg.rf.77845c77bd57e53193dc4c7f90ce43d7.txt (deflated 60%)\n",
            "  adding: content/outputs/day_rain_YOLOv10_val/labels/frame_00782_jpg.rf.21b3813d8052ad2e938adf911ae31aff.txt (deflated 61%)\n",
            "  adding: content/outputs/day_rain_YOLOv10_val/labels/frame_00869_jpg.rf.258e6e1f1e8ab4e3f28737a39c24c178.txt (deflated 60%)\n",
            "  adding: content/outputs/day_rain_YOLOv10_val/labels/frame_00030_jpg.rf.b66365f7b059d92ce938dcb2f7e1e2d2.txt (deflated 61%)\n",
            "  adding: content/outputs/day_rain_YOLOv10_val/labels/frame_00307_jpg.rf.64626839e578cc37cf367961ca166454.txt (deflated 62%)\n",
            "  adding: content/outputs/day_rain_YOLOv10_val/labels/frame_00306_jpg.rf.2e45da9a4008097b65ba56406100f19f.txt (deflated 63%)\n",
            "  adding: content/outputs/day_rain_YOLOv10_val/labels/frame_00109_jpg.rf.84779fc62297de508f8b5523fa3d64da.txt (deflated 61%)\n",
            "  adding: content/outputs/day_rain_YOLOv10_val/labels/frame_00959_jpg.rf.664f769cb40b7bdbb46804bffd504b5d.txt (deflated 61%)\n",
            "  adding: content/outputs/day_rain_YOLOv10_val/labels/frame_00337_jpg.rf.0e24581d76058b077c387314c419c094.txt (deflated 65%)\n",
            "  adding: content/outputs/day_rain_YOLOv10_val/labels/frame_00188_jpg.rf.8753f589d279021720505b2f545d2747.txt (deflated 62%)\n",
            "  adding: content/outputs/day_rain_YOLOv10_val/labels/frame_00580_jpg.rf.4eca2b8d962ea0ad5ee2a4ff099ec47c.txt (deflated 61%)\n",
            "  adding: content/outputs/day_rain_YOLOv10_val/labels/frame_00879_jpg.rf.f24e3679dcc256b8dee53e390c958df2.txt (deflated 60%)\n",
            "  adding: content/outputs/day_rain_YOLOv10_val/labels/frame_00839_jpg.rf.d1172a0b7cfa34d7e2a323b7a4cb28e7.txt (deflated 61%)\n",
            "  adding: content/outputs/day_rain_YOLOv10_val/labels/frame_00555_jpg.rf.fc23247cf6f1f5896f890ec0df3610c6.txt (deflated 62%)\n",
            "  adding: content/outputs/day_rain_YOLOv10_val/labels/frame_00452_jpg.rf.b482e7a40c81ea23152ed7d910d76369.txt (deflated 60%)\n",
            "  adding: content/outputs/day_rain_YOLOv10_val/labels/frame_00340_jpg.rf.fff345a711bcc5cc2e7b6c58defc1bf5.txt (deflated 65%)\n",
            "  adding: content/outputs/day_rain_YOLOv10_val/labels/frame_00772_jpg.rf.a3c096d411482c5b1f38d6a04156d5e3.txt (deflated 60%)\n",
            "  adding: content/outputs/day_rain_YOLOv10_val/labels/frame_00801_jpg.rf.d27d90cdbab98853f72d96b6293e2e72.txt (deflated 61%)\n",
            "  adding: content/outputs/day_rain_YOLOv10_val/labels/frame_00014_jpg.rf.5b780e9f323e5aa47db43855a81ea506.txt (deflated 63%)\n",
            "  adding: content/outputs/day_rain_YOLOv10_val/labels/frame_00953_jpg.rf.6833469f8cba6c1ccfa88fa9137d1d2c.txt (deflated 63%)\n",
            "  adding: content/outputs/day_rain_YOLOv10_val/labels/frame_00940_jpg.rf.07ad9d393a2e396f9512974bcde92d0d.txt (deflated 62%)\n",
            "  adding: content/outputs/day_rain_YOLOv10_val/labels/frame_00458_jpg.rf.9b952c6ab2eda1a50a4f12995b4dfebc.txt (deflated 60%)\n",
            "  adding: content/outputs/day_rain_YOLOv10_val/labels/frame_00518_jpg.rf.609fd034515f7abb30b6825a302c0adb.txt (deflated 61%)\n",
            "  adding: content/outputs/day_rain_YOLOv10_val/labels/frame_00214_jpg.rf.a7a1c49cee458af80471df0521b2bcc1.txt (deflated 64%)\n",
            "  adding: content/outputs/day_rain_YOLOv10_val/labels/frame_00955_jpg.rf.2bc7c2a0630f04fead4e5a9aa72d62ee.txt (deflated 60%)\n",
            "  adding: content/outputs/day_rain_YOLOv10_val/labels/frame_00961_jpg.rf.61dbef555901db3513221c40e9ca5106.txt (deflated 61%)\n",
            "  adding: content/outputs/day_rain_YOLOv10_val/labels/frame_00179_jpg.rf.089394e4d1cfc1dd3f4d6077c1a3a7ad.txt (deflated 62%)\n",
            "  adding: content/outputs/day_rain_YOLOv10_val/labels/frame_00657_jpg.rf.05f86aebaf939b7a2da6c870a0e3155c.txt (deflated 61%)\n",
            "  adding: content/outputs/day_rain_YOLOv10_val/labels/frame_00967_jpg.rf.0936e7f29b981e7a888e1c7c86559918.txt (deflated 61%)\n",
            "  adding: content/outputs/day_rain_YOLOv10_val/labels/frame_00107_jpg.rf.436a2d4941f042e4c8f966973791069b.txt (deflated 61%)\n",
            "  adding: content/outputs/day_rain_YOLOv10_val/labels/frame_00173_jpg.rf.54ae5d26f0aaa62c8c50a64f2d671e1f.txt (deflated 61%)\n",
            "  adding: content/outputs/day_rain_YOLOv10_val/labels/frame_00023_jpg.rf.b7608825759ecf63c7f79a4e2bef1a74.txt (deflated 60%)\n",
            "  adding: content/outputs/day_rain_YOLOv10_val/labels/frame_00583_jpg.rf.ef3b224e4b298e6fc113c06d03271317.txt (deflated 61%)\n",
            "  adding: content/outputs/day_rain_YOLOv10_val/labels/frame_00738_jpg.rf.9b9c617d1b337464fac967edc1fe9f6a.txt (deflated 60%)\n",
            "  adding: content/outputs/day_rain_YOLOv10_val/labels/frame_00126_jpg.rf.ada92297b0c76cf85548122606850a6f.txt (deflated 61%)\n",
            "  adding: content/outputs/day_rain_YOLOv10_val/labels/frame_00499_jpg.rf.e9fd2a828a104d37e49c3922f95cafdd.txt (deflated 60%)\n",
            "  adding: content/outputs/day_rain_YOLOv10_val/labels/frame_00982_jpg.rf.83d585c1e2bbbfec0313143f1bfc771f.txt (deflated 60%)\n",
            "  adding: content/outputs/day_rain_YOLOv10_val/labels/frame_00045_jpg.rf.e93e29e57c56532b3b7b7466ecbaadf0.txt (deflated 61%)\n",
            "  adding: content/outputs/day_rain_YOLOv10_val/labels/frame_00598_jpg.rf.bf0c180824df0b73d533df073c04c51e.txt (deflated 61%)\n",
            "  adding: content/outputs/day_rain_YOLOv10_val/labels/frame_00857_jpg.rf.e71045188a43d0e68b52e77addeeab8c.txt (deflated 60%)\n",
            "  adding: content/outputs/day_rain_YOLOv10_val/labels/frame_00184_jpg.rf.b594831d8800916e00a31f45f3713e0b.txt (deflated 63%)\n",
            "  adding: content/outputs/day_rain_YOLOv10_val/labels/frame_00885_jpg.rf.5588aa2280fc0bf40acbcb044ec77b58.txt (deflated 60%)\n",
            "  adding: content/outputs/day_rain_YOLOv10_val/labels/frame_00754_jpg.rf.a3268f6a6a49ea04e8799a51350690c4.txt (deflated 60%)\n",
            "  adding: content/outputs/day_rain_YOLOv10_val/labels/frame_00611_jpg.rf.2b1e54d60a109d6028531195afef63ee.txt (deflated 60%)\n",
            "  adding: content/outputs/day_rain_YOLOv10_val/labels/frame_00854_jpg.rf.911a8ebdd0874abdb0b62158aee97c34.txt (deflated 61%)\n",
            "  adding: content/outputs/day_rain_YOLOv10_val/labels/frame_00175_jpg.rf.83ef66a6d79f78a5f9b31e801c16e0e8.txt (deflated 63%)\n",
            "  adding: content/outputs/day_rain_YOLOv10_val/labels/frame_00326_jpg.rf.3ea315d078655bb140d91ccd500826f2.txt (deflated 62%)\n",
            "  adding: content/outputs/day_rain_YOLOv10_val/labels/frame_00234_jpg.rf.396acd324592306924ab6c2b49fb852e.txt (deflated 64%)\n",
            "  adding: content/outputs/day_rain_YOLOv10_val/labels/frame_00341_jpg.rf.2a5d4af170be673b07073da4bb5afe9f.txt (deflated 64%)\n",
            "  adding: content/outputs/day_rain_YOLOv10_val/labels/frame_00200_jpg.rf.e1cb752d06d08342950690d15fc8b9fd.txt (deflated 63%)\n",
            "  adding: content/outputs/day_rain_YOLOv10_val/labels/frame_00872_jpg.rf.04a366f94e9d0293c29eec33a0b2cdda.txt (deflated 60%)\n",
            "  adding: content/outputs/day_rain_YOLOv10_val/labels/frame_00768_jpg.rf.de51429feb1645109003ca33575a299b.txt (deflated 61%)\n",
            "  adding: content/outputs/day_rain_YOLOv10_val/BoxF1_curve.png (deflated 7%)\n",
            "  adding: content/outputs/day_rain_YOLOv10_val/BoxPR_curve.png (deflated 9%)\n",
            "  adding: content/outputs/day_rain_YOLOv10_val/val_batch2_labels.jpg (deflated 7%)\n",
            "  adding: content/outputs/day_rain_YOLOv10_val/val_batch2_pred.jpg (deflated 6%)\n",
            "  adding: content/outputs/day_rain_YOLOv10_val/BoxP_curve.png (deflated 8%)\n",
            "  adding: content/outputs/day_rain_YOLOv10_val/predictions.json (deflated 86%)\n",
            "  adding: content/outputs/day_rain_YOLOv10_val/val_batch1_labels.jpg (deflated 6%)\n",
            "  adding: content/outputs/day_rain_YOLOv10_val/val_batch1_pred.jpg (deflated 6%)\n",
            "  adding: content/outputs/day_rain_YOLOv10/ (stored 0%)\n",
            "  adding: content/outputs/day_rain_YOLOv10/metrics.txt (deflated 18%)\n",
            "  adding: content/outputs/night_rain_YOLOv10_train/ (stored 0%)\n",
            "  adding: content/outputs/night_rain_YOLOv10_train/train_batch1.jpg (deflated 7%)\n",
            "  adding: content/outputs/night_rain_YOLOv10_train/args.yaml (deflated 53%)\n",
            "  adding: content/outputs/night_rain_YOLOv10_train/train_batch2402.jpg (deflated 11%)\n",
            "  adding: content/outputs/night_rain_YOLOv10_train/confusion_matrix.png (deflated 25%)\n",
            "  adding: content/outputs/night_rain_YOLOv10_train/train_batch2401.jpg (deflated 13%)\n",
            "  adding: content/outputs/night_rain_YOLOv10_train/confusion_matrix_normalized.png (deflated 22%)\n",
            "  adding: content/outputs/night_rain_YOLOv10_train/BoxR_curve.png (deflated 9%)\n",
            "  adding: content/outputs/night_rain_YOLOv10_train/labels.jpg (deflated 43%)\n",
            "  adding: content/outputs/night_rain_YOLOv10_train/val_batch0_pred.jpg (deflated 15%)\n",
            "  adding: content/outputs/night_rain_YOLOv10_train/val_batch0_labels.jpg (deflated 15%)\n",
            "  adding: content/outputs/night_rain_YOLOv10_train/results.csv (deflated 59%)\n",
            "  adding: content/outputs/night_rain_YOLOv10_train/BoxF1_curve.png (deflated 7%)\n",
            "  adding: content/outputs/night_rain_YOLOv10_train/BoxPR_curve.png (deflated 13%)\n",
            "  adding: content/outputs/night_rain_YOLOv10_train/val_batch2_labels.jpg (deflated 13%)\n",
            "  adding: content/outputs/night_rain_YOLOv10_train/val_batch2_pred.jpg (deflated 12%)\n",
            "  adding: content/outputs/night_rain_YOLOv10_train/labels_correlogram.jpg (deflated 45%)\n",
            "  adding: content/outputs/night_rain_YOLOv10_train/results.png (deflated 8%)\n",
            "  adding: content/outputs/night_rain_YOLOv10_train/weights/ (stored 0%)\n",
            "  adding: content/outputs/night_rain_YOLOv10_train/weights/last.pt (deflated 12%)\n",
            "  adding: content/outputs/night_rain_YOLOv10_train/weights/best.pt (deflated 12%)\n",
            "  adding: content/outputs/night_rain_YOLOv10_train/BoxP_curve.png (deflated 10%)\n",
            "  adding: content/outputs/night_rain_YOLOv10_train/train_batch0.jpg (deflated 7%)\n",
            "  adding: content/outputs/night_rain_YOLOv10_train/val_batch1_labels.jpg (deflated 12%)\n",
            "  adding: content/outputs/night_rain_YOLOv10_train/val_batch1_pred.jpg (deflated 12%)\n",
            "  adding: content/outputs/night_rain_YOLOv10_train/train_batch2400.jpg (deflated 14%)\n",
            "  adding: content/outputs/night_rain_YOLOv10_train/train_batch2.jpg (deflated 6%)\n",
            "  adding: content/outputs/day_rain_YOLOv10_train/ (stored 0%)\n",
            "  adding: content/outputs/day_rain_YOLOv10_train/train_batch2302.jpg (deflated 5%)\n",
            "  adding: content/outputs/day_rain_YOLOv10_train/train_batch1.jpg (deflated 2%)\n",
            "  adding: content/outputs/day_rain_YOLOv10_train/args.yaml (deflated 53%)\n",
            "  adding: content/outputs/day_rain_YOLOv10_train/confusion_matrix.png (deflated 23%)\n",
            "  adding: content/outputs/day_rain_YOLOv10_train/confusion_matrix_normalized.png (deflated 21%)\n",
            "  adding: content/outputs/day_rain_YOLOv10_train/BoxR_curve.png (deflated 7%)\n",
            "  adding: content/outputs/day_rain_YOLOv10_train/labels.jpg (deflated 40%)\n",
            "  adding: content/outputs/day_rain_YOLOv10_train/val_batch0_pred.jpg (deflated 5%)\n",
            "  adding: content/outputs/day_rain_YOLOv10_train/val_batch0_labels.jpg (deflated 5%)\n",
            "  adding: content/outputs/day_rain_YOLOv10_train/results.csv (deflated 59%)\n",
            "  adding: content/outputs/day_rain_YOLOv10_train/BoxF1_curve.png (deflated 7%)\n",
            "  adding: content/outputs/day_rain_YOLOv10_train/BoxPR_curve.png (deflated 9%)\n",
            "  adding: content/outputs/day_rain_YOLOv10_train/val_batch2_labels.jpg (deflated 6%)\n",
            "  adding: content/outputs/day_rain_YOLOv10_train/train_batch2300.jpg (deflated 5%)\n",
            "  adding: content/outputs/day_rain_YOLOv10_train/val_batch2_pred.jpg (deflated 6%)\n",
            "  adding: content/outputs/day_rain_YOLOv10_train/labels_correlogram.jpg (deflated 35%)\n",
            "  adding: content/outputs/day_rain_YOLOv10_train/results.png (deflated 8%)\n",
            "  adding: content/outputs/day_rain_YOLOv10_train/weights/ (stored 0%)\n",
            "  adding: content/outputs/day_rain_YOLOv10_train/weights/last.pt (deflated 12%)\n",
            "  adding: content/outputs/day_rain_YOLOv10_train/weights/best.pt (deflated 12%)\n",
            "  adding: content/outputs/day_rain_YOLOv10_train/train_batch2301.jpg (deflated 6%)\n",
            "  adding: content/outputs/day_rain_YOLOv10_train/BoxP_curve.png (deflated 8%)\n",
            "  adding: content/outputs/day_rain_YOLOv10_train/train_batch0.jpg (deflated 2%)\n",
            "  adding: content/outputs/day_rain_YOLOv10_train/val_batch1_labels.jpg (deflated 7%)\n",
            "  adding: content/outputs/day_rain_YOLOv10_train/val_batch1_pred.jpg (deflated 7%)\n",
            "  adding: content/outputs/day_rain_YOLOv10_train/train_batch2.jpg (deflated 1%)\n"
          ]
        },
        {
          "output_type": "display_data",
          "data": {
            "text/plain": [
              "<IPython.core.display.Javascript object>"
            ],
            "application/javascript": [
              "\n",
              "    async function download(id, filename, size) {\n",
              "      if (!google.colab.kernel.accessAllowed) {\n",
              "        return;\n",
              "      }\n",
              "      const div = document.createElement('div');\n",
              "      const label = document.createElement('label');\n",
              "      label.textContent = `Downloading \"${filename}\": `;\n",
              "      div.appendChild(label);\n",
              "      const progress = document.createElement('progress');\n",
              "      progress.max = size;\n",
              "      div.appendChild(progress);\n",
              "      document.body.appendChild(div);\n",
              "\n",
              "      const buffers = [];\n",
              "      let downloaded = 0;\n",
              "\n",
              "      const channel = await google.colab.kernel.comms.open(id);\n",
              "      // Send a message to notify the kernel that we're ready.\n",
              "      channel.send({})\n",
              "\n",
              "      for await (const message of channel.messages) {\n",
              "        // Send a message to notify the kernel that we're ready.\n",
              "        channel.send({})\n",
              "        if (message.buffers) {\n",
              "          for (const buffer of message.buffers) {\n",
              "            buffers.push(buffer);\n",
              "            downloaded += buffer.byteLength;\n",
              "            progress.value = downloaded;\n",
              "          }\n",
              "        }\n",
              "      }\n",
              "      const blob = new Blob(buffers, {type: 'application/binary'});\n",
              "      const a = document.createElement('a');\n",
              "      a.href = window.URL.createObjectURL(blob);\n",
              "      a.download = filename;\n",
              "      div.appendChild(a);\n",
              "      a.click();\n",
              "      div.remove();\n",
              "    }\n",
              "  "
            ]
          },
          "metadata": {}
        },
        {
          "output_type": "display_data",
          "data": {
            "text/plain": [
              "<IPython.core.display.Javascript object>"
            ],
            "application/javascript": [
              "download(\"download_0e7ce5eb-cb26-47fb-b866-1ba2d9f38a67\", \"outputs.zip\", 91834788)"
            ]
          },
          "metadata": {}
        },
        {
          "output_type": "display_data",
          "data": {
            "text/plain": [
              "<IPython.core.display.Javascript object>"
            ],
            "application/javascript": [
              "\n",
              "    async function download(id, filename, size) {\n",
              "      if (!google.colab.kernel.accessAllowed) {\n",
              "        return;\n",
              "      }\n",
              "      const div = document.createElement('div');\n",
              "      const label = document.createElement('label');\n",
              "      label.textContent = `Downloading \"${filename}\": `;\n",
              "      div.appendChild(label);\n",
              "      const progress = document.createElement('progress');\n",
              "      progress.max = size;\n",
              "      div.appendChild(progress);\n",
              "      document.body.appendChild(div);\n",
              "\n",
              "      const buffers = [];\n",
              "      let downloaded = 0;\n",
              "\n",
              "      const channel = await google.colab.kernel.comms.open(id);\n",
              "      // Send a message to notify the kernel that we're ready.\n",
              "      channel.send({})\n",
              "\n",
              "      for await (const message of channel.messages) {\n",
              "        // Send a message to notify the kernel that we're ready.\n",
              "        channel.send({})\n",
              "        if (message.buffers) {\n",
              "          for (const buffer of message.buffers) {\n",
              "            buffers.push(buffer);\n",
              "            downloaded += buffer.byteLength;\n",
              "            progress.value = downloaded;\n",
              "          }\n",
              "        }\n",
              "      }\n",
              "      const blob = new Blob(buffers, {type: 'application/binary'});\n",
              "      const a = document.createElement('a');\n",
              "      a.href = window.URL.createObjectURL(blob);\n",
              "      a.download = filename;\n",
              "      div.appendChild(a);\n",
              "      a.click();\n",
              "      div.remove();\n",
              "    }\n",
              "  "
            ]
          },
          "metadata": {}
        },
        {
          "output_type": "display_data",
          "data": {
            "text/plain": [
              "<IPython.core.display.Javascript object>"
            ],
            "application/javascript": [
              "download(\"download_97d7e951-c511-43f6-af42-ea432f43d3c2\", \"yolo_comparison_all_datasets.docx\", 37286)"
            ]
          },
          "metadata": {}
        }
      ]
    }
  ]
}